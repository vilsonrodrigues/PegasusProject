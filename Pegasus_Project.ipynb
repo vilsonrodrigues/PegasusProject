{
  "nbformat": 4,
  "nbformat_minor": 0,
  "metadata": {
    "colab": {
      "name": "Pegasus Project.ipynb",
      "provenance": [],
      "collapsed_sections": [
        "AkX_bd1-_d9t",
        "xVGjUhwfgdyU",
        "dPJkvE0hDsB8"
      ],
      "include_colab_link": true
    },
    "kernelspec": {
      "name": "python3",
      "display_name": "Python 3"
    }
  },
  "cells": [
    {
      "cell_type": "markdown",
      "metadata": {
        "id": "view-in-github",
        "colab_type": "text"
      },
      "source": [
        "<a href=\"https://colab.research.google.com/github/vilsonrodrigues/PegasusProject/blob/master/Pegasus_Project.ipynb\" target=\"_parent\"><img src=\"https://colab.research.google.com/assets/colab-badge.svg\" alt=\"Open In Colab\"/></a>"
      ]
    },
    {
      "cell_type": "markdown",
      "metadata": {
        "id": "O3ZluJzvG0zY",
        "colab_type": "text"
      },
      "source": [
        "Importando bibliotecas"
      ]
    },
    {
      "cell_type": "code",
      "metadata": {
        "id": "4-0eMFP8Gsr1",
        "colab_type": "code",
        "colab": {}
      },
      "source": [
        "import pandas as pd\n",
        "import numpy as np\n",
        "import networkx as nx\n",
        "\n",
        "import matplotlib.pyplot as plt\n",
        "from matplotlib.lines import Line2D\n",
        "import plotly.graph_objects as go"
      ],
      "execution_count": 0,
      "outputs": []
    },
    {
      "cell_type": "markdown",
      "metadata": {
        "id": "SYnhaXzrEpxR",
        "colab_type": "text"
      },
      "source": [
        "Leitura do CSV"
      ]
    },
    {
      "cell_type": "code",
      "metadata": {
        "id": "sY6F7EaqG6si",
        "colab_type": "code",
        "outputId": "8fd8a182-b1c4-462f-c3fd-2799473a62b8",
        "colab": {
          "base_uri": "https://localhost:8080/",
          "height": 168
        }
      },
      "source": [
        "tab = pd.read_csv(\"https://raw.githubusercontent.com/vilsonrodrigues/PegasusProject/master/Data%20Bases/submissoesDiferetesEIguaisA100.csv\")\n",
        "tab = tab.drop(columns={\"Unnamed: 0\"})\n",
        "tab.head(1)"
      ],
      "execution_count": 43,
      "outputs": [
        {
          "output_type": "execute_result",
          "data": {
            "text/html": [
              "<div>\n",
              "<style scoped>\n",
              "    .dataframe tbody tr th:only-of-type {\n",
              "        vertical-align: middle;\n",
              "    }\n",
              "\n",
              "    .dataframe tbody tr th {\n",
              "        vertical-align: top;\n",
              "    }\n",
              "\n",
              "    .dataframe thead th {\n",
              "        text-align: right;\n",
              "    }\n",
              "</style>\n",
              "<table border=\"1\" class=\"dataframe\">\n",
              "  <thead>\n",
              "    <tr style=\"text-align: right;\">\n",
              "      <th></th>\n",
              "      <th>idAluno</th>\n",
              "      <th>nota</th>\n",
              "      <th>situacao</th>\n",
              "      <th>submissões diferentes e iguais a 100% semana 1</th>\n",
              "      <th>submissões diferentes e iguais a 100% semana 2</th>\n",
              "      <th>submissões diferentes e iguais a 100% semana 3</th>\n",
              "      <th>submissões diferentes e iguais a 100% semana 4</th>\n",
              "      <th>submissões diferentes e iguais a 100% semana 5</th>\n",
              "      <th>submissões diferentes e iguais a 100% semana 6</th>\n",
              "      <th>submissões diferentes e iguais a 100% semana 7</th>\n",
              "      <th>submissões diferentes e iguais a 100% semana 8</th>\n",
              "      <th>submissões diferentes e iguais a 100% semana 9</th>\n",
              "      <th>submissões diferentes e iguais a 100% semana 10</th>\n",
              "      <th>submissões diferentes e iguais a 100% semana 11</th>\n",
              "      <th>submissões diferentes e iguais a 100% semana 12</th>\n",
              "      <th>submissões diferentes e iguais a 100% semana 13</th>\n",
              "      <th>submissões diferentes e iguais a 100% semana 14</th>\n",
              "      <th>submissões diferentes e iguais a 100% semana 15</th>\n",
              "      <th>submissões diferentes e iguais a 100% semana 16</th>\n",
              "      <th>submissões diferentes e iguais a 100% semana 17</th>\n",
              "      <th>submissões diferentes e iguais a 100% semana 18</th>\n",
              "    </tr>\n",
              "  </thead>\n",
              "  <tbody>\n",
              "    <tr>\n",
              "      <th>0</th>\n",
              "      <td>5991cb910be9d42f2f68b906</td>\n",
              "      <td>7.9</td>\n",
              "      <td>APROVADO</td>\n",
              "      <td>0.0</td>\n",
              "      <td>0.0</td>\n",
              "      <td>0.0</td>\n",
              "      <td>0.0</td>\n",
              "      <td>0.0</td>\n",
              "      <td>0.0</td>\n",
              "      <td>0.0</td>\n",
              "      <td>0.0</td>\n",
              "      <td>0.0</td>\n",
              "      <td>0.0</td>\n",
              "      <td>0.0</td>\n",
              "      <td>0.0</td>\n",
              "      <td>0.0</td>\n",
              "      <td>0.0</td>\n",
              "      <td>0.0</td>\n",
              "      <td>0.0</td>\n",
              "      <td>0.0</td>\n",
              "      <td>0.0</td>\n",
              "    </tr>\n",
              "  </tbody>\n",
              "</table>\n",
              "</div>"
            ],
            "text/plain": [
              "                    idAluno  ... submissões diferentes e iguais a 100% semana 18\n",
              "0  5991cb910be9d42f2f68b906  ...                                             0.0\n",
              "\n",
              "[1 rows x 21 columns]"
            ]
          },
          "metadata": {
            "tags": []
          },
          "execution_count": 43
        }
      ]
    },
    {
      "cell_type": "code",
      "metadata": {
        "id": "eb-QSd1Gtb8N",
        "colab_type": "code",
        "outputId": "32cc0751-c1e8-4c36-cd81-ed448fe6c8b9",
        "colab": {
          "base_uri": "https://localhost:8080/",
          "height": 459
        }
      },
      "source": [
        "tab.info()"
      ],
      "execution_count": 44,
      "outputs": [
        {
          "output_type": "stream",
          "text": [
            "<class 'pandas.core.frame.DataFrame'>\n",
            "RangeIndex: 23163 entries, 0 to 23162\n",
            "Data columns (total 21 columns):\n",
            "idAluno                                            23163 non-null object\n",
            "nota                                               23163 non-null object\n",
            "situacao                                           23163 non-null object\n",
            "submissões diferentes e iguais a 100% semana 1     23163 non-null float64\n",
            "submissões diferentes e iguais a 100% semana 2     23163 non-null float64\n",
            "submissões diferentes e iguais a 100% semana 3     23163 non-null float64\n",
            "submissões diferentes e iguais a 100% semana 4     23163 non-null float64\n",
            "submissões diferentes e iguais a 100% semana 5     23163 non-null float64\n",
            "submissões diferentes e iguais a 100% semana 6     23163 non-null float64\n",
            "submissões diferentes e iguais a 100% semana 7     23163 non-null float64\n",
            "submissões diferentes e iguais a 100% semana 8     23163 non-null float64\n",
            "submissões diferentes e iguais a 100% semana 9     23163 non-null float64\n",
            "submissões diferentes e iguais a 100% semana 10    23163 non-null float64\n",
            "submissões diferentes e iguais a 100% semana 11    23163 non-null float64\n",
            "submissões diferentes e iguais a 100% semana 12    23163 non-null float64\n",
            "submissões diferentes e iguais a 100% semana 13    23163 non-null float64\n",
            "submissões diferentes e iguais a 100% semana 14    23163 non-null float64\n",
            "submissões diferentes e iguais a 100% semana 15    23163 non-null float64\n",
            "submissões diferentes e iguais a 100% semana 16    23163 non-null float64\n",
            "submissões diferentes e iguais a 100% semana 17    23163 non-null float64\n",
            "submissões diferentes e iguais a 100% semana 18    23163 non-null float64\n",
            "dtypes: float64(18), object(3)\n",
            "memory usage: 3.7+ MB\n"
          ],
          "name": "stdout"
        }
      ]
    },
    {
      "cell_type": "markdown",
      "metadata": {
        "id": "XxAX3qdDG-CW",
        "colab_type": "text"
      },
      "source": [
        "Instalando a SOM"
      ]
    },
    {
      "cell_type": "code",
      "metadata": {
        "id": "fk7E7BLzebx3",
        "colab_type": "code",
        "outputId": "29e10b48-330c-41a8-afc0-82f943735c8b",
        "colab": {
          "base_uri": "https://localhost:8080/",
          "height": 34
        }
      },
      "source": [
        "!pip install minisom"
      ],
      "execution_count": 45,
      "outputs": [
        {
          "output_type": "stream",
          "text": [
            "Requirement already satisfied: minisom in /usr/local/lib/python3.6/dist-packages (2.2.2)\n"
          ],
          "name": "stdout"
        }
      ]
    },
    {
      "cell_type": "markdown",
      "metadata": {
        "id": "WV9vCoGNNXiT",
        "colab_type": "text"
      },
      "source": [
        "Selecionando o df com o campo nota não nulo"
      ]
    },
    {
      "cell_type": "code",
      "metadata": {
        "id": "k0sINxnFhMer",
        "colab_type": "code",
        "colab": {}
      },
      "source": [
        "tab = tab[tab[\"nota\"] != '-']"
      ],
      "execution_count": 0,
      "outputs": []
    },
    {
      "cell_type": "code",
      "metadata": {
        "id": "CnfrnNQY0J5t",
        "colab_type": "code",
        "outputId": "e5abfa46-c7da-472a-ee3e-a56cc7331956",
        "colab": {
          "base_uri": "https://localhost:8080/",
          "height": 292
        }
      },
      "source": [
        "tab.head()"
      ],
      "execution_count": 47,
      "outputs": [
        {
          "output_type": "execute_result",
          "data": {
            "text/html": [
              "<div>\n",
              "<style scoped>\n",
              "    .dataframe tbody tr th:only-of-type {\n",
              "        vertical-align: middle;\n",
              "    }\n",
              "\n",
              "    .dataframe tbody tr th {\n",
              "        vertical-align: top;\n",
              "    }\n",
              "\n",
              "    .dataframe thead th {\n",
              "        text-align: right;\n",
              "    }\n",
              "</style>\n",
              "<table border=\"1\" class=\"dataframe\">\n",
              "  <thead>\n",
              "    <tr style=\"text-align: right;\">\n",
              "      <th></th>\n",
              "      <th>idAluno</th>\n",
              "      <th>nota</th>\n",
              "      <th>situacao</th>\n",
              "      <th>submissões diferentes e iguais a 100% semana 1</th>\n",
              "      <th>submissões diferentes e iguais a 100% semana 2</th>\n",
              "      <th>submissões diferentes e iguais a 100% semana 3</th>\n",
              "      <th>submissões diferentes e iguais a 100% semana 4</th>\n",
              "      <th>submissões diferentes e iguais a 100% semana 5</th>\n",
              "      <th>submissões diferentes e iguais a 100% semana 6</th>\n",
              "      <th>submissões diferentes e iguais a 100% semana 7</th>\n",
              "      <th>submissões diferentes e iguais a 100% semana 8</th>\n",
              "      <th>submissões diferentes e iguais a 100% semana 9</th>\n",
              "      <th>submissões diferentes e iguais a 100% semana 10</th>\n",
              "      <th>submissões diferentes e iguais a 100% semana 11</th>\n",
              "      <th>submissões diferentes e iguais a 100% semana 12</th>\n",
              "      <th>submissões diferentes e iguais a 100% semana 13</th>\n",
              "      <th>submissões diferentes e iguais a 100% semana 14</th>\n",
              "      <th>submissões diferentes e iguais a 100% semana 15</th>\n",
              "      <th>submissões diferentes e iguais a 100% semana 16</th>\n",
              "      <th>submissões diferentes e iguais a 100% semana 17</th>\n",
              "      <th>submissões diferentes e iguais a 100% semana 18</th>\n",
              "    </tr>\n",
              "  </thead>\n",
              "  <tbody>\n",
              "    <tr>\n",
              "      <th>0</th>\n",
              "      <td>5991cb910be9d42f2f68b906</td>\n",
              "      <td>7.9</td>\n",
              "      <td>APROVADO</td>\n",
              "      <td>0.0</td>\n",
              "      <td>0.0</td>\n",
              "      <td>0.0</td>\n",
              "      <td>0.0</td>\n",
              "      <td>0.0</td>\n",
              "      <td>0.0</td>\n",
              "      <td>0.0</td>\n",
              "      <td>0.0</td>\n",
              "      <td>0.0</td>\n",
              "      <td>0.0</td>\n",
              "      <td>0.0</td>\n",
              "      <td>0.0</td>\n",
              "      <td>0.0</td>\n",
              "      <td>0.0</td>\n",
              "      <td>0.0</td>\n",
              "      <td>0.0</td>\n",
              "      <td>0.0</td>\n",
              "      <td>0.0</td>\n",
              "    </tr>\n",
              "    <tr>\n",
              "      <th>1</th>\n",
              "      <td>5991cb910be9d42f2f68b906</td>\n",
              "      <td>7.9</td>\n",
              "      <td>APROVADO</td>\n",
              "      <td>0.0</td>\n",
              "      <td>0.0</td>\n",
              "      <td>0.0</td>\n",
              "      <td>5.0</td>\n",
              "      <td>13.0</td>\n",
              "      <td>5.0</td>\n",
              "      <td>0.0</td>\n",
              "      <td>15.0</td>\n",
              "      <td>9.0</td>\n",
              "      <td>0.0</td>\n",
              "      <td>0.0</td>\n",
              "      <td>0.0</td>\n",
              "      <td>0.0</td>\n",
              "      <td>0.0</td>\n",
              "      <td>0.0</td>\n",
              "      <td>0.0</td>\n",
              "      <td>0.0</td>\n",
              "      <td>0.0</td>\n",
              "    </tr>\n",
              "    <tr>\n",
              "      <th>2</th>\n",
              "      <td>5991cb910be9d42f2f68b906</td>\n",
              "      <td>7.9</td>\n",
              "      <td>APROVADO</td>\n",
              "      <td>0.0</td>\n",
              "      <td>0.0</td>\n",
              "      <td>0.0</td>\n",
              "      <td>5.0</td>\n",
              "      <td>13.0</td>\n",
              "      <td>0.0</td>\n",
              "      <td>0.0</td>\n",
              "      <td>0.0</td>\n",
              "      <td>0.0</td>\n",
              "      <td>0.0</td>\n",
              "      <td>0.0</td>\n",
              "      <td>0.0</td>\n",
              "      <td>0.0</td>\n",
              "      <td>0.0</td>\n",
              "      <td>0.0</td>\n",
              "      <td>0.0</td>\n",
              "      <td>0.0</td>\n",
              "      <td>0.0</td>\n",
              "    </tr>\n",
              "    <tr>\n",
              "      <th>3</th>\n",
              "      <td>5991cb910be9d42f2f68b906</td>\n",
              "      <td>7.9</td>\n",
              "      <td>APROVADO</td>\n",
              "      <td>0.0</td>\n",
              "      <td>0.0</td>\n",
              "      <td>0.0</td>\n",
              "      <td>5.0</td>\n",
              "      <td>13.0</td>\n",
              "      <td>5.0</td>\n",
              "      <td>0.0</td>\n",
              "      <td>0.0</td>\n",
              "      <td>0.0</td>\n",
              "      <td>0.0</td>\n",
              "      <td>0.0</td>\n",
              "      <td>0.0</td>\n",
              "      <td>0.0</td>\n",
              "      <td>0.0</td>\n",
              "      <td>0.0</td>\n",
              "      <td>0.0</td>\n",
              "      <td>0.0</td>\n",
              "      <td>0.0</td>\n",
              "    </tr>\n",
              "    <tr>\n",
              "      <th>4</th>\n",
              "      <td>5991cb910be9d42f2f68b906</td>\n",
              "      <td>7.9</td>\n",
              "      <td>APROVADO</td>\n",
              "      <td>0.0</td>\n",
              "      <td>0.0</td>\n",
              "      <td>0.0</td>\n",
              "      <td>5.0</td>\n",
              "      <td>13.0</td>\n",
              "      <td>5.0</td>\n",
              "      <td>0.0</td>\n",
              "      <td>15.0</td>\n",
              "      <td>9.0</td>\n",
              "      <td>0.0</td>\n",
              "      <td>0.0</td>\n",
              "      <td>0.0</td>\n",
              "      <td>0.0</td>\n",
              "      <td>0.0</td>\n",
              "      <td>0.0</td>\n",
              "      <td>0.0</td>\n",
              "      <td>0.0</td>\n",
              "      <td>0.0</td>\n",
              "    </tr>\n",
              "  </tbody>\n",
              "</table>\n",
              "</div>"
            ],
            "text/plain": [
              "                    idAluno  ... submissões diferentes e iguais a 100% semana 18\n",
              "0  5991cb910be9d42f2f68b906  ...                                             0.0\n",
              "1  5991cb910be9d42f2f68b906  ...                                             0.0\n",
              "2  5991cb910be9d42f2f68b906  ...                                             0.0\n",
              "3  5991cb910be9d42f2f68b906  ...                                             0.0\n",
              "4  5991cb910be9d42f2f68b906  ...                                             0.0\n",
              "\n",
              "[5 rows x 21 columns]"
            ]
          },
          "metadata": {
            "tags": []
          },
          "execution_count": 47
        }
      ]
    },
    {
      "cell_type": "markdown",
      "metadata": {
        "id": "N8ld_RWSNh_j",
        "colab_type": "text"
      },
      "source": [
        "Convertendo notas para float"
      ]
    },
    {
      "cell_type": "code",
      "metadata": {
        "colab_type": "code",
        "id": "9WcDRE3UCP5k",
        "colab": {}
      },
      "source": [
        "tab[\"nota\"] = tab[\"nota\"].astype(float)"
      ],
      "execution_count": 0,
      "outputs": []
    },
    {
      "cell_type": "markdown",
      "metadata": {
        "id": "j9l1dH3NNmu2",
        "colab_type": "text"
      },
      "source": [
        "Separando o X treino"
      ]
    },
    {
      "cell_type": "code",
      "metadata": {
        "id": "It5Uq_aeqsds",
        "colab_type": "code",
        "colab": {}
      },
      "source": [
        "X_train = tab.iloc[:, 3:].values"
      ],
      "execution_count": 0,
      "outputs": []
    },
    {
      "cell_type": "markdown",
      "metadata": {
        "id": "6roI1dCKsD8v",
        "colab_type": "text"
      },
      "source": [
        "Normalizando dados"
      ]
    },
    {
      "cell_type": "code",
      "metadata": {
        "id": "OKBbenn5sGhK",
        "colab_type": "code",
        "colab": {}
      },
      "source": [
        "from sklearn import preprocessing\n",
        "min_max_scaler = preprocessing.MinMaxScaler()\n",
        "X_train_minmax = min_max_scaler.fit_transform(X_train)"
      ],
      "execution_count": 0,
      "outputs": []
    },
    {
      "cell_type": "markdown",
      "metadata": {
        "id": "W4HBnVvQNqqO",
        "colab_type": "text"
      },
      "source": [
        "Escolhendo o alvo, que será a nota final"
      ]
    },
    {
      "cell_type": "code",
      "metadata": {
        "id": "nILY_1JmgWxf",
        "colab_type": "code",
        "outputId": "1eae3488-6ce0-4a3f-8d06-945b8cbac185",
        "colab": {
          "base_uri": "https://localhost:8080/",
          "height": 34
        }
      },
      "source": [
        "Y_train = tab.iloc[:,1].values\n",
        "Y_train"
      ],
      "execution_count": 51,
      "outputs": [
        {
          "output_type": "execute_result",
          "data": {
            "text/plain": [
              "array([7.9, 7.9, 7.9, ..., 0. , 0. , 0. ])"
            ]
          },
          "metadata": {
            "tags": []
          },
          "execution_count": 51
        }
      ]
    },
    {
      "cell_type": "markdown",
      "metadata": {
        "id": "uHI401tpOxeR",
        "colab_type": "text"
      },
      "source": [
        "Criando o modelo da SOM"
      ]
    },
    {
      "cell_type": "code",
      "metadata": {
        "id": "BiKfQH2ze8GC",
        "colab_type": "code",
        "colab": {}
      },
      "source": [
        "tamanhoXdaRede = 13 \n",
        "tamanhoYdaRede = 13\n",
        "quantidadeCaracteristicas = 18\n",
        "\n",
        "from minisom import MiniSom\n",
        "som = MiniSom(x = tamanhoXdaRede, \n",
        "              y = tamanhoYdaRede, \n",
        "              input_len = quantidadeCaracteristicas,\n",
        "              sigma = 1.0, \n",
        "              learning_rate = 0.5)"
      ],
      "execution_count": 0,
      "outputs": []
    },
    {
      "cell_type": "markdown",
      "metadata": {
        "id": "VfsWZqVSO6iy",
        "colab_type": "text"
      },
      "source": [
        "Treinando a rede SOM"
      ]
    },
    {
      "cell_type": "code",
      "metadata": {
        "id": "-bDsAPJZfyd-",
        "colab_type": "code",
        "outputId": "5391d288-4571-4c7d-99c1-cea18c2cfc8f",
        "colab": {
          "base_uri": "https://localhost:8080/",
          "height": 68
        }
      },
      "source": [
        "som.train_random(data = X_train, \n",
        "                 num_iteration = 100000, \n",
        "                 verbose = True) \n",
        "\n",
        "#se verbose True ele imprime a cada iteração\n",
        "#como eu uso o train_random tanto faz a sequência em que os dados estão"
      ],
      "execution_count": 127,
      "outputs": [
        {
          "output_type": "stream",
          "text": [
            " [ 100000 / 100000 ] 100% - 0:00:00 left \n",
            " quantization error: 4.057054530082256\n",
            " topographic error: 0.9921251519475714\n"
          ],
          "name": "stdout"
        }
      ]
    },
    {
      "cell_type": "markdown",
      "metadata": {
        "id": "U_NTboqY1uO3",
        "colab_type": "text"
      },
      "source": [
        "Mapa de distância dos pesos"
      ]
    },
    {
      "cell_type": "code",
      "metadata": {
        "id": "19ybtHEO1bd6",
        "colab_type": "code",
        "colab": {
          "base_uri": "https://localhost:8080/",
          "height": 357
        },
        "outputId": "38084e34-2541-4742-9501-b029dd57d7c1"
      },
      "source": [
        "som.distance_map()"
      ],
      "execution_count": 90,
      "outputs": [
        {
          "output_type": "execute_result",
          "data": {
            "text/plain": [
              "array([[0.24382124, 0.46077582, 0.4793904 , 0.49025924, 0.50011374,\n",
              "        0.5066476 , 0.51410674, 0.53701778, 0.57167358, 0.37224179],\n",
              "       [0.47921616, 0.79161854, 0.811269  , 0.81920123, 0.82913318,\n",
              "        0.8413751 , 0.85984391, 0.89860514, 0.95141687, 0.58562275],\n",
              "       [0.51222284, 0.83363593, 0.86007464, 0.86904668, 0.8736192 ,\n",
              "        0.88152599, 0.90076017, 0.9426995 , 1.        , 0.63983886],\n",
              "       [0.48115527, 0.78437654, 0.82600692, 0.84611134, 0.85184585,\n",
              "        0.85606037, 0.87366341, 0.91638297, 0.97854091, 0.64152843],\n",
              "       [0.38812289, 0.64406846, 0.70269287, 0.74052337, 0.75495436,\n",
              "        0.757965  , 0.77085556, 0.81097689, 0.87738923, 0.58268403],\n",
              "       [0.27243822, 0.46790409, 0.53601624, 0.58862587, 0.61523433,\n",
              "        0.62256716, 0.63289555, 0.66803606, 0.73175774, 0.48587132],\n",
              "       [0.17562356, 0.31746922, 0.38497289, 0.44362869, 0.48065093,\n",
              "        0.4974337 , 0.51064019, 0.54001222, 0.59150627, 0.38511998],\n",
              "       [0.11246007, 0.21638546, 0.27761259, 0.33653082, 0.38262816,\n",
              "        0.41289245, 0.43424409, 0.45845787, 0.49130803, 0.30708431],\n",
              "       [0.07589798, 0.1550508 , 0.20862679, 0.26639869, 0.32160135,\n",
              "        0.36835489, 0.40248627, 0.42421217, 0.43872802, 0.26159334],\n",
              "       [0.04150078, 0.08281682, 0.11332566, 0.14710649, 0.18166819,\n",
              "        0.21423083, 0.2392325 , 0.2529191 , 0.2581597 , 0.16154942]])"
            ]
          },
          "metadata": {
            "tags": []
          },
          "execution_count": 90
        }
      ]
    },
    {
      "cell_type": "markdown",
      "metadata": {
        "id": "g6GMLfIMPRow",
        "colab_type": "text"
      },
      "source": [
        "Obtem o vetor de pesos da rede treinada "
      ]
    },
    {
      "cell_type": "code",
      "metadata": {
        "id": "lV1ZhRxVf_77",
        "colab_type": "code",
        "colab": {}
      },
      "source": [
        "pesos = som.get_weights()"
      ],
      "execution_count": 0,
      "outputs": []
    },
    {
      "cell_type": "markdown",
      "metadata": {
        "id": "xD9QWSVCkhAS",
        "colab_type": "text"
      },
      "source": [
        "Criando uma lista com as semanas "
      ]
    },
    {
      "cell_type": "code",
      "metadata": {
        "id": "N0GwuAwJkgFm",
        "colab_type": "code",
        "outputId": "51605537-cd73-423f-eb9d-98749cb39f5b",
        "colab": {
          "base_uri": "https://localhost:8080/",
          "height": 54
        }
      },
      "source": [
        "colunas = []\n",
        "for i in range(1,19):\n",
        "  colunas.append(\"Semana \"+str(i))\n",
        "print(colunas)"
      ],
      "execution_count": 136,
      "outputs": [
        {
          "output_type": "stream",
          "text": [
            "['Semana 1', 'Semana 2', 'Semana 3', 'Semana 4', 'Semana 5', 'Semana 6', 'Semana 7', 'Semana 8', 'Semana 9', 'Semana 10', 'Semana 11', 'Semana 12', 'Semana 13', 'Semana 14', 'Semana 15', 'Semana 16', 'Semana 17', 'Semana 18']\n"
          ],
          "name": "stdout"
        }
      ]
    },
    {
      "cell_type": "markdown",
      "metadata": {
        "id": "gPOJSFZ8i1WG",
        "colab_type": "text"
      },
      "source": [
        "Montando matrizes para total de ocorrências, uma para aprovados e outra para reprovados"
      ]
    },
    {
      "cell_type": "code",
      "metadata": {
        "id": "AZtI2PVCgo1u",
        "colab_type": "code",
        "colab": {}
      },
      "source": [
        "# matriz de zeros para contador de reprovados \n",
        "MContRe = np.zeros((tamanhoXdaRede,tamanhoYdaRede))\n",
        "# matriz de zeros para contador de aprovados \n",
        "MContAp = np.zeros((tamanhoXdaRede,tamanhoYdaRede))\n",
        "# matriz de zeros para o número total de alunos\n",
        "MContT = np.zeros((tamanhoXdaRede,tamanhoYdaRede))\n",
        "\n",
        "cont = 0; \n",
        "\n",
        "for x in X_train: \n",
        "  pos = som.winner(x)\n",
        "  if (Y_train[cont] < 5): #Reprovado \n",
        "    MContRe[pos] += 1\n",
        "  if (Y_train[cont] >= 5): #Aprovado \n",
        "    MContAp[pos] += 1    \n",
        "  MContT[pos] += 1\n",
        "  cont= cont+1"
      ],
      "execution_count": 0,
      "outputs": []
    },
    {
      "cell_type": "code",
      "metadata": {
        "id": "bENrPrsc2vRL",
        "colab_type": "code",
        "outputId": "86f4db4a-f0f3-433c-ba68-4bc2a90b4965",
        "colab": {
          "base_uri": "https://localhost:8080/",
          "height": 238
        }
      },
      "source": [
        "print(MContT.astype(int))"
      ],
      "execution_count": 138,
      "outputs": [
        {
          "output_type": "stream",
          "text": [
            "[[ 118   14  245  197   54   16 5467    0  387  405  104  100   36]\n",
            " [  23   78   42   16  246  180   92  184  211   31   64   99   33]\n",
            " [ 123   56    8  129   65   34  105  151  282  128   49   76   30]\n",
            " [  98   77  409   14   96  221  241  111  213  108  117   93   43]\n",
            " [ 115  146   45  211   54  189   36   65  148   77   85   92   48]\n",
            " [  65   98   95  244  115   16   19  137   57   39   32   66   32]\n",
            " [ 121   47   81  103  101   74   68   48   54   81   13   27   65]\n",
            " [  35   57   62   90   78   31   53   30   65   56   77   58   26]\n",
            " [  29   90   56   80   63   84   26   74    6  113   68   43   40]\n",
            " [  73   21   13   57   69   44   62   21   55   38  127   38   48]\n",
            " [  36   29   59   47   48   61   70  104   59   69   39   75   69]\n",
            " [  12   66    0   44   44   57   88   54   72   47   69    6   65]\n",
            " [  75   94   25   40   65   34   22   62   41   45   62   57   26]]\n"
          ],
          "name": "stdout"
        }
      ]
    },
    {
      "cell_type": "code",
      "metadata": {
        "id": "D3SudwKmgV6X",
        "colab_type": "code",
        "colab": {
          "base_uri": "https://localhost:8080/",
          "height": 238
        },
        "outputId": "2a3fb49c-5fab-442f-8cff-7da2644bddad"
      },
      "source": [
        "print(MContRe.astype(int))"
      ],
      "execution_count": 139,
      "outputs": [
        {
          "output_type": "stream",
          "text": [
            "[[   5   13   98  101   15    1 2200    0  231  138   37    0    0]\n",
            " [   3   34    7    0   59  101   36  120  103   20    0    0    0]\n",
            " [   3    2    0   15   22   16   51   71   84   19    0    0    0]\n",
            " [  19   40  163    0   20   41  130   77   85   34   17    0    0]\n",
            " [  55   76    1   33   13   14    7   16   64    0    0    0    0]\n",
            " [  12    0   12  105   34    1    9    4    0   26    0    1    0]\n",
            " [  18    6   26   18   20   18    0    8    0   30    0    0    0]\n",
            " [   0   14    0   14   14    0    0    0   14   31    0    1    0]\n",
            " [   0    0    0    0   14    7    0    0    0   39    0    0    4]\n",
            " [  16    0    0    0    0    6    0    0    0    0   66    0   13]\n",
            " [   0    0    0    0    0   18    0   55   33    8    0   14   26]\n",
            " [   2    0    0    0    0   24   24    0   12    0   12    0    0]\n",
            " [  30   13    0    0    0    0    0   24   12    0    0    0    0]]\n"
          ],
          "name": "stdout"
        }
      ]
    },
    {
      "cell_type": "markdown",
      "metadata": {
        "id": "Zp1WX-aQHqbf",
        "colab_type": "text"
      },
      "source": [
        "Função para retornar as ocorrências na plataforma lop"
      ]
    },
    {
      "cell_type": "code",
      "metadata": {
        "id": "8XY4OP3cHmq7",
        "colab_type": "code",
        "colab": {}
      },
      "source": [
        "def buscarTrajetoria(id):\n",
        "  return tab.loc[tab[\"idAluno\"]==id,:]"
      ],
      "execution_count": 0,
      "outputs": []
    },
    {
      "cell_type": "markdown",
      "metadata": {
        "id": "0x1UASz0IybL",
        "colab_type": "text"
      },
      "source": [
        "Função para normalizar dados"
      ]
    },
    {
      "cell_type": "code",
      "metadata": {
        "id": "HNqEw5fmHr_M",
        "colab_type": "code",
        "colab": {}
      },
      "source": [
        "def normalizaDados(data):\n",
        "  from sklearn.preprocessing import StandardScaler\n",
        "  sc = StandardScaler()\n",
        "  dt = sc.fit_transform(data)\n",
        "  return dt"
      ],
      "execution_count": 0,
      "outputs": []
    },
    {
      "cell_type": "markdown",
      "metadata": {
        "id": "y3HNrpXkI70O",
        "colab_type": "text"
      },
      "source": [
        "Função de criação de gráfico de superfície"
      ]
    },
    {
      "cell_type": "code",
      "metadata": {
        "id": "bBey4lgAG6SZ",
        "colab_type": "code",
        "colab": {}
      },
      "source": [
        "def chamaGraficoDeSuperficie(data):\n",
        "  z_data = normalizaDados(data)\n",
        "  fig = go.Figure(data=[go.Surface(z=z_data)])\n",
        "  fig.update_layout(title=\"Gráfico de superfície - Reprovados\", autosize=False,\n",
        "                    width=750, height=600,\n",
        "                    margin=dict(l=65, r=50, b=65, t=90))\n",
        "  fig.show()  "
      ],
      "execution_count": 0,
      "outputs": []
    },
    {
      "cell_type": "markdown",
      "metadata": {
        "id": "xQYgYcySJ7wa",
        "colab_type": "text"
      },
      "source": [
        "Função para chamar gráfico de pizza "
      ]
    },
    {
      "cell_type": "code",
      "metadata": {
        "id": "1si-8eA_J6_i",
        "colab_type": "code",
        "colab": {}
      },
      "source": [
        "def chamaGraficoDePizzaDeSituacoes():\n",
        "  fig = plt.figure(figsize=(10,5))\n",
        "  cont = 1;\n",
        "  for i in range(len(MContT)):\n",
        "    for j in range(len(MContT)):\n",
        "      plt.subplot(tamanhoXdaRede,tamanhoYdaRede,cont)\n",
        "      cont=cont+1\n",
        "      sizes = [MContAp[i][j],MContT[i][j]-MContAp[i][j]]\n",
        "      plt.pie(sizes)\n",
        "  #plt.set_title(\"Gráfico de % de aprovados e reprovados em cada neurônio\")\n",
        "  plt.show()"
      ],
      "execution_count": 0,
      "outputs": []
    },
    {
      "cell_type": "markdown",
      "metadata": {
        "id": "cs3Ou1gRgxwq",
        "colab_type": "text"
      },
      "source": [
        "Função para exibir atributos de um neurônio específico "
      ]
    },
    {
      "cell_type": "code",
      "metadata": {
        "id": "SDo76DQugxQB",
        "colab_type": "code",
        "colab": {}
      },
      "source": [
        "def exibeNeuronio(linha,coluna,peso): \n",
        "  fig = plt.figure()\n",
        "  ax = fig.add_axes([0.1,0.1,1.5,1.5])\n",
        "  ax.bar(colunas, peso[linha,coluna,:], color=\"y\")\n",
        "  plt.xticks(rotation=90)\n",
        "  ax.set_title(\"Especificação do Neurônio \" + str(linha) + \",\" + str(coluna))\n",
        "  plt.ylim((0,1))\n",
        "  plt.show()"
      ],
      "execution_count": 0,
      "outputs": []
    },
    {
      "cell_type": "markdown",
      "metadata": {
        "id": "P0kX5AZGhHDA",
        "colab_type": "text"
      },
      "source": [
        "Função para consultar a proporção de aprovados e reprovados e retornar uma cor "
      ]
    },
    {
      "cell_type": "code",
      "metadata": {
        "id": "qR8siugrl_xi",
        "colab_type": "code",
        "colab": {}
      },
      "source": [
        "def consultaProporcao(posAnt):\n",
        "  div = (MContRe[posAnt] / MContT[posAnt])\n",
        "  if(div > 0.20 ):\n",
        "    return \"r\"\n",
        "  elif(div < 0.10 ):\n",
        "    return \"#2ECC71\"\n",
        "  else:\n",
        "    return \"#FFFF00\"\n",
        "#As proporções escolhidas foram: se existe até 10% de reprovados você está numa região segura, a cor escolhida é verde\n",
        "#se você está numa região entre 10% a 20% de reprovados, então você está amarelo, seria um alerta\n",
        "#se você está cima de 20% nesse neurônio você está vermelho"
      ],
      "execution_count": 0,
      "outputs": []
    },
    {
      "cell_type": "markdown",
      "metadata": {
        "id": "PLX-VMBuM0_M",
        "colab_type": "text"
      },
      "source": [
        "Função para inserir estados no node"
      ]
    },
    {
      "cell_type": "code",
      "metadata": {
        "id": "QTlHzbxdFgh1",
        "colab_type": "code",
        "colab": {}
      },
      "source": [
        "def insereAtributo(G, pos, cont):\n",
        "  var = []\n",
        "  semanas = []\n",
        "  try: \n",
        "    atributos = nx.get_node_attributes(G, \"semana\")\n",
        "    for i in atributos[pos]:\n",
        "        var.append(i)\n",
        "  except:\n",
        "    pass\n",
        "  for i in var:\n",
        "       semanas.append(i)\n",
        "  semanas.append(cont)   \n",
        "  G.nodes[pos][\"semana\"] = semanas\n",
        "  return G\n",
        "\n",
        "#O objetivo é fazer uma lista de atributos, sendo que irá conter as semanas que caíram naquele neurônio\n",
        "#eu faço uma try catch para verificar se está vazio o atributo desse neuronio, como não existe uma função expecifica para verificar isso\n",
        "#acabo tendo que utiliza-lo. Se não estiver vazio ele recebe a lista e depois faz a consulta desse valor\n",
        "#depois recebe o atual e insere "
      ],
      "execution_count": 0,
      "outputs": []
    },
    {
      "cell_type": "markdown",
      "metadata": {
        "id": "7kiLUVmqKGOE",
        "colab_type": "text"
      },
      "source": [
        "Função para exibir qual foi a semana que caiu no neurônio"
      ]
    },
    {
      "cell_type": "code",
      "metadata": {
        "id": "KvV1fwikKFnp",
        "colab_type": "code",
        "colab": {}
      },
      "source": [
        "def verificaSemanasNoNeuronio(G,x,y):\n",
        "  print(\"Semana(s) que caíram no neurônio \" + str(G.nodes[(x,y)][\"semana\"]))"
      ],
      "execution_count": 0,
      "outputs": []
    },
    {
      "cell_type": "markdown",
      "metadata": {
        "id": "hxhdgZZMl5wp",
        "colab_type": "text"
      },
      "source": [
        "Legendas para o grafo"
      ]
    },
    {
      "cell_type": "code",
      "metadata": {
        "id": "asF7QzpmhZLY",
        "colab_type": "code",
        "colab": {}
      },
      "source": [
        "def legendasDoGrafo():\n",
        "  legend_elements = [Line2D([0], [0], marker = \"x\", color = \"w\", label = \"% de reprovados por neurônio\", markerfacecolor = \"black\", markersize = 15),\n",
        "                     Line2D([0], [0], marker = \"o\", color = \"w\", label = \"Até 10%\", markerfacecolor = \"g\", markersize = 15),\n",
        "                     Line2D([0], [0], marker = \"o\", color = \"w\", label = \"Entre 10% e 20%\", markerfacecolor = \"#FFFF00\", markersize = 15),\n",
        "                     Line2D([0], [0], marker = \"o\", color = \"w\", label = \"Acima de 20%\", markerfacecolor = \"r\", markersize = 15),\n",
        "                     Line2D([0], [0], marker = \"x\", color = \"w\", label = \"------------------------------------------\", markerfacecolor = \"black\", markersize = 15),\n",
        "                     Line2D([0], [0], marker = \"o\", color = \"w\", label = \"Posição do neurônio inicial e final\", markerfacecolor = \"#00FFFF\", markersize = 15),\n",
        "                    ]                  \n",
        "  return legend_elements"
      ],
      "execution_count": 0,
      "outputs": []
    },
    {
      "cell_type": "markdown",
      "metadata": {
        "id": "qd7IGyM1oPE1",
        "colab_type": "text"
      },
      "source": [
        "Estrutura para o grafo"
      ]
    },
    {
      "cell_type": "code",
      "metadata": {
        "id": "UWhhL6voncrb",
        "colab_type": "code",
        "colab": {}
      },
      "source": [
        "def criaEstruturaDoGrafo(G, color_map):\n",
        "  fig, ax = plt.subplots(figsize = (15, 10))\n",
        "  legend_elements = legendasDoGrafo()\n",
        "  plt.title(\"Grafo da trajetória de iteração de um aluno na disciplina de LOP\")  \n",
        "  ax.legend(handles = legend_elements, loc = \"upper left\")\n",
        "  nx.draw(G, with_labels = True, node_color = color_map, node_size = 4000, font_weight = \"bold\", ax = ax)\n",
        "  plt.show()"
      ],
      "execution_count": 0,
      "outputs": []
    },
    {
      "cell_type": "markdown",
      "metadata": {
        "id": "Abt9mSh-mAGB",
        "colab_type": "text"
      },
      "source": [
        "Função para criar o grafo de um determinado aluno"
      ]
    },
    {
      "cell_type": "code",
      "metadata": {
        "id": "XN9h2y1TYDmX",
        "colab_type": "code",
        "colab": {}
      },
      "source": [
        "def criaGrafo(listIteravel, limite): #Atributo limite vai ser o número maximo de semanas\n",
        "  G = nx.DiGraph()\n",
        "  color_map = [] #Lista para cores dos Nodes\n",
        "  lista = [] #Lista para conter as posições que já saíram, isso foi feito porque pode haver reposição de Nodes, ai quando adicionasse as cores se repeteria e\n",
        "  cont = 0   #o python reclaria de estouro, já que se existem 6 nodes, não faz sentido passar 8 parâmetros\n",
        "\n",
        "  for x in listIteravel: \n",
        "    pos = som.winner(x)\n",
        "    if(cont > 0):\n",
        "      G.add_edge(posAnt, pos)\n",
        "      G = insereAtributo(G, pos, cont) #continua aqui <<<<<<<\n",
        "    if(cont == 0):\n",
        "      color_map.append(consultaProporcao(pos))    \n",
        "    elif(pos not in lista):\n",
        "      color_map.append(consultaProporcao(pos))    \n",
        "    cont += 1\n",
        "    if(cont == (limite+1)):\n",
        "      break\n",
        "    posAnt = pos\n",
        "    lista.append(pos)\n",
        "\n",
        "  #G.add_node((\"> \") + str(lista[0]) + (\" <\")) #esse Node sobrando vai me informar a coordenada inicial\n",
        "  G.add_node(str(lista[0]) + \" - \" + str(lista[limite-1])) #esse Node sobrando vai me informar a coordenada inicial e final\n",
        "  color_map.append(\"#00FFFF\") #será em cor azul\n",
        "  criaEstruturaDoGrafo(G, color_map)\n",
        "  return G"
      ],
      "execution_count": 0,
      "outputs": []
    },
    {
      "cell_type": "markdown",
      "metadata": {
        "id": "gisBtRktv4a8",
        "colab_type": "text"
      },
      "source": [
        "Aplicando a desnormalização para obter valores próximos aos originais depois de ter treinado a SOM"
      ]
    },
    {
      "cell_type": "code",
      "metadata": {
        "id": "9xIlBPBlv39W",
        "colab_type": "code",
        "colab": {}
      },
      "source": [
        "X_test = min_max_scaler.inverse_transform(X_train_minmax)\n",
        "pesos_desnormalizados = min_max_scaler.inverse_transform(pesos[29])\n",
        "X_test"
      ],
      "execution_count": 0,
      "outputs": []
    },
    {
      "cell_type": "markdown",
      "metadata": {
        "id": "xo83Fn70uT7O",
        "colab_type": "text"
      },
      "source": [
        "Verificando a situação de um aluno através de um grafo"
      ]
    },
    {
      "cell_type": "code",
      "metadata": {
        "id": "upRa7PUXuSYn",
        "colab_type": "code",
        "outputId": "b1b891f4-756c-4fc4-a0ed-89a5ba831474",
        "colab": {
          "base_uri": "https://localhost:8080/",
          "height": 591
        }
      },
      "source": [
        "Grafo = criaGrafo(X_train,18)"
      ],
      "execution_count": 141,
      "outputs": [
        {
          "output_type": "display_data",
          "data": {
            "image/png": "[encoded data removed]",
            "text/plain": [
              "<Figure size 1080x720 with 1 Axes>"
            ]
          },
          "metadata": {
            "tags": []
          }
        }
      ]
    },
    {
      "cell_type": "code",
      "metadata": {
        "id": "7WRvVuBJK8kP",
        "colab_type": "code",
        "outputId": "75cd91e7-73f7-44aa-e751-a2a7e143d68f",
        "colab": {
          "base_uri": "https://localhost:8080/",
          "height": 34
        }
      },
      "source": [
        "verificaSemanasNoNeuronio(Grafo,10,1)"
      ],
      "execution_count": 142,
      "outputs": [
        {
          "output_type": "stream",
          "text": [
            "Semana(s) que caíram no neurônio [6, 7, 17, 18]\n"
          ],
          "name": "stdout"
        }
      ]
    },
    {
      "cell_type": "code",
      "metadata": {
        "id": "8868MZNWxZPy",
        "colab_type": "code",
        "outputId": "33a7d0e5-05e7-44aa-904e-942cf764e4ee",
        "colab": {
          "base_uri": "https://localhost:8080/",
          "height": 542
        }
      },
      "source": [
        "exibeNeuronio(0,9,pesos) "
      ],
      "execution_count": 144,
      "outputs": [
        {
          "output_type": "display_data",
          "data": {
            "image/png": "[encoded data removed]",
            "text/plain": [
              "<Figure size 432x288 with 1 Axes>"
            ]
          },
          "metadata": {
            "tags": []
          }
        }
      ]
    },
    {
      "cell_type": "markdown",
      "metadata": {
        "id": "MxbvwRl2KKwX",
        "colab_type": "text"
      },
      "source": [
        "Gráfico de superfície"
      ]
    },
    {
      "cell_type": "code",
      "metadata": {
        "id": "_LrCzL8gKdjP",
        "colab_type": "code",
        "outputId": "f92d31f0-0bf1-40b4-c916-61a974b1b857",
        "colab": {
          "base_uri": "https://localhost:8080/",
          "height": 617
        }
      },
      "source": [
        "chamaGraficoDeSuperficie(MContRe)"
      ],
      "execution_count": 145,
      "outputs": [
        {
          "output_type": "display_data",
          "data": {
            "text/html": [
              "<html>\n",
              "<head><meta charset=\"utf-8\" /></head>\n",
              "<body>\n",
              "    <div>\n",
              "            <script src=\"https://cdnjs.cloudflare.com/ajax/libs/mathjax/2.7.5/MathJax.js?config=TeX-AMS-MML_SVG\"></script><script type=\"text/javascript\">if (window.MathJax) {MathJax.Hub.Config({SVG: {font: \"STIX-Web\"}});}</script>\n",
              "                <script type=\"text/javascript\">window.PlotlyConfig = {MathJaxConfig: 'local'};</script>\n",
              "        <script src=\"https://cdn.plot.ly/plotly-latest.min.js\"></script>    \n",
              "            <div id=\"b21ea564-c3a3-4a4e-ac14-cdad60de347c\" class=\"plotly-graph-div\" style=\"height:600px; width:750px;\"></div>\n",
              "            <script type=\"text/javascript\">\n",
              "                \n",
              "                    window.PLOTLYENV=window.PLOTLYENV || {};\n",
              "                    \n",
              "                if (document.getElementById(\"b21ea564-c3a3-4a4e-ac14-cdad60de347c\")) {\n",
              "                    Plotly.newPlot(\n",
              "                        'b21ea564-c3a3-4a4e-ac14-cdad60de347c',\n",
              "                        [{\"type\": \"surface\", \"z\": [[-0.4951516182840864, -0.10306393135327396, 1.5538071621727332, 2.1996730542972807, -0.07745664133318862, -0.6859368654460963, 3.457793821419948, -0.764882543864409, 2.859761157277809, 3.184392358061557, 1.3945504209517563, -0.3323251939178111, -0.4448381651237727], [-0.6265183741553746, 0.8671585948344434, -0.3470758500820169, -0.6125671796777238, 2.691618286328307, 3.1248234981433276, -0.26307431858640085, 2.4170288386115324, 0.8476501358358326, -0.1868001038200362, -0.5274517351450768, -0.3323251939178111, -0.4448381651237727], [-0.6265183741553746, -0.6112757307849355, -0.49329762025545926, -0.19490773898836664, 0.36307800624932196, -0.11432281090768272, -0.237282718724989, 1.1177483574338563, 0.5489774060905392, -0.21536953146310053, -0.5274517351450768, -0.3323251939178111, -0.4448381651237727], [0.4244156728149312, 1.1443650308880768, 2.9115807423546975, -0.6125671796777238, 0.23721096408289039, 0.8383672799896733, -0.1014469594548866, 1.2768439265576534, 0.5646970234455547, 0.21317188318286473, 0.3556303365750897, -0.3323251939178111, -0.4448381651237727], [2.789017278498119, 2.807603647209878, -0.4724087959449675, 0.3062835898388619, -0.20332368349962024, -0.1905380181794712, -0.31293807831846376, -0.3406276928676168, 0.23458505899023038, -0.7581886566813232, -0.5274517351450768, -0.3323251939178111, -0.4448381651237727], [-0.03536797273457759, -0.7036778761361466, -0.24263172852955814, 2.311048905147776, 1.1182802592479115, -0.6859368654460963, -0.30949919833694217, -0.6588188311152109, -0.7714704517307579, -0.015383537961650082, -0.5274517351450768, -0.0623109738595896, -0.4448381651237727], [0.3587322948792871, -0.4264714400825131, 0.04981181181732647, -0.11137585085049523, 0.23721096408289039, -0.03810760363589424, -0.3249741582537893, -0.5527551183660129, -0.7714704517307579, 0.09889417261060732, -0.5274517351450768, -0.3323251939178111, -0.4448381651237727], [-0.823568507962307, -0.056862858677668375, -0.49329762025545926, -0.22275170170099046, -0.14039016241640442, -0.7240444690819906, -0.3249741582537893, -0.764882543864409, -0.5513958087605417, 0.12746360025367168, -0.5274517351450768, -0.0623109738595896, -0.4448381651237727], [-0.823568507962307, -0.7036778761361466, -0.49329762025545926, -0.6125671796777238, -0.14039016241640442, -0.45729124363073087, -0.3249741582537893, -0.764882543864409, -0.7714704517307579, 0.3560190213981865, -0.5274517351450768, -0.3323251939178111, 0.09310566246776641], [0.22736553900799888, -0.7036778761361466, -0.49329762025545926, -0.6125671796777238, -1.0214594575814258, -0.49539884726662514, -0.3249741582537893, -0.764882543864409, -0.7714704517307579, -0.7581886566813232, 2.9009845432979224, -0.3323251939178111, 1.3034792745487296], [-0.823568507962307, -0.7036778761361466, -0.49329762025545926, -0.6125671796777238, -1.0214594575814258, -0.03810760363589424, -0.3249741582537893, 0.6934935064370641, -0.2527230790152483, -0.5296332355368084, -0.5274517351450768, 3.4478738868972902, 3.051796714221232], [-0.6922017520910188, -0.7036778761361466, -0.49329762025545926, -0.6125671796777238, -1.0214594575814258, 0.1905380181794712, -0.28370759847553034, -0.764882543864409, -0.5828350434705726, -0.7581886566813232, 0.09590031548092309, -0.3323251939178111, -0.4448381651237727], [1.1469328301070163, -0.10306393135327396, -0.49329762025545926, -0.6125671796777238, -1.0214594575814258, -0.7240444690819906, -0.3249741582537893, -0.1285002673692207, -0.5828350434705726, -0.7581886566813232, -0.5274517351450768, -0.3323251939178111, -0.4448381651237727]]}],\n",
              "                        {\"autosize\": false, \"height\": 600, \"margin\": {\"b\": 65, \"l\": 65, \"r\": 50, \"t\": 90}, \"template\": {\"data\": {\"bar\": [{\"error_x\": {\"color\": \"#2a3f5f\"}, \"error_y\": {\"color\": \"#2a3f5f\"}, \"marker\": {\"line\": {\"color\": \"#E5ECF6\", \"width\": 0.5}}, \"type\": \"bar\"}], \"barpolar\": [{\"marker\": {\"line\": {\"color\": \"#E5ECF6\", \"width\": 0.5}}, \"type\": \"barpolar\"}], \"carpet\": [{\"aaxis\": {\"endlinecolor\": \"#2a3f5f\", \"gridcolor\": \"white\", \"linecolor\": \"white\", \"minorgridcolor\": \"white\", \"startlinecolor\": \"#2a3f5f\"}, \"baxis\": {\"endlinecolor\": \"#2a3f5f\", \"gridcolor\": \"white\", \"linecolor\": \"white\", \"minorgridcolor\": \"white\", \"startlinecolor\": \"#2a3f5f\"}, \"type\": \"carpet\"}], \"choropleth\": [{\"colorbar\": {\"outlinewidth\": 0, \"ticks\": \"\"}, \"type\": \"choropleth\"}], \"contour\": [{\"colorbar\": {\"outlinewidth\": 0, \"ticks\": \"\"}, \"colorscale\": [[0.0, \"#0d0887\"], [0.1111111111111111, \"#46039f\"], [0.2222222222222222, \"#7201a8\"], [0.3333333333333333, \"#9c179e\"], [0.4444444444444444, \"#bd3786\"], [0.5555555555555556, \"#d8576b\"], [0.6666666666666666, \"#ed7953\"], [0.7777777777777778, \"#fb9f3a\"], [0.8888888888888888, \"#fdca26\"], [1.0, \"#f0f921\"]], \"type\": \"contour\"}], \"contourcarpet\": [{\"colorbar\": {\"outlinewidth\": 0, \"ticks\": \"\"}, \"type\": \"contourcarpet\"}], \"heatmap\": [{\"colorbar\": {\"outlinewidth\": 0, \"ticks\": \"\"}, \"colorscale\": [[0.0, \"#0d0887\"], [0.1111111111111111, \"#46039f\"], [0.2222222222222222, \"#7201a8\"], [0.3333333333333333, \"#9c179e\"], [0.4444444444444444, \"#bd3786\"], [0.5555555555555556, \"#d8576b\"], [0.6666666666666666, \"#ed7953\"], [0.7777777777777778, \"#fb9f3a\"], [0.8888888888888888, \"#fdca26\"], [1.0, \"#f0f921\"]], \"type\": \"heatmap\"}], \"heatmapgl\": [{\"colorbar\": {\"outlinewidth\": 0, \"ticks\": \"\"}, \"colorscale\": [[0.0, \"#0d0887\"], [0.1111111111111111, \"#46039f\"], [0.2222222222222222, \"#7201a8\"], [0.3333333333333333, \"#9c179e\"], [0.4444444444444444, \"#bd3786\"], [0.5555555555555556, \"#d8576b\"], [0.6666666666666666, \"#ed7953\"], [0.7777777777777778, \"#fb9f3a\"], [0.8888888888888888, \"#fdca26\"], [1.0, \"#f0f921\"]], \"type\": \"heatmapgl\"}], \"histogram\": [{\"marker\": {\"colorbar\": {\"outlinewidth\": 0, \"ticks\": \"\"}}, \"type\": \"histogram\"}], \"histogram2d\": [{\"colorbar\": {\"outlinewidth\": 0, \"ticks\": \"\"}, \"colorscale\": [[0.0, \"#0d0887\"], [0.1111111111111111, \"#46039f\"], [0.2222222222222222, \"#7201a8\"], [0.3333333333333333, \"#9c179e\"], [0.4444444444444444, \"#bd3786\"], [0.5555555555555556, \"#d8576b\"], [0.6666666666666666, \"#ed7953\"], [0.7777777777777778, \"#fb9f3a\"], [0.8888888888888888, \"#fdca26\"], [1.0, \"#f0f921\"]], \"type\": \"histogram2d\"}], \"histogram2dcontour\": [{\"colorbar\": {\"outlinewidth\": 0, \"ticks\": \"\"}, \"colorscale\": [[0.0, \"#0d0887\"], [0.1111111111111111, \"#46039f\"], [0.2222222222222222, \"#7201a8\"], [0.3333333333333333, \"#9c179e\"], [0.4444444444444444, \"#bd3786\"], [0.5555555555555556, \"#d8576b\"], [0.6666666666666666, \"#ed7953\"], [0.7777777777777778, \"#fb9f3a\"], [0.8888888888888888, \"#fdca26\"], [1.0, \"#f0f921\"]], \"type\": \"histogram2dcontour\"}], \"mesh3d\": [{\"colorbar\": {\"outlinewidth\": 0, \"ticks\": \"\"}, \"type\": \"mesh3d\"}], \"parcoords\": [{\"line\": {\"colorbar\": {\"outlinewidth\": 0, \"ticks\": \"\"}}, \"type\": \"parcoords\"}], \"scatter\": [{\"marker\": {\"colorbar\": {\"outlinewidth\": 0, \"ticks\": \"\"}}, \"type\": \"scatter\"}], \"scatter3d\": [{\"line\": {\"colorbar\": {\"outlinewidth\": 0, \"ticks\": \"\"}}, \"marker\": {\"colorbar\": {\"outlinewidth\": 0, \"ticks\": \"\"}}, \"type\": \"scatter3d\"}], \"scattercarpet\": [{\"marker\": {\"colorbar\": {\"outlinewidth\": 0, \"ticks\": \"\"}}, \"type\": \"scattercarpet\"}], \"scattergeo\": [{\"marker\": {\"colorbar\": {\"outlinewidth\": 0, \"ticks\": \"\"}}, \"type\": \"scattergeo\"}], \"scattergl\": [{\"marker\": {\"colorbar\": {\"outlinewidth\": 0, \"ticks\": \"\"}}, \"type\": \"scattergl\"}], \"scattermapbox\": [{\"marker\": {\"colorbar\": {\"outlinewidth\": 0, \"ticks\": \"\"}}, \"type\": \"scattermapbox\"}], \"scatterpolar\": [{\"marker\": {\"colorbar\": {\"outlinewidth\": 0, \"ticks\": \"\"}}, \"type\": \"scatterpolar\"}], \"scatterpolargl\": [{\"marker\": {\"colorbar\": {\"outlinewidth\": 0, \"ticks\": \"\"}}, \"type\": \"scatterpolargl\"}], \"scatterternary\": [{\"marker\": {\"colorbar\": {\"outlinewidth\": 0, \"ticks\": \"\"}}, \"type\": \"scatterternary\"}], \"surface\": [{\"colorbar\": {\"outlinewidth\": 0, \"ticks\": \"\"}, \"colorscale\": [[0.0, \"#0d0887\"], [0.1111111111111111, \"#46039f\"], [0.2222222222222222, \"#7201a8\"], [0.3333333333333333, \"#9c179e\"], [0.4444444444444444, \"#bd3786\"], [0.5555555555555556, \"#d8576b\"], [0.6666666666666666, \"#ed7953\"], [0.7777777777777778, \"#fb9f3a\"], [0.8888888888888888, \"#fdca26\"], [1.0, \"#f0f921\"]], \"type\": \"surface\"}], \"table\": [{\"cells\": {\"fill\": {\"color\": \"#EBF0F8\"}, \"line\": {\"color\": \"white\"}}, \"header\": {\"fill\": {\"color\": \"#C8D4E3\"}, \"line\": {\"color\": \"white\"}}, \"type\": \"table\"}]}, \"layout\": {\"annotationdefaults\": {\"arrowcolor\": \"#2a3f5f\", \"arrowhead\": 0, \"arrowwidth\": 1}, \"colorscale\": {\"diverging\": [[0, \"#8e0152\"], [0.1, \"#c51b7d\"], [0.2, \"#de77ae\"], [0.3, \"#f1b6da\"], [0.4, \"#fde0ef\"], [0.5, \"#f7f7f7\"], [0.6, \"#e6f5d0\"], [0.7, \"#b8e186\"], [0.8, \"#7fbc41\"], [0.9, \"#4d9221\"], [1, \"#276419\"]], \"sequential\": [[0.0, \"#0d0887\"], [0.1111111111111111, \"#46039f\"], [0.2222222222222222, \"#7201a8\"], [0.3333333333333333, \"#9c179e\"], [0.4444444444444444, \"#bd3786\"], [0.5555555555555556, \"#d8576b\"], [0.6666666666666666, \"#ed7953\"], [0.7777777777777778, \"#fb9f3a\"], [0.8888888888888888, \"#fdca26\"], [1.0, \"#f0f921\"]], \"sequentialminus\": [[0.0, \"#0d0887\"], [0.1111111111111111, \"#46039f\"], [0.2222222222222222, \"#7201a8\"], [0.3333333333333333, \"#9c179e\"], [0.4444444444444444, \"#bd3786\"], [0.5555555555555556, \"#d8576b\"], [0.6666666666666666, \"#ed7953\"], [0.7777777777777778, \"#fb9f3a\"], [0.8888888888888888, \"#fdca26\"], [1.0, \"#f0f921\"]]}, \"colorway\": [\"#636efa\", \"#EF553B\", \"#00cc96\", \"#ab63fa\", \"#FFA15A\", \"#19d3f3\", \"#FF6692\", \"#B6E880\", \"#FF97FF\", \"#FECB52\"], \"font\": {\"color\": \"#2a3f5f\"}, \"geo\": {\"bgcolor\": \"white\", \"lakecolor\": \"white\", \"landcolor\": \"#E5ECF6\", \"showlakes\": true, \"showland\": true, \"subunitcolor\": \"white\"}, \"hoverlabel\": {\"align\": \"left\"}, \"hovermode\": \"closest\", \"mapbox\": {\"style\": \"light\"}, \"paper_bgcolor\": \"white\", \"plot_bgcolor\": \"#E5ECF6\", \"polar\": {\"angularaxis\": {\"gridcolor\": \"white\", \"linecolor\": \"white\", \"ticks\": \"\"}, \"bgcolor\": \"#E5ECF6\", \"radialaxis\": {\"gridcolor\": \"white\", \"linecolor\": \"white\", \"ticks\": \"\"}}, \"scene\": {\"xaxis\": {\"backgroundcolor\": \"#E5ECF6\", \"gridcolor\": \"white\", \"gridwidth\": 2, \"linecolor\": \"white\", \"showbackground\": true, \"ticks\": \"\", \"zerolinecolor\": \"white\"}, \"yaxis\": {\"backgroundcolor\": \"#E5ECF6\", \"gridcolor\": \"white\", \"gridwidth\": 2, \"linecolor\": \"white\", \"showbackground\": true, \"ticks\": \"\", \"zerolinecolor\": \"white\"}, \"zaxis\": {\"backgroundcolor\": \"#E5ECF6\", \"gridcolor\": \"white\", \"gridwidth\": 2, \"linecolor\": \"white\", \"showbackground\": true, \"ticks\": \"\", \"zerolinecolor\": \"white\"}}, \"shapedefaults\": {\"line\": {\"color\": \"#2a3f5f\"}}, \"ternary\": {\"aaxis\": {\"gridcolor\": \"white\", \"linecolor\": \"white\", \"ticks\": \"\"}, \"baxis\": {\"gridcolor\": \"white\", \"linecolor\": \"white\", \"ticks\": \"\"}, \"bgcolor\": \"#E5ECF6\", \"caxis\": {\"gridcolor\": \"white\", \"linecolor\": \"white\", \"ticks\": \"\"}}, \"title\": {\"x\": 0.05}, \"xaxis\": {\"automargin\": true, \"gridcolor\": \"white\", \"linecolor\": \"white\", \"ticks\": \"\", \"zerolinecolor\": \"white\", \"zerolinewidth\": 2}, \"yaxis\": {\"automargin\": true, \"gridcolor\": \"white\", \"linecolor\": \"white\", \"ticks\": \"\", \"zerolinecolor\": \"white\", \"zerolinewidth\": 2}}}, \"title\": {\"text\": \"Gr\\u00e1fico de superf\\u00edcie - Reprovados\"}, \"width\": 750},\n",
              "                        {\"responsive\": true}\n",
              "                    ).then(function(){\n",
              "                            \n",
              "var gd = document.getElementById('b21ea564-c3a3-4a4e-ac14-cdad60de347c');\n",
              "var x = new MutationObserver(function (mutations, observer) {{\n",
              "        var display = window.getComputedStyle(gd).display;\n",
              "        if (!display || display === 'none') {{\n",
              "            console.log([gd, 'removed!']);\n",
              "            Plotly.purge(gd);\n",
              "            observer.disconnect();\n",
              "        }}\n",
              "}});\n",
              "\n",
              "// Listen for the removal of the full notebook cells\n",
              "var notebookContainer = gd.closest('#notebook-container');\n",
              "if (notebookContainer) {{\n",
              "    x.observe(notebookContainer, {childList: true});\n",
              "}}\n",
              "\n",
              "// Listen for the clearing of the current output cell\n",
              "var outputEl = gd.closest('.output');\n",
              "if (outputEl) {{\n",
              "    x.observe(outputEl, {childList: true});\n",
              "}}\n",
              "\n",
              "                        })\n",
              "                };\n",
              "                \n",
              "            </script>\n",
              "        </div>\n",
              "</body>\n",
              "</html>"
            ]
          },
          "metadata": {
            "tags": []
          }
        }
      ]
    },
    {
      "cell_type": "markdown",
      "metadata": {
        "id": "-fZeJe7nKlxP",
        "colab_type": "text"
      },
      "source": [
        "Gráfico de Pizza das situações "
      ]
    },
    {
      "cell_type": "code",
      "metadata": {
        "id": "aeVA6MoAJlTR",
        "colab_type": "code",
        "outputId": "566ef8e3-d6fb-4dc3-c005-1c53a4ae53ff",
        "colab": {
          "base_uri": "https://localhost:8080/",
          "height": 303
        }
      },
      "source": [
        "chamaGraficoDePizzaDeSituacoes()"
      ],
      "execution_count": 146,
      "outputs": [
        {
          "output_type": "display_data",
          "data": {
            "image/png": "[encoded data removed]",
            "text/plain": [
              "<Figure size 720x360 with 169 Axes>"
            ]
          },
          "metadata": {
            "tags": []
          }
        }
      ]
    },
    {
      "cell_type": "code",
      "metadata": {
        "id": "siwUPLrZ3w5E",
        "colab_type": "code",
        "outputId": "5ba9ea5c-bf9b-4ba2-ff79-84eaf5da5506",
        "colab": {
          "base_uri": "https://localhost:8080/",
          "height": 153
        }
      },
      "source": [
        "print(MContT.astype(int))"
      ],
      "execution_count": 38,
      "outputs": [
        {
          "output_type": "stream",
          "text": [
            "[[ 243  221  198  104  107  243  118  439]\n",
            " [ 213  134  141  115   57  281   45  171]\n",
            " [ 112  188  290  192  188  129  337  141]\n",
            " [ 385  179  366  251    6  130    9  418]\n",
            " [ 225  231  247  115  401  286  202  138]\n",
            " [ 467  132  124   70   58    3  256  514]\n",
            " [ 218  137  160  179  124    9  125   32]\n",
            " [ 371  245  321  523  535  407  106 5809]]\n"
          ],
          "name": "stdout"
        }
      ]
    },
    {
      "cell_type": "code",
      "metadata": {
        "id": "aOr-ozYd5jbH",
        "colab_type": "code",
        "outputId": "ad30a6db-dfa7-4344-ffd3-8237a6192d43",
        "colab": {
          "base_uri": "https://localhost:8080/",
          "height": 292
        }
      },
      "source": [
        "tab.head(5)"
      ],
      "execution_count": 129,
      "outputs": [
        {
          "output_type": "execute_result",
          "data": {
            "text/html": [
              "<div>\n",
              "<style scoped>\n",
              "    .dataframe tbody tr th:only-of-type {\n",
              "        vertical-align: middle;\n",
              "    }\n",
              "\n",
              "    .dataframe tbody tr th {\n",
              "        vertical-align: top;\n",
              "    }\n",
              "\n",
              "    .dataframe thead th {\n",
              "        text-align: right;\n",
              "    }\n",
              "</style>\n",
              "<table border=\"1\" class=\"dataframe\">\n",
              "  <thead>\n",
              "    <tr style=\"text-align: right;\">\n",
              "      <th></th>\n",
              "      <th>idAluno</th>\n",
              "      <th>nota</th>\n",
              "      <th>situacao</th>\n",
              "      <th>submissões diferentes e iguais a 100% semana 1</th>\n",
              "      <th>submissões diferentes e iguais a 100% semana 2</th>\n",
              "      <th>submissões diferentes e iguais a 100% semana 3</th>\n",
              "      <th>submissões diferentes e iguais a 100% semana 4</th>\n",
              "      <th>submissões diferentes e iguais a 100% semana 5</th>\n",
              "      <th>submissões diferentes e iguais a 100% semana 6</th>\n",
              "      <th>submissões diferentes e iguais a 100% semana 7</th>\n",
              "      <th>submissões diferentes e iguais a 100% semana 8</th>\n",
              "      <th>submissões diferentes e iguais a 100% semana 9</th>\n",
              "      <th>submissões diferentes e iguais a 100% semana 10</th>\n",
              "      <th>submissões diferentes e iguais a 100% semana 11</th>\n",
              "      <th>submissões diferentes e iguais a 100% semana 12</th>\n",
              "      <th>submissões diferentes e iguais a 100% semana 13</th>\n",
              "      <th>submissões diferentes e iguais a 100% semana 14</th>\n",
              "      <th>submissões diferentes e iguais a 100% semana 15</th>\n",
              "      <th>submissões diferentes e iguais a 100% semana 16</th>\n",
              "      <th>submissões diferentes e iguais a 100% semana 17</th>\n",
              "      <th>submissões diferentes e iguais a 100% semana 18</th>\n",
              "    </tr>\n",
              "  </thead>\n",
              "  <tbody>\n",
              "    <tr>\n",
              "      <th>0</th>\n",
              "      <td>5991cb910be9d42f2f68b906</td>\n",
              "      <td>7.9</td>\n",
              "      <td>APROVADO</td>\n",
              "      <td>0.0</td>\n",
              "      <td>0.0</td>\n",
              "      <td>0.0</td>\n",
              "      <td>0.0</td>\n",
              "      <td>0.0</td>\n",
              "      <td>0.0</td>\n",
              "      <td>0.0</td>\n",
              "      <td>0.0</td>\n",
              "      <td>0.0</td>\n",
              "      <td>0.0</td>\n",
              "      <td>0.0</td>\n",
              "      <td>0.0</td>\n",
              "      <td>0.0</td>\n",
              "      <td>0.0</td>\n",
              "      <td>0.0</td>\n",
              "      <td>0.0</td>\n",
              "      <td>0.0</td>\n",
              "      <td>0.0</td>\n",
              "    </tr>\n",
              "    <tr>\n",
              "      <th>1</th>\n",
              "      <td>5991cb910be9d42f2f68b906</td>\n",
              "      <td>7.9</td>\n",
              "      <td>APROVADO</td>\n",
              "      <td>0.0</td>\n",
              "      <td>0.0</td>\n",
              "      <td>0.0</td>\n",
              "      <td>5.0</td>\n",
              "      <td>13.0</td>\n",
              "      <td>5.0</td>\n",
              "      <td>0.0</td>\n",
              "      <td>15.0</td>\n",
              "      <td>9.0</td>\n",
              "      <td>0.0</td>\n",
              "      <td>0.0</td>\n",
              "      <td>0.0</td>\n",
              "      <td>0.0</td>\n",
              "      <td>0.0</td>\n",
              "      <td>0.0</td>\n",
              "      <td>0.0</td>\n",
              "      <td>0.0</td>\n",
              "      <td>0.0</td>\n",
              "    </tr>\n",
              "    <tr>\n",
              "      <th>2</th>\n",
              "      <td>5991cb910be9d42f2f68b906</td>\n",
              "      <td>7.9</td>\n",
              "      <td>APROVADO</td>\n",
              "      <td>0.0</td>\n",
              "      <td>0.0</td>\n",
              "      <td>0.0</td>\n",
              "      <td>5.0</td>\n",
              "      <td>13.0</td>\n",
              "      <td>0.0</td>\n",
              "      <td>0.0</td>\n",
              "      <td>0.0</td>\n",
              "      <td>0.0</td>\n",
              "      <td>0.0</td>\n",
              "      <td>0.0</td>\n",
              "      <td>0.0</td>\n",
              "      <td>0.0</td>\n",
              "      <td>0.0</td>\n",
              "      <td>0.0</td>\n",
              "      <td>0.0</td>\n",
              "      <td>0.0</td>\n",
              "      <td>0.0</td>\n",
              "    </tr>\n",
              "    <tr>\n",
              "      <th>3</th>\n",
              "      <td>5991cb910be9d42f2f68b906</td>\n",
              "      <td>7.9</td>\n",
              "      <td>APROVADO</td>\n",
              "      <td>0.0</td>\n",
              "      <td>0.0</td>\n",
              "      <td>0.0</td>\n",
              "      <td>5.0</td>\n",
              "      <td>13.0</td>\n",
              "      <td>5.0</td>\n",
              "      <td>0.0</td>\n",
              "      <td>0.0</td>\n",
              "      <td>0.0</td>\n",
              "      <td>0.0</td>\n",
              "      <td>0.0</td>\n",
              "      <td>0.0</td>\n",
              "      <td>0.0</td>\n",
              "      <td>0.0</td>\n",
              "      <td>0.0</td>\n",
              "      <td>0.0</td>\n",
              "      <td>0.0</td>\n",
              "      <td>0.0</td>\n",
              "    </tr>\n",
              "    <tr>\n",
              "      <th>4</th>\n",
              "      <td>5991cb910be9d42f2f68b906</td>\n",
              "      <td>7.9</td>\n",
              "      <td>APROVADO</td>\n",
              "      <td>0.0</td>\n",
              "      <td>0.0</td>\n",
              "      <td>0.0</td>\n",
              "      <td>5.0</td>\n",
              "      <td>13.0</td>\n",
              "      <td>5.0</td>\n",
              "      <td>0.0</td>\n",
              "      <td>15.0</td>\n",
              "      <td>9.0</td>\n",
              "      <td>0.0</td>\n",
              "      <td>0.0</td>\n",
              "      <td>0.0</td>\n",
              "      <td>0.0</td>\n",
              "      <td>0.0</td>\n",
              "      <td>0.0</td>\n",
              "      <td>0.0</td>\n",
              "      <td>0.0</td>\n",
              "      <td>0.0</td>\n",
              "    </tr>\n",
              "  </tbody>\n",
              "</table>\n",
              "</div>"
            ],
            "text/plain": [
              "                    idAluno  ...  submissões diferentes e iguais a 100% semana 18\n",
              "0  5991cb910be9d42f2f68b906  ...                                              0.0\n",
              "1  5991cb910be9d42f2f68b906  ...                                              0.0\n",
              "2  5991cb910be9d42f2f68b906  ...                                              0.0\n",
              "3  5991cb910be9d42f2f68b906  ...                                              0.0\n",
              "4  5991cb910be9d42f2f68b906  ...                                              0.0\n",
              "\n",
              "[5 rows x 21 columns]"
            ]
          },
          "metadata": {
            "tags": []
          },
          "execution_count": 129
        }
      ]
    },
    {
      "cell_type": "markdown",
      "metadata": {
        "id": "pRn4rmgtxxnj",
        "colab_type": "text"
      },
      "source": [
        "#Função nova a ser concluída"
      ]
    },
    {
      "cell_type": "code",
      "metadata": {
        "id": "emdnSuH_5n-X",
        "colab_type": "code",
        "colab": {}
      },
      "source": [
        "teste = tab.iloc[4,3:]\n",
        "teste2 = tab.iloc[4,3:9]"
      ],
      "execution_count": 0,
      "outputs": []
    },
    {
      "cell_type": "code",
      "metadata": {
        "id": "abZi89NhSKA8",
        "colab_type": "code",
        "outputId": "f106140d-a729-4196-b9be-18e5896d0e36",
        "colab": {
          "base_uri": "https://localhost:8080/",
          "height": 199
        }
      },
      "source": [
        "a = pd.DataFrame.from_dict(teste)\n",
        "a = a.T\n",
        "b = pd.DataFrame.from_dict(teste2)\n",
        "b = b.T\n",
        "ab = pd.concat([a,b],sort=0)\n",
        "ab"
      ],
      "execution_count": 131,
      "outputs": [
        {
          "output_type": "execute_result",
          "data": {
            "text/html": [
              "<div>\n",
              "<style scoped>\n",
              "    .dataframe tbody tr th:only-of-type {\n",
              "        vertical-align: middle;\n",
              "    }\n",
              "\n",
              "    .dataframe tbody tr th {\n",
              "        vertical-align: top;\n",
              "    }\n",
              "\n",
              "    .dataframe thead th {\n",
              "        text-align: right;\n",
              "    }\n",
              "</style>\n",
              "<table border=\"1\" class=\"dataframe\">\n",
              "  <thead>\n",
              "    <tr style=\"text-align: right;\">\n",
              "      <th></th>\n",
              "      <th>submissões diferentes e iguais a 100% semana 1</th>\n",
              "      <th>submissões diferentes e iguais a 100% semana 2</th>\n",
              "      <th>submissões diferentes e iguais a 100% semana 3</th>\n",
              "      <th>submissões diferentes e iguais a 100% semana 4</th>\n",
              "      <th>submissões diferentes e iguais a 100% semana 5</th>\n",
              "      <th>submissões diferentes e iguais a 100% semana 6</th>\n",
              "      <th>submissões diferentes e iguais a 100% semana 7</th>\n",
              "      <th>submissões diferentes e iguais a 100% semana 8</th>\n",
              "      <th>submissões diferentes e iguais a 100% semana 9</th>\n",
              "      <th>submissões diferentes e iguais a 100% semana 10</th>\n",
              "      <th>submissões diferentes e iguais a 100% semana 11</th>\n",
              "      <th>submissões diferentes e iguais a 100% semana 12</th>\n",
              "      <th>submissões diferentes e iguais a 100% semana 13</th>\n",
              "      <th>submissões diferentes e iguais a 100% semana 14</th>\n",
              "      <th>submissões diferentes e iguais a 100% semana 15</th>\n",
              "      <th>submissões diferentes e iguais a 100% semana 16</th>\n",
              "      <th>submissões diferentes e iguais a 100% semana 17</th>\n",
              "      <th>submissões diferentes e iguais a 100% semana 18</th>\n",
              "    </tr>\n",
              "  </thead>\n",
              "  <tbody>\n",
              "    <tr>\n",
              "      <th>4</th>\n",
              "      <td>0</td>\n",
              "      <td>0</td>\n",
              "      <td>0</td>\n",
              "      <td>5</td>\n",
              "      <td>13</td>\n",
              "      <td>5</td>\n",
              "      <td>0</td>\n",
              "      <td>15</td>\n",
              "      <td>9</td>\n",
              "      <td>0</td>\n",
              "      <td>0</td>\n",
              "      <td>0</td>\n",
              "      <td>0</td>\n",
              "      <td>0</td>\n",
              "      <td>0</td>\n",
              "      <td>0</td>\n",
              "      <td>0</td>\n",
              "      <td>0</td>\n",
              "    </tr>\n",
              "    <tr>\n",
              "      <th>4</th>\n",
              "      <td>0</td>\n",
              "      <td>0</td>\n",
              "      <td>0</td>\n",
              "      <td>5</td>\n",
              "      <td>13</td>\n",
              "      <td>5</td>\n",
              "      <td>NaN</td>\n",
              "      <td>NaN</td>\n",
              "      <td>NaN</td>\n",
              "      <td>NaN</td>\n",
              "      <td>NaN</td>\n",
              "      <td>NaN</td>\n",
              "      <td>NaN</td>\n",
              "      <td>NaN</td>\n",
              "      <td>NaN</td>\n",
              "      <td>NaN</td>\n",
              "      <td>NaN</td>\n",
              "      <td>NaN</td>\n",
              "    </tr>\n",
              "  </tbody>\n",
              "</table>\n",
              "</div>"
            ],
            "text/plain": [
              "  submissões diferentes e iguais a 100% semana 1  ... submissões diferentes e iguais a 100% semana 18\n",
              "4                                              0  ...                                               0\n",
              "4                                              0  ...                                             NaN\n",
              "\n",
              "[2 rows x 18 columns]"
            ]
          },
          "metadata": {
            "tags": []
          },
          "execution_count": 131
        }
      ]
    },
    {
      "cell_type": "code",
      "metadata": {
        "id": "UjktM3ryYPaJ",
        "colab_type": "code",
        "colab": {}
      },
      "source": [
        "def quebraLinhas(aluno):\n",
        "  table = pd.DataFrame(columns=tab.iloc[:,3:].columns)\n",
        "  tbInteira = pd.DataFrame.from_dict(aluno)\n",
        "  tbInteira = tbInteira.T\n",
        "  for i in range(1,18):\n",
        "    teste = tbInteira.iloc[:i]\n",
        "    teste = teste.T\n",
        "    table = pd.concat([table,a], sort=0,ignore_index = True)\n",
        "    teste = tab.iloc[4,3:]  "
      ],
      "execution_count": 0,
      "outputs": []
    }
  ]
}