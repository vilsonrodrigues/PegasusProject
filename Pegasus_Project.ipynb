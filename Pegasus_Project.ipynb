{
  "nbformat": 4,
  "nbformat_minor": 0,
  "metadata": {
    "colab": {
      "name": "Pegasus Project.ipynb",
      "provenance": [],
      "collapsed_sections": [
        "AkX_bd1-_d9t",
        "xVGjUhwfgdyU",
        "dPJkvE0hDsB8"
      ],
      "include_colab_link": true
    },
    "kernelspec": {
      "name": "python3",
      "display_name": "Python 3"
    }
  },
  "cells": [
    {
      "cell_type": "markdown",
      "metadata": {
        "id": "view-in-github",
        "colab_type": "text"
      },
      "source": [
        "<a href=\"https://colab.research.google.com/github/vilsonrodrigues/PegasusProject/blob/master/Pegasus_Project.ipynb\" target=\"_parent\"><img src=\"https://colab.research.google.com/assets/colab-badge.svg\" alt=\"Open In Colab\"/></a>"
      ]
    },
    {
      "cell_type": "markdown",
      "metadata": {
        "id": "O3ZluJzvG0zY",
        "colab_type": "text"
      },
      "source": [
        "Importando bibliotecas"
      ]
    },
    {
      "cell_type": "markdown",
      "metadata": {
        "id": "Hfuq-oJSe_XI",
        "colab_type": "text"
      },
      "source": [
        "https://teses.usp.br/teses/disponiveis/85/85133/tde-31102011-101817/publico/2011AffonsoMapas.pdf"
      ]
    },
    {
      "cell_type": "code",
      "metadata": {
        "id": "4-0eMFP8Gsr1",
        "colab_type": "code",
        "colab": {}
      },
      "source": [
        "import pandas as pd\n",
        "import numpy as np\n",
        "import networkx as nx\n",
        "import matplotlib.pyplot as plt\n",
        "from matplotlib.lines import Line2D"
      ],
      "execution_count": 0,
      "outputs": []
    },
    {
      "cell_type": "code",
      "metadata": {
        "id": "sY6F7EaqG6si",
        "colab_type": "code",
        "outputId": "7bb69574-fd1d-4a1f-847e-e42b4c8a70b5",
        "colab": {
          "base_uri": "https://localhost:8080/",
          "height": 168
        }
      },
      "source": [
        "tab = pd.read_csv(\"https://raw.githubusercontent.com/vilsonrodrigues/PegasusProject/master/Data%20Bases/submissoesDiferetesEIguaisA100.csv\")\n",
        "tab = tab.drop(columns={\"Unnamed: 0\"})\n",
        "tab.head(1)"
      ],
      "execution_count": 63,
      "outputs": [
        {
          "output_type": "execute_result",
          "data": {
            "text/html": [
              "<div>\n",
              "<style scoped>\n",
              "    .dataframe tbody tr th:only-of-type {\n",
              "        vertical-align: middle;\n",
              "    }\n",
              "\n",
              "    .dataframe tbody tr th {\n",
              "        vertical-align: top;\n",
              "    }\n",
              "\n",
              "    .dataframe thead th {\n",
              "        text-align: right;\n",
              "    }\n",
              "</style>\n",
              "<table border=\"1\" class=\"dataframe\">\n",
              "  <thead>\n",
              "    <tr style=\"text-align: right;\">\n",
              "      <th></th>\n",
              "      <th>idAluno</th>\n",
              "      <th>nota</th>\n",
              "      <th>situacao</th>\n",
              "      <th>submissões diferentes e iguais a 100% semana 1</th>\n",
              "      <th>submissões diferentes e iguais a 100% semana 2</th>\n",
              "      <th>submissões diferentes e iguais a 100% semana 3</th>\n",
              "      <th>submissões diferentes e iguais a 100% semana 4</th>\n",
              "      <th>submissões diferentes e iguais a 100% semana 5</th>\n",
              "      <th>submissões diferentes e iguais a 100% semana 6</th>\n",
              "      <th>submissões diferentes e iguais a 100% semana 7</th>\n",
              "      <th>submissões diferentes e iguais a 100% semana 8</th>\n",
              "      <th>submissões diferentes e iguais a 100% semana 9</th>\n",
              "      <th>submissões diferentes e iguais a 100% semana 10</th>\n",
              "      <th>submissões diferentes e iguais a 100% semana 11</th>\n",
              "      <th>submissões diferentes e iguais a 100% semana 12</th>\n",
              "      <th>submissões diferentes e iguais a 100% semana 13</th>\n",
              "      <th>submissões diferentes e iguais a 100% semana 14</th>\n",
              "      <th>submissões diferentes e iguais a 100% semana 15</th>\n",
              "      <th>submissões diferentes e iguais a 100% semana 16</th>\n",
              "      <th>submissões diferentes e iguais a 100% semana 17</th>\n",
              "      <th>submissões diferentes e iguais a 100% semana 18</th>\n",
              "    </tr>\n",
              "  </thead>\n",
              "  <tbody>\n",
              "    <tr>\n",
              "      <th>0</th>\n",
              "      <td>5991cb910be9d42f2f68b906</td>\n",
              "      <td>7.9</td>\n",
              "      <td>APROVADO</td>\n",
              "      <td>0.0</td>\n",
              "      <td>0.0</td>\n",
              "      <td>0.0</td>\n",
              "      <td>0.0</td>\n",
              "      <td>0.0</td>\n",
              "      <td>0.0</td>\n",
              "      <td>0.0</td>\n",
              "      <td>0.0</td>\n",
              "      <td>0.0</td>\n",
              "      <td>0.0</td>\n",
              "      <td>0.0</td>\n",
              "      <td>0.0</td>\n",
              "      <td>0.0</td>\n",
              "      <td>0.0</td>\n",
              "      <td>0.0</td>\n",
              "      <td>0.0</td>\n",
              "      <td>0.0</td>\n",
              "      <td>0.0</td>\n",
              "    </tr>\n",
              "  </tbody>\n",
              "</table>\n",
              "</div>"
            ],
            "text/plain": [
              "                    idAluno  ... submissões diferentes e iguais a 100% semana 18\n",
              "0  5991cb910be9d42f2f68b906  ...                                             0.0\n",
              "\n",
              "[1 rows x 21 columns]"
            ]
          },
          "metadata": {
            "tags": []
          },
          "execution_count": 63
        }
      ]
    },
    {
      "cell_type": "markdown",
      "metadata": {
        "id": "XxAX3qdDG-CW",
        "colab_type": "text"
      },
      "source": [
        "Instalando a SOM"
      ]
    },
    {
      "cell_type": "code",
      "metadata": {
        "id": "fk7E7BLzebx3",
        "colab_type": "code",
        "outputId": "7f3ef58d-08d6-40da-b76a-6c0bf51cccd9",
        "colab": {
          "base_uri": "https://localhost:8080/",
          "height": 34
        }
      },
      "source": [
        "!pip install minisom"
      ],
      "execution_count": 64,
      "outputs": [
        {
          "output_type": "stream",
          "text": [
            "Requirement already satisfied: minisom in /usr/local/lib/python3.6/dist-packages (2.2.2)\n"
          ],
          "name": "stdout"
        }
      ]
    },
    {
      "cell_type": "markdown",
      "metadata": {
        "id": "WV9vCoGNNXiT",
        "colab_type": "text"
      },
      "source": [
        "Selecionando o df com o campo nota não nulo"
      ]
    },
    {
      "cell_type": "code",
      "metadata": {
        "id": "k0sINxnFhMer",
        "colab_type": "code",
        "colab": {}
      },
      "source": [
        "tab = tab[tab[\"nota\"] != '-']"
      ],
      "execution_count": 0,
      "outputs": []
    },
    {
      "cell_type": "markdown",
      "metadata": {
        "id": "N8ld_RWSNh_j",
        "colab_type": "text"
      },
      "source": [
        "Convertendo notas para float"
      ]
    },
    {
      "cell_type": "code",
      "metadata": {
        "colab_type": "code",
        "id": "9WcDRE3UCP5k",
        "colab": {}
      },
      "source": [
        "tab[\"nota\"] = tab[\"nota\"].astype(float)"
      ],
      "execution_count": 0,
      "outputs": []
    },
    {
      "cell_type": "markdown",
      "metadata": {
        "id": "j9l1dH3NNmu2",
        "colab_type": "text"
      },
      "source": [
        "Separando o X treino"
      ]
    },
    {
      "cell_type": "code",
      "metadata": {
        "id": "It5Uq_aeqsds",
        "colab_type": "code",
        "colab": {}
      },
      "source": [
        "X_train = tab.iloc[:, 3:].values"
      ],
      "execution_count": 0,
      "outputs": []
    },
    {
      "cell_type": "markdown",
      "metadata": {
        "id": "W4HBnVvQNqqO",
        "colab_type": "text"
      },
      "source": [
        "Escolhendo o alvo, que será a nota final"
      ]
    },
    {
      "cell_type": "code",
      "metadata": {
        "id": "nILY_1JmgWxf",
        "colab_type": "code",
        "outputId": "7774fde1-d82c-4d1d-e7af-bec5eb07c805",
        "colab": {
          "base_uri": "https://localhost:8080/",
          "height": 34
        }
      },
      "source": [
        "Y_train = tab.iloc[:,1].values\n",
        "Y_train"
      ],
      "execution_count": 68,
      "outputs": [
        {
          "output_type": "execute_result",
          "data": {
            "text/plain": [
              "array([7.9, 7.9, 7.9, ..., 0. , 0. , 0. ])"
            ]
          },
          "metadata": {
            "tags": []
          },
          "execution_count": 68
        }
      ]
    },
    {
      "cell_type": "markdown",
      "metadata": {
        "id": "uHI401tpOxeR",
        "colab_type": "text"
      },
      "source": [
        "Criando o modelo da SOM"
      ]
    },
    {
      "cell_type": "code",
      "metadata": {
        "id": "BiKfQH2ze8GC",
        "colab_type": "code",
        "colab": {}
      },
      "source": [
        "tamanhoXdaRede = 20; \n",
        "tamanhoYdaRede = 20; \n",
        "quantidadeCaracteristicas = 18\n",
        "\n",
        "from minisom import MiniSom\n",
        "som = MiniSom(x = tamanhoXdaRede, y = tamanhoYdaRede, input_len = quantidadeCaracteristicas, sigma = 1.0, learning_rate = 0.4)"
      ],
      "execution_count": 0,
      "outputs": []
    },
    {
      "cell_type": "markdown",
      "metadata": {
        "id": "G0FGHV2YDRvI",
        "colab_type": "text"
      },
      "source": [
        "Normalizando X_train (Não usar)"
      ]
    },
    {
      "cell_type": "code",
      "metadata": {
        "id": "fWPRy2S7DRC5",
        "colab_type": "code",
        "colab": {}
      },
      "source": [
        "'''\n",
        "from sklearn.preprocessing import StandardScaler\n",
        "sc = StandardScaler()\n",
        "X_train = sc.fit_transform(X_train)\n",
        "'''"
      ],
      "execution_count": 0,
      "outputs": []
    },
    {
      "cell_type": "markdown",
      "metadata": {
        "id": "VfsWZqVSO6iy",
        "colab_type": "text"
      },
      "source": [
        "Treinando a rede SOM"
      ]
    },
    {
      "cell_type": "code",
      "metadata": {
        "id": "-bDsAPJZfyd-",
        "colab_type": "code",
        "colab": {}
      },
      "source": [
        "som.train_random(data = X_train, num_iteration = 100000, verbose = False) \n",
        "#se verbose True ele imprime a cada iteração\n",
        "#como eu uso o train_random tanto faz a sequência em que os dados estão"
      ],
      "execution_count": 0,
      "outputs": []
    },
    {
      "cell_type": "markdown",
      "metadata": {
        "id": "U_NTboqY1uO3",
        "colab_type": "text"
      },
      "source": [
        "Mapa de distância dos pesos"
      ]
    },
    {
      "cell_type": "code",
      "metadata": {
        "id": "19ybtHEO1bd6",
        "colab_type": "code",
        "colab": {}
      },
      "source": [
        "som.distance_map()"
      ],
      "execution_count": 0,
      "outputs": []
    },
    {
      "cell_type": "markdown",
      "metadata": {
        "id": "g6GMLfIMPRow",
        "colab_type": "text"
      },
      "source": [
        "Obtem o vetor de pesos da rede treinada "
      ]
    },
    {
      "cell_type": "code",
      "metadata": {
        "id": "lV1ZhRxVf_77",
        "colab_type": "code",
        "colab": {}
      },
      "source": [
        "pesos = som.get_weights()"
      ],
      "execution_count": 0,
      "outputs": []
    },
    {
      "cell_type": "markdown",
      "metadata": {
        "id": "xD9QWSVCkhAS",
        "colab_type": "text"
      },
      "source": [
        "Criando uma lista com as semanas "
      ]
    },
    {
      "cell_type": "code",
      "metadata": {
        "id": "N0GwuAwJkgFm",
        "colab_type": "code",
        "outputId": "408d9e0c-ab4b-4c02-d2f3-9f003fed5e2b",
        "colab": {
          "base_uri": "https://localhost:8080/",
          "height": 34
        }
      },
      "source": [
        "colunas = []\n",
        "for i in range(1,19):\n",
        "  colunas.append(\"Semana \"+str(i))\n",
        "print(colunas)"
      ],
      "execution_count": 72,
      "outputs": [
        {
          "output_type": "stream",
          "text": [
            "['Semana 1', 'Semana 2', 'Semana 3', 'Semana 4', 'Semana 5', 'Semana 6', 'Semana 7', 'Semana 8', 'Semana 9', 'Semana 10', 'Semana 11', 'Semana 12', 'Semana 13', 'Semana 14', 'Semana 15', 'Semana 16', 'Semana 17', 'Semana 18']\n"
          ],
          "name": "stdout"
        }
      ]
    },
    {
      "cell_type": "markdown",
      "metadata": {
        "id": "gPOJSFZ8i1WG",
        "colab_type": "text"
      },
      "source": [
        "Montando matrizes para total de ocorrências, uma para aprovados e outra para reprovados"
      ]
    },
    {
      "cell_type": "code",
      "metadata": {
        "id": "AZtI2PVCgo1u",
        "colab_type": "code",
        "colab": {}
      },
      "source": [
        "# matriz de zeros para contador de reprovados \n",
        "MContRe = np.zeros((tamanhoXdaRede,tamanhoYdaRede))\n",
        "# matriz de zeros para contador de aprovados \n",
        "MContAp = np.zeros((tamanhoXdaRede,tamanhoYdaRede))\n",
        "# matriz de zeros para o número total de alunos\n",
        "MContT = np.zeros((tamanhoXdaRede,tamanhoYdaRede))\n",
        "\n",
        "cont = 0; \n",
        "\n",
        "for x in X_train: \n",
        "  pos = som.winner(x)\n",
        "  if (Y_train[cont] < 5): #Reprovado \n",
        "    MContRe[pos] += 1\n",
        "  if (Y_train[cont] >= 5): #Aprovado \n",
        "    MContAp[pos] += 1    \n",
        "  MContT[pos] += 1\n",
        "  cont= cont+1"
      ],
      "execution_count": 0,
      "outputs": []
    },
    {
      "cell_type": "markdown",
      "metadata": {
        "id": "cs3Ou1gRgxwq",
        "colab_type": "text"
      },
      "source": [
        "Função para exibir atributos de um neurônio específico "
      ]
    },
    {
      "cell_type": "code",
      "metadata": {
        "id": "SDo76DQugxQB",
        "colab_type": "code",
        "colab": {}
      },
      "source": [
        "def exibeNeuronio(linha,coluna): \n",
        "  fig = plt.figure()\n",
        "  ax = fig.add_axes([0.1,0.1,1.5,1.5])\n",
        "  #ax.plot([1,18])\n",
        "  ax.bar(colunas, pesos[linha,coluna,:], color=\"y\")\n",
        "  plt.xticks(rotation=90)\n",
        "  ax.set_title(\"Especificação do Neurônio \" + str(linha) + \",\" + str(coluna))\n",
        "  plt.show()"
      ],
      "execution_count": 0,
      "outputs": []
    },
    {
      "cell_type": "markdown",
      "metadata": {
        "id": "P0kX5AZGhHDA",
        "colab_type": "text"
      },
      "source": [
        "Função para consultar a proporção de aprovados e reprovados e retornar uma cor "
      ]
    },
    {
      "cell_type": "code",
      "metadata": {
        "id": "qR8siugrl_xi",
        "colab_type": "code",
        "colab": {}
      },
      "source": [
        "def consultaProporcao(posAnt):\n",
        "  div = (MContRe[posAnt] / MContT[posAnt])\n",
        "  if(div > 0.20 ):\n",
        "    return \"r\"\n",
        "  elif(div < 0.10 ):\n",
        "    return \"g\"\n",
        "  else:\n",
        "    return \"#FFFF00\"\n",
        "#As proporções escolhidas foram: se existe até 10% de reprovados você está numa região segura, a cor escolhida é verde\n",
        "#se você está numa região entre 10% a 20% de reprovados, então você está amarelo, seria um alerta\n",
        "#se você está cima de 20% nesse neurônio você está vermelho"
      ],
      "execution_count": 0,
      "outputs": []
    },
    {
      "cell_type": "markdown",
      "metadata": {
        "id": "PLX-VMBuM0_M",
        "colab_type": "text"
      },
      "source": [
        "Função para inserir estados no node"
      ]
    },
    {
      "cell_type": "code",
      "metadata": {
        "id": "QTlHzbxdFgh1",
        "colab_type": "code",
        "colab": {}
      },
      "source": [
        "def insereAtributo(G, pos, cont):\n",
        "  var = []\n",
        "  semanas = []\n",
        "  try: \n",
        "    atributos = nx.get_node_attributes(G, \"semana\")\n",
        "    for i in atributos[pos]:\n",
        "        var.append(i)\n",
        "  except:\n",
        "    pass\n",
        "  for i in var:\n",
        "       semanas.append(i)\n",
        "  semanas.append(cont)   \n",
        "  G.nodes[pos][\"semana\"] = semanas\n",
        "  return G\n",
        "\n",
        "#O objetivo é fazer uma lista de atributos, sendo que irá conter as semanas que caíram naquele neurônio\n",
        "#eu faço uma try catch para verificar se está vazio o atributo desse neuronio, como não existe uma função expecifica para verificar isso\n",
        "#acabo tendo que utiliza-lo. Se não estiver vazio ele recebe a lista e depois faz a consulta desse valor\n",
        "#depois recebe o atual e insere "
      ],
      "execution_count": 0,
      "outputs": []
    },
    {
      "cell_type": "markdown",
      "metadata": {
        "id": "7kiLUVmqKGOE",
        "colab_type": "text"
      },
      "source": [
        "Função para exibir qual foi a semana que caiu no neurônio"
      ]
    },
    {
      "cell_type": "code",
      "metadata": {
        "id": "KvV1fwikKFnp",
        "colab_type": "code",
        "colab": {}
      },
      "source": [
        "def verificaSemanasNoNeuronio(G,x,y):\n",
        "  print(\"Semana(s) que caíram no neurônio \" + str(G.nodes[(x,y)][\"semana\"]))"
      ],
      "execution_count": 0,
      "outputs": []
    },
    {
      "cell_type": "markdown",
      "metadata": {
        "id": "hxhdgZZMl5wp",
        "colab_type": "text"
      },
      "source": [
        "Legendas para o grafo"
      ]
    },
    {
      "cell_type": "code",
      "metadata": {
        "id": "asF7QzpmhZLY",
        "colab_type": "code",
        "colab": {}
      },
      "source": [
        "def legendasDoGrafo():\n",
        "  legend_elements = [Line2D([0], [0], marker = \"x\", color = \"w\", label = \"% de reprovados por neurônio\", markerfacecolor = \"black\", markersize = 15),\n",
        "                     Line2D([0], [0], marker = \"o\", color = \"w\", label = \"Até 10%\", markerfacecolor = \"g\", markersize = 15),\n",
        "                     Line2D([0], [0], marker = \"o\", color = \"w\", label = \"Entre 10% e 20%\", markerfacecolor = \"#FFFF00\", markersize = 15),\n",
        "                     Line2D([0], [0], marker = \"o\", color = \"w\", label = \"Acima de 20%\", markerfacecolor = \"r\", markersize = 15),\n",
        "                     Line2D([0], [0], marker = \"x\", color = \"w\", label = \"------------------------------------------\", markerfacecolor = \"black\", markersize = 15),\n",
        "                     Line2D([0], [0], marker = \"o\", color = \"w\", label = \"Posição do neurônio inicial\", markerfacecolor = \"#00FFFF\", markersize = 15),\n",
        "                    ]                  \n",
        "  return legend_elements"
      ],
      "execution_count": 0,
      "outputs": []
    },
    {
      "cell_type": "markdown",
      "metadata": {
        "id": "qd7IGyM1oPE1",
        "colab_type": "text"
      },
      "source": [
        "Estrutura para o grafo"
      ]
    },
    {
      "cell_type": "code",
      "metadata": {
        "id": "UWhhL6voncrb",
        "colab_type": "code",
        "colab": {}
      },
      "source": [
        "def criaEstruturaDoGrafo(G, color_map):\n",
        "  fig, ax = plt.subplots(figsize = (15, 10))\n",
        "  legend_elements = legendasDoGrafo()\n",
        "  plt.title(\"Grafo da trajetória de iteração de um aluno na disciplina de LOP\")  \n",
        "  ax.legend(handles = legend_elements, loc = \"upper left\")\n",
        "  nx.draw(G, with_labels = True, node_color = color_map, node_size = 3000, font_weight = \"bold\", ax = ax)\n",
        "  plt.show()"
      ],
      "execution_count": 0,
      "outputs": []
    },
    {
      "cell_type": "markdown",
      "metadata": {
        "id": "Abt9mSh-mAGB",
        "colab_type": "text"
      },
      "source": [
        "Função para criar o grafo de um determinado aluno"
      ]
    },
    {
      "cell_type": "code",
      "metadata": {
        "id": "XN9h2y1TYDmX",
        "colab_type": "code",
        "colab": {}
      },
      "source": [
        "def criaGrafo(listIteravel, limite): #Atributo limite vai ser o número maximo de semanas\n",
        "  G = nx.DiGraph()\n",
        "  color_map = [] #Lista para cores dos Nodes\n",
        "  lista = [] #Lista para conter as posições que já saíram, isso foi feito porque pode haver reposição de Nodes, ai quando adicionasse as cores se repeteria e\n",
        "  cont = 0   #o python reclaria de estouro, já que se existem 6 nodes, não faz sentido passar 8 parâmetros\n",
        "\n",
        "  for x in listIteravel: \n",
        "    pos = som.winner(x)\n",
        "    if(cont > 0):\n",
        "      G.add_edge(posAnt, pos)\n",
        "      G = insereAtributo(G, pos, cont) #continua aqui <<<<<<<\n",
        "    if(cont == 0):\n",
        "      color_map.append(consultaProporcao(pos))    \n",
        "    elif(pos not in lista):\n",
        "      color_map.append(consultaProporcao(pos))    \n",
        "    cont += 1\n",
        "    if(cont == (limite+1)):\n",
        "      break\n",
        "    posAnt = pos\n",
        "    lista.append(pos)\n",
        "\n",
        "  G.add_node((\"> \") + str(lista[0]) + (\" <\")) #esse Node sobrando vai me informar a coordenada inicial\n",
        "  color_map.append(\"#00FFFF\") #será em cor azul\n",
        "  criaEstruturaDoGrafo(G, color_map)\n",
        "  return G"
      ],
      "execution_count": 0,
      "outputs": []
    },
    {
      "cell_type": "markdown",
      "metadata": {
        "id": "xo83Fn70uT7O",
        "colab_type": "text"
      },
      "source": [
        "Verificando a situação de um aluno através de um grafo"
      ]
    },
    {
      "cell_type": "code",
      "metadata": {
        "id": "upRa7PUXuSYn",
        "colab_type": "code",
        "outputId": "6106d93c-f61d-4577-918b-13bb71f6a2d7",
        "colab": {
          "base_uri": "https://localhost:8080/",
          "height": 591
        }
      },
      "source": [
        "Grafo = criaGrafo(X_train,18)"
      ],
      "execution_count": 82,
      "outputs": [
        {
          "output_type": "display_data",
          "data": {
            "image/png": "[encoded data removed]",
            "text/plain": [
              "<Figure size 1080x720 with 1 Axes>"
            ]
          },
          "metadata": {
            "tags": []
          }
        }
      ]
    },
    {
      "cell_type": "code",
      "metadata": {
        "id": "7WRvVuBJK8kP",
        "colab_type": "code",
        "outputId": "43d2fb8a-5512-44be-f445-cac226aad5d6",
        "colab": {
          "base_uri": "https://localhost:8080/",
          "height": 34
        }
      },
      "source": [
        "verificaSemanasNoNeuronio(Grafo,0,0)"
      ],
      "execution_count": 84,
      "outputs": [
        {
          "output_type": "stream",
          "text": [
            "Semana(s) que caíram no neurônio [5, 8, 10, 16]\n"
          ],
          "name": "stdout"
        }
      ]
    },
    {
      "cell_type": "code",
      "metadata": {
        "id": "8868MZNWxZPy",
        "colab_type": "code",
        "outputId": "e23f1c73-0753-4e68-cee3-764a04c22801",
        "colab": {
          "base_uri": "https://localhost:8080/",
          "height": 542
        }
      },
      "source": [
        "exibeNeuronio(0,0) #Sem a normalização eu consigo ver exatamente o que tinha no neurônio"
      ],
      "execution_count": 87,
      "outputs": [
        {
          "output_type": "display_data",
          "data": {
            "image/png": "[encoded data removed]",
            "text/plain": [
              "<Figure size 432x288 with 1 Axes>"
            ]
          },
          "metadata": {
            "tags": []
          }
        }
      ]
    },
    {
      "cell_type": "markdown",
      "metadata": {
        "id": "9M-dh62fZELi",
        "colab_type": "text"
      },
      "source": [
        "Plot de Pizza das regiões de aprovação e reprovação"
      ]
    },
    {
      "cell_type": "code",
      "metadata": {
        "id": "W_QdieY4BNW1",
        "colab_type": "code",
        "outputId": "bb95bd03-2ba8-43c1-aa1b-e36d655ebbc0",
        "colab": {
          "base_uri": "https://localhost:8080/",
          "height": 248
        }
      },
      "source": [
        "cont = 1;\n",
        "for i in range(len(MContT)):\n",
        "  for j in range(len(MContT)):\n",
        "    plt.subplot(tamanhoXdaRede,tamanhoYdaRede,cont)\n",
        "    cont=cont+1\n",
        "    sizes = [MContAp[i][j],MContT[i][j]-MContAp[i][j]]\n",
        "    plt.pie(sizes)\n",
        "plt.show()"
      ],
      "execution_count": 0,
      "outputs": [
        {
          "output_type": "display_data",
          "data": {
            "image/png": "[encoded data removed]",
            "text/plain": [
              "<Figure size 432x288 with 400 Axes>"
            ]
          },
          "metadata": {
            "tags": []
          }
        }
      ]
    },
    {
      "cell_type": "markdown",
      "metadata": {
        "id": "AkX_bd1-_d9t",
        "colab_type": "text"
      },
      "source": [
        "#resto"
      ]
    },
    {
      "cell_type": "markdown",
      "metadata": {
        "id": "fIMMlv80C7RD",
        "colab_type": "text"
      },
      "source": [
        "Função pra gerar o campo dos vencedores"
      ]
    },
    {
      "cell_type": "code",
      "metadata": {
        "id": "4MYvAQ3IC6Uh",
        "colab_type": "code",
        "colab": {}
      },
      "source": [
        "def criaColunaVencedores(table1,table2):\n",
        "  for i in range(1,19):\n",
        "    table1[\"Vencedor semana \"+str(i)] = 0\n",
        "    table2[\"Vencedor semana \"+str(i)] = 0\n",
        "  table1[\"user\"]=0\n",
        "  table2[\"user\"]=0\n",
        "  return (table1,table2)"
      ],
      "execution_count": 0,
      "outputs": []
    },
    {
      "cell_type": "markdown",
      "metadata": {
        "id": "sGn-D2RbPmR-",
        "colab_type": "text"
      },
      "source": [
        "Escolhendo um caso específico para verificar o desempenho"
      ]
    },
    {
      "cell_type": "code",
      "metadata": {
        "id": "g0KcIb-QxwIz",
        "colab_type": "code",
        "outputId": "9ddb7204-4107-4bc4-e6b9-c8079aacb58e",
        "colab": {
          "base_uri": "https://localhost:8080/",
          "height": 745
        }
      },
      "source": [
        "aluno = tab.loc[tab[\"idAluno\"]==\"5991cd870be9d42f2f68b90c\",:]\n",
        "aluno = aluno.iloc[:,44:62].values\n",
        "\n",
        "BomDesempenho = np.zeros((tamanhoXdaRede,tamanhoYdaRede))\n",
        "\n",
        "cont = 0\n",
        "\n",
        "for x in range(tamanhoXdaRede): \n",
        "  pos = som.winner(x)    \n",
        "  BomDesempenho[pos] += 1\n",
        "print(BomDesempenho)"
      ],
      "execution_count": 0,
      "outputs": [
        {
          "output_type": "stream",
          "text": [
            "[[ 0.  0.  0.  0.  0.  0.  0.  0.  0.  0.  0.  0.  0.  0.  0.  0.  0.  0.\n",
            "   0.  0.]\n",
            " [ 0.  0.  0.  0.  0.  0.  0.  0.  0.  0.  0.  0.  0.  0.  0.  0.  0.  0.\n",
            "   0.  0.]\n",
            " [ 0.  0.  0.  0.  0.  0.  0.  1.  2.  0.  0.  0.  0.  0.  0.  0.  0.  0.\n",
            "   0.  0.]\n",
            " [ 0.  0.  0.  0.  1.  0.  0.  0.  0.  0.  0.  0.  0.  0.  0.  0.  0.  0.\n",
            "   0.  0.]\n",
            " [ 0.  0.  0.  0.  0.  0.  0.  0.  0.  0.  0.  0.  0.  0.  0.  0.  0.  0.\n",
            "   0.  0.]\n",
            " [ 0.  0.  0.  0.  0.  0.  0.  0.  0.  0.  0.  0.  0.  0.  0.  0.  0.  0.\n",
            "   0.  0.]\n",
            " [ 0.  0.  0.  0.  0.  0.  0.  0.  0.  0.  0.  0.  0.  0.  0.  0.  0.  0.\n",
            "   0.  0.]\n",
            " [ 0.  0.  0.  0.  0.  0.  0.  0.  0.  0.  0.  0.  0.  0.  0.  0.  0.  0.\n",
            "   0.  0.]\n",
            " [ 0. 15.  0.  0.  0.  0.  0.  0.  0.  0.  0.  0.  0.  0.  0.  0.  0.  0.\n",
            "   0.  0.]\n",
            " [ 0.  0.  0.  0.  0.  0.  0.  0.  0.  0.  0.  0.  0.  0.  0.  0.  0.  0.\n",
            "   0.  0.]\n",
            " [ 0.  0.  0.  0.  0.  0.  0.  0.  0.  0.  0.  0.  0.  0.  0.  0.  0.  0.\n",
            "   0.  0.]\n",
            " [ 0.  0.  0.  0.  0.  0.  0.  0.  0.  0.  0.  0.  0.  0.  0.  0.  0.  0.\n",
            "   0.  0.]\n",
            " [ 0.  0.  0.  0.  0.  1.  0.  0.  0.  0.  0.  0.  0.  0.  0.  0.  0.  0.\n",
            "   0.  0.]\n",
            " [ 0.  0.  0.  0.  0.  0.  0.  0.  0.  0.  0.  0.  0.  0.  0.  0.  0.  0.\n",
            "   0.  0.]\n",
            " [ 0.  0.  0.  0.  0.  0.  0.  0.  0.  0.  0.  0.  0.  0.  0.  0.  0.  0.\n",
            "   0.  0.]\n",
            " [ 0.  0.  0.  0.  0.  0.  0.  0.  0.  0.  0.  0.  0.  0.  0.  0.  0.  0.\n",
            "   0.  0.]\n",
            " [ 0.  0.  0.  0.  0.  0.  0.  0.  0.  0.  0.  0.  0.  0.  0.  0.  0.  0.\n",
            "   0.  0.]\n",
            " [ 0.  0.  0.  0.  0.  0.  0.  0.  0.  0.  0.  0.  0.  0.  0.  0.  0.  0.\n",
            "   0.  0.]\n",
            " [ 0.  0.  0.  0.  0.  0.  0.  0.  0.  0.  0.  0.  0.  0.  0.  0.  0.  0.\n",
            "   0.  0.]\n",
            " [ 0.  0.  0.  0.  0.  0.  0.  0.  0.  0.  0.  0.  0.  0.  0.  0.  0.  0.\n",
            "   0.  0.]]\n"
          ],
          "name": "stdout"
        }
      ]
    },
    {
      "cell_type": "markdown",
      "metadata": {
        "id": "xVGjUhwfgdyU",
        "colab_type": "text"
      },
      "source": [
        "#resto 2"
      ]
    },
    {
      "cell_type": "code",
      "metadata": {
        "id": "M2rqoy7mI8AM",
        "colab_type": "code",
        "colab": {}
      },
      "source": [
        "x_train = tab.iloc[:, 3:7].values"
      ],
      "execution_count": 0,
      "outputs": []
    },
    {
      "cell_type": "code",
      "metadata": {
        "id": "OjPEBRzw90Fi",
        "colab_type": "code",
        "outputId": "d10c782a-2521-4744-b7c9-c094d20f1802",
        "colab": {
          "base_uri": "https://localhost:8080/",
          "height": 51
        }
      },
      "source": [
        "cont = 1;\n",
        "#MContRe = np.zeros((tamanhoXdaRede,tamanhoYdaRede))\n",
        "matriz = np.zeros((tamanhoXdaRede,tamanhoXdaRede))\n",
        "for i in range(len(MContRe)):\n",
        "  for j in range(len(MContRe)):\n",
        "    matriz[i][j] = MContRe[i][j]/MContT[i][j]"
      ],
      "execution_count": 0,
      "outputs": [
        {
          "output_type": "stream",
          "text": [
            "/usr/local/lib/python3.6/dist-packages/ipykernel_launcher.py:6: RuntimeWarning: invalid value encountered in double_scalars\n",
            "  \n"
          ],
          "name": "stderr"
        }
      ]
    },
    {
      "cell_type": "code",
      "metadata": {
        "id": "LK2hPJ_W-hjq",
        "colab_type": "code",
        "outputId": "83337a31-39bb-4054-cf38-cde648bee66b",
        "colab": {
          "base_uri": "https://localhost:8080/",
          "height": 303
        }
      },
      "source": [
        "import matplotlib.cm as cm\n",
        "import matplotlib.mlab as mlab\n",
        "import matplotlib.pyplot as plt\n",
        "\n",
        "delta = 0.025\n",
        "#x = y = np.arange(-3.0, 3.0, delta)\n",
        "#X, Y = np.meshgrid(x, y)\n",
        "#Z1 = mlab.bivariate_normal(X, Y, 1.0, 1.0, 0.0, 0.0)\n",
        "#Z2 = mlab.bivariate_normal(X, Y, 1.5, 0.5, 1, 1)\n",
        "#Z = Z2 - Z1  # difference of Gaussians\n",
        "\n",
        "im = plt.imshow(matriz, interpolation='bilinear', cmap=cm.RdYlGn,\n",
        "                origin='lower', extent=[0, 18, 0, 18],\n",
        "                vmax=abs(matriz).max(), vmin=-abs(matriz).max())\n",
        "\n",
        "plt.show()"
      ],
      "execution_count": 0,
      "outputs": [
        {
          "output_type": "stream",
          "text": [
            "/usr/local/lib/python3.6/dist-packages/matplotlib/colors.py:527: RuntimeWarning: invalid value encountered in less\n",
            "  xa[xa < 0] = -1\n"
          ],
          "name": "stderr"
        },
        {
          "output_type": "display_data",
          "data": {
            "image/png": "[encoded data removed]",
            "text/plain": [
              "<Figure size 432x288 with 1 Axes>"
            ]
          },
          "metadata": {
            "tags": []
          }
        }
      ]
    },
    {
      "cell_type": "markdown",
      "metadata": {
        "id": "76hEA9kPAoT5",
        "colab_type": "text"
      },
      "source": [
        "Função para exibir um neurônio específico"
      ]
    },
    {
      "cell_type": "code",
      "metadata": {
        "id": "QFxfyRU-_1Yp",
        "colab_type": "code",
        "colab": {}
      },
      "source": [
        "def exibeNeuronio(linha,coluna): \n",
        "  x = tab.columns()\n",
        "  plt.plot([-1,18])\n",
        "  #plt.axis([-1, 18, 0, 35])\n",
        "  plt.bar(x, pesos[linha,coluna,:])\n",
        "  plt.show()"
      ],
      "execution_count": 0,
      "outputs": []
    },
    {
      "cell_type": "markdown",
      "metadata": {
        "id": "dPJkvE0hDsB8",
        "colab_type": "text"
      },
      "source": [
        "#Parte2"
      ]
    },
    {
      "cell_type": "markdown",
      "metadata": {
        "id": "88nMFA3SBxmx",
        "colab_type": "text"
      },
      "source": [
        "Função para deixar em uma linha "
      ]
    },
    {
      "cell_type": "code",
      "metadata": {
        "id": "NEPAArY-BQ3H",
        "colab_type": "code",
        "colab": {}
      },
      "source": [
        "def limpaConcatenaLinhas(table1,table2):\n",
        "  table1.replace(np.nan, 0, inplace=True)   \n",
        "  table1 = table1.groupby([\"user\"]).sum()\n",
        "  table2.replace(np.nan, 0, inplace=True)   \n",
        "  table2 = table2.groupby([\"user\"]).sum()\n",
        "  return (table1,table2)"
      ],
      "execution_count": 0,
      "outputs": []
    },
    {
      "cell_type": "markdown",
      "metadata": {
        "id": "-ei8haby_2p_",
        "colab_type": "text"
      },
      "source": [
        "Função para separar em um dfx e um dfy os vencedores da SOM"
      ]
    },
    {
      "cell_type": "code",
      "metadata": {
        "id": "ikUD66mhwBhv",
        "colab_type": "code",
        "colab": {}
      },
      "source": [
        "def separaXeYdosVencedores():\n",
        "  cont = 1\n",
        "  user = 1\n",
        "\n",
        "  dfx = pd.DataFrame()\n",
        "  dfy = pd.DataFrame()\n",
        "  (dfx,dfy) = criaColunaVencedores(dfx,dfy)\n",
        "\n",
        "  for i in X_train:\n",
        "    pos = som.winner(i)\n",
        "    arraybi = np.asarray(pos)\n",
        "    if(cont == 19):\n",
        "        cont = 1\n",
        "        user = user + 1\n",
        "    dfx = dfx.append({dfx.columns[cont-1]:arraybi[0],\"user\":user}, ignore_index=True)\n",
        "    dfy = dfy.append({dfy.columns[cont-1]:arraybi[1],\"user\":user}, ignore_index=True)  \n",
        "    cont = cont + 1\n",
        "  (dfx,dfy) = limpaConcatenaLinhas(dfx,dfy)  \n",
        "  return(dfx,dfy)"
      ],
      "execution_count": 0,
      "outputs": []
    },
    {
      "cell_type": "markdown",
      "metadata": {
        "id": "NWbnmLE5ByWV",
        "colab_type": "text"
      },
      "source": [
        "Chamada das função de separar o X e o Y dos vencedores por semana em dataframes"
      ]
    },
    {
      "cell_type": "code",
      "metadata": {
        "id": "KXlGkfNX_gRs",
        "colab_type": "code",
        "colab": {}
      },
      "source": [
        "(vencedorX,vencedorY) = separaXeYdosVencedores()"
      ],
      "execution_count": 0,
      "outputs": []
    },
    {
      "cell_type": "code",
      "metadata": {
        "id": "F6koqUtvHWQ2",
        "colab_type": "code",
        "outputId": "7fccf187-06ae-480f-a427-19a6e7726588",
        "colab": {
          "base_uri": "https://localhost:8080/",
          "height": 190
        }
      },
      "source": [
        "vencedorX.head(2)"
      ],
      "execution_count": 0,
      "outputs": [
        {
          "output_type": "execute_result",
          "data": {
            "text/html": [
              "<div>\n",
              "<style scoped>\n",
              "    .dataframe tbody tr th:only-of-type {\n",
              "        vertical-align: middle;\n",
              "    }\n",
              "\n",
              "    .dataframe tbody tr th {\n",
              "        vertical-align: top;\n",
              "    }\n",
              "\n",
              "    .dataframe thead th {\n",
              "        text-align: right;\n",
              "    }\n",
              "</style>\n",
              "<table border=\"1\" class=\"dataframe\">\n",
              "  <thead>\n",
              "    <tr style=\"text-align: right;\">\n",
              "      <th></th>\n",
              "      <th>Vencedor semana 1</th>\n",
              "      <th>Vencedor semana 2</th>\n",
              "      <th>Vencedor semana 3</th>\n",
              "      <th>Vencedor semana 4</th>\n",
              "      <th>Vencedor semana 5</th>\n",
              "      <th>Vencedor semana 6</th>\n",
              "      <th>Vencedor semana 7</th>\n",
              "      <th>Vencedor semana 8</th>\n",
              "      <th>Vencedor semana 9</th>\n",
              "      <th>Vencedor semana 10</th>\n",
              "      <th>Vencedor semana 11</th>\n",
              "      <th>Vencedor semana 12</th>\n",
              "      <th>Vencedor semana 13</th>\n",
              "      <th>Vencedor semana 14</th>\n",
              "      <th>Vencedor semana 15</th>\n",
              "      <th>Vencedor semana 16</th>\n",
              "      <th>Vencedor semana 17</th>\n",
              "      <th>Vencedor semana 18</th>\n",
              "    </tr>\n",
              "    <tr>\n",
              "      <th>user</th>\n",
              "      <th></th>\n",
              "      <th></th>\n",
              "      <th></th>\n",
              "      <th></th>\n",
              "      <th></th>\n",
              "      <th></th>\n",
              "      <th></th>\n",
              "      <th></th>\n",
              "      <th></th>\n",
              "      <th></th>\n",
              "      <th></th>\n",
              "      <th></th>\n",
              "      <th></th>\n",
              "      <th></th>\n",
              "      <th></th>\n",
              "      <th></th>\n",
              "      <th></th>\n",
              "      <th></th>\n",
              "    </tr>\n",
              "  </thead>\n",
              "  <tbody>\n",
              "    <tr>\n",
              "      <th>1.0</th>\n",
              "      <td>0.0</td>\n",
              "      <td>2.0</td>\n",
              "      <td>3.0</td>\n",
              "      <td>2.0</td>\n",
              "      <td>2.0</td>\n",
              "      <td>0.0</td>\n",
              "      <td>2.0</td>\n",
              "      <td>2.0</td>\n",
              "      <td>0.0</td>\n",
              "      <td>0.0</td>\n",
              "      <td>0.0</td>\n",
              "      <td>0.0</td>\n",
              "      <td>2.0</td>\n",
              "      <td>4.0</td>\n",
              "      <td>2.0</td>\n",
              "      <td>2.0</td>\n",
              "      <td>0.0</td>\n",
              "      <td>2.0</td>\n",
              "    </tr>\n",
              "    <tr>\n",
              "      <th>2.0</th>\n",
              "      <td>2.0</td>\n",
              "      <td>0.0</td>\n",
              "      <td>0.0</td>\n",
              "      <td>4.0</td>\n",
              "      <td>7.0</td>\n",
              "      <td>5.0</td>\n",
              "      <td>7.0</td>\n",
              "      <td>7.0</td>\n",
              "      <td>0.0</td>\n",
              "      <td>7.0</td>\n",
              "      <td>7.0</td>\n",
              "      <td>7.0</td>\n",
              "      <td>7.0</td>\n",
              "      <td>4.0</td>\n",
              "      <td>7.0</td>\n",
              "      <td>0.0</td>\n",
              "      <td>5.0</td>\n",
              "      <td>7.0</td>\n",
              "    </tr>\n",
              "  </tbody>\n",
              "</table>\n",
              "</div>"
            ],
            "text/plain": [
              "      Vencedor semana 1  ...  Vencedor semana 18\n",
              "user                     ...                    \n",
              "1.0                 0.0  ...                 2.0\n",
              "2.0                 2.0  ...                 7.0\n",
              "\n",
              "[2 rows x 18 columns]"
            ]
          },
          "metadata": {
            "tags": []
          },
          "execution_count": 128
        }
      ]
    },
    {
      "cell_type": "code",
      "metadata": {
        "id": "ynVs4j5VBviK",
        "colab_type": "code",
        "outputId": "ba4a780e-47b2-445f-a077-751e5ce0ab43",
        "colab": {
          "base_uri": "https://localhost:8080/",
          "height": 190
        }
      },
      "source": [
        "vencedorY.head(2)"
      ],
      "execution_count": 0,
      "outputs": [
        {
          "output_type": "execute_result",
          "data": {
            "text/html": [
              "<div>\n",
              "<style scoped>\n",
              "    .dataframe tbody tr th:only-of-type {\n",
              "        vertical-align: middle;\n",
              "    }\n",
              "\n",
              "    .dataframe tbody tr th {\n",
              "        vertical-align: top;\n",
              "    }\n",
              "\n",
              "    .dataframe thead th {\n",
              "        text-align: right;\n",
              "    }\n",
              "</style>\n",
              "<table border=\"1\" class=\"dataframe\">\n",
              "  <thead>\n",
              "    <tr style=\"text-align: right;\">\n",
              "      <th></th>\n",
              "      <th>Vencedor semana 1</th>\n",
              "      <th>Vencedor semana 2</th>\n",
              "      <th>Vencedor semana 3</th>\n",
              "      <th>Vencedor semana 4</th>\n",
              "      <th>Vencedor semana 5</th>\n",
              "      <th>Vencedor semana 6</th>\n",
              "      <th>Vencedor semana 7</th>\n",
              "      <th>Vencedor semana 8</th>\n",
              "      <th>Vencedor semana 9</th>\n",
              "      <th>Vencedor semana 10</th>\n",
              "      <th>Vencedor semana 11</th>\n",
              "      <th>Vencedor semana 12</th>\n",
              "      <th>Vencedor semana 13</th>\n",
              "      <th>Vencedor semana 14</th>\n",
              "      <th>Vencedor semana 15</th>\n",
              "      <th>Vencedor semana 16</th>\n",
              "      <th>Vencedor semana 17</th>\n",
              "      <th>Vencedor semana 18</th>\n",
              "    </tr>\n",
              "    <tr>\n",
              "      <th>user</th>\n",
              "      <th></th>\n",
              "      <th></th>\n",
              "      <th></th>\n",
              "      <th></th>\n",
              "      <th></th>\n",
              "      <th></th>\n",
              "      <th></th>\n",
              "      <th></th>\n",
              "      <th></th>\n",
              "      <th></th>\n",
              "      <th></th>\n",
              "      <th></th>\n",
              "      <th></th>\n",
              "      <th></th>\n",
              "      <th></th>\n",
              "      <th></th>\n",
              "      <th></th>\n",
              "      <th></th>\n",
              "    </tr>\n",
              "  </thead>\n",
              "  <tbody>\n",
              "    <tr>\n",
              "      <th>1.0</th>\n",
              "      <td>9.0</td>\n",
              "      <td>1.0</td>\n",
              "      <td>3.0</td>\n",
              "      <td>2.0</td>\n",
              "      <td>1.0</td>\n",
              "      <td>3.0</td>\n",
              "      <td>1.0</td>\n",
              "      <td>1.0</td>\n",
              "      <td>3.0</td>\n",
              "      <td>9.0</td>\n",
              "      <td>3.0</td>\n",
              "      <td>9.0</td>\n",
              "      <td>1.0</td>\n",
              "      <td>8.0</td>\n",
              "      <td>2.0</td>\n",
              "      <td>1.0</td>\n",
              "      <td>3.0</td>\n",
              "      <td>1.0</td>\n",
              "    </tr>\n",
              "    <tr>\n",
              "      <th>2.0</th>\n",
              "      <td>1.0</td>\n",
              "      <td>3.0</td>\n",
              "      <td>3.0</td>\n",
              "      <td>8.0</td>\n",
              "      <td>6.0</td>\n",
              "      <td>7.0</td>\n",
              "      <td>6.0</td>\n",
              "      <td>6.0</td>\n",
              "      <td>9.0</td>\n",
              "      <td>6.0</td>\n",
              "      <td>6.0</td>\n",
              "      <td>6.0</td>\n",
              "      <td>6.0</td>\n",
              "      <td>8.0</td>\n",
              "      <td>6.0</td>\n",
              "      <td>9.0</td>\n",
              "      <td>7.0</td>\n",
              "      <td>6.0</td>\n",
              "    </tr>\n",
              "  </tbody>\n",
              "</table>\n",
              "</div>"
            ],
            "text/plain": [
              "      Vencedor semana 1  ...  Vencedor semana 18\n",
              "user                     ...                    \n",
              "1.0                 9.0  ...                 1.0\n",
              "2.0                 1.0  ...                 6.0\n",
              "\n",
              "[2 rows x 18 columns]"
            ]
          },
          "metadata": {
            "tags": []
          },
          "execution_count": 129
        }
      ]
    },
    {
      "cell_type": "code",
      "metadata": {
        "id": "dCJ2gFzS_gyr",
        "colab_type": "code",
        "colab": {}
      },
      "source": [
        "vency = vencedorY.iloc[1000,1:].values\n",
        "vencx = vencedorX.iloc[1000,1:].values"
      ],
      "execution_count": 0,
      "outputs": []
    },
    {
      "cell_type": "code",
      "metadata": {
        "id": "dBVPLGVF_-vT",
        "colab_type": "code",
        "outputId": "5cec1c08-1ea2-41cf-9477-52bd594e5caa",
        "colab": {
          "base_uri": "https://localhost:8080/",
          "height": 52
        }
      },
      "source": [
        "print(vencx)\n",
        "print(vency)"
      ],
      "execution_count": 0,
      "outputs": [
        {
          "output_type": "stream",
          "text": [
            "[9. 2. 9. 2. 2. 9. 2. 2. 6. 9. 2. 2. 5. 2. 9. 2. 2.]\n",
            "[9. 4. 9. 4. 4. 9. 4. 4. 4. 9. 4. 4. 5. 3. 9. 3. 4.]\n"
          ],
          "name": "stdout"
        }
      ]
    },
    {
      "cell_type": "code",
      "metadata": {
        "id": "d7gq2QU9_0-z",
        "colab_type": "code",
        "outputId": "b17a6a93-24e7-409b-a782-5956d123f7c6",
        "colab": {
          "base_uri": "https://localhost:8080/",
          "height": 274
        }
      },
      "source": [
        "plt.plot(vency,vencx)\n",
        "plt.scatter(vency,vencx)\n",
        "plt.scatter(1,17,marker=\"x\")\n",
        "plt.axis([-1,20,-1,20])\n",
        "plt.show()"
      ],
      "execution_count": 0,
      "outputs": [
        {
          "output_type": "display_data",
          "data": {
            "image/png": "[encoded data removed]",
            "text/plain": [
              "<Figure size 432x288 with 1 Axes>"
            ]
          },
          "metadata": {
            "tags": []
          }
        }
      ]
    },
    {
      "cell_type": "markdown",
      "metadata": {
        "id": "EDsvJjWV3-_K",
        "colab_type": "text"
      },
      "source": [
        "Gera CSV'S"
      ]
    },
    {
      "cell_type": "code",
      "metadata": {
        "id": "TTNQbMyjRjHO",
        "colab_type": "code",
        "colab": {}
      },
      "source": [
        "vencedorX.to_csv(\"vencedorX.csv\")\n",
        "vencedorY.to_csv(\"vencedorY.csv\")"
      ],
      "execution_count": 0,
      "outputs": []
    },
    {
      "cell_type": "code",
      "metadata": {
        "id": "dlTweHxk4wP5",
        "colab_type": "code",
        "outputId": "9ac3714f-6abd-4236-bb75-647f6b0cdfdb",
        "colab": {
          "base_uri": "https://localhost:8080/",
          "height": 34
        }
      },
      "source": [
        "X_train[3][2]"
      ],
      "execution_count": 0,
      "outputs": [
        {
          "output_type": "execute_result",
          "data": {
            "text/plain": [
              "0.0"
            ]
          },
          "metadata": {
            "tags": []
          },
          "execution_count": 21
        }
      ]
    },
    {
      "cell_type": "code",
      "metadata": {
        "id": "Rq3gWO1B6Era",
        "colab_type": "code",
        "colab": {}
      },
      "source": [
        "X_test = X_train[50]"
      ],
      "execution_count": 0,
      "outputs": []
    },
    {
      "cell_type": "code",
      "metadata": {
        "id": "mZbq8RRs6y7V",
        "colab_type": "code",
        "outputId": "22d15613-d418-44ca-ade9-15b4ae8f68a6",
        "colab": {
          "base_uri": "https://localhost:8080/",
          "height": 52
        }
      },
      "source": [
        "X_test"
      ],
      "execution_count": 0,
      "outputs": [
        {
          "output_type": "execute_result",
          "data": {
            "text/plain": [
              "array([ 0.,  0.,  0.,  5.,  0.,  5.,  0., 14.,  2.,  0.,  0.,  4.,  0.,\n",
              "        5.,  0.,  0.,  0.,  0.])"
            ]
          },
          "metadata": {
            "tags": []
          },
          "execution_count": 30
        }
      ]
    },
    {
      "cell_type": "code",
      "metadata": {
        "id": "9tV5QQpHDpZe",
        "colab_type": "code",
        "outputId": "71e8b944-1656-4c65-a088-137a56a95ee7",
        "colab": {
          "base_uri": "https://localhost:8080/",
          "height": 187
        }
      },
      "source": [
        "print(MContT.astype(int))"
      ],
      "execution_count": 0,
      "outputs": [
        {
          "output_type": "stream",
          "text": [
            "[[ 276  442    0 5468   95  208  284   48   36  132]\n",
            " [ 127  430  516  406  117  206   99  185   75    4]\n",
            " [ 223  218  132  216  328  196  151  105   60   81]\n",
            " [ 296  497   97   98  205  165   43  187  112    0]\n",
            " [ 201  174  369  141   61  133  177   63   10   40]\n",
            " [  84  164   20  182   51  146    5   50   30    0]\n",
            " [  79  117   60   77    2  322   50   85   15  128]\n",
            " [ 267   60   42  105   14  179   44   20  275  136]\n",
            " [  93   44  121   53   67   59   93  212   29   80]\n",
            " [ 148  101  233  154   73   54  104  183  183   95]]\n"
          ],
          "name": "stdout"
        }
      ]
    },
    {
      "cell_type": "code",
      "metadata": {
        "id": "y2uzWXvBMgf-",
        "colab_type": "code",
        "colab": {}
      },
      "source": [
        "aluno = tab.loc[tab[\"idAluno\"]==\"5ace43c6e1b024040e6845f0\",:]\n",
        "aluno = aluno.iloc[:,44:62]\n",
        "aluno"
      ],
      "execution_count": 0,
      "outputs": []
    },
    {
      "cell_type": "code",
      "metadata": {
        "id": "AvoZvNL5Lta2",
        "colab_type": "code",
        "outputId": "e3356000-dd83-4d16-8e34-948f45b97f7e",
        "colab": {
          "base_uri": "https://localhost:8080/",
          "height": 199
        }
      },
      "source": [
        "aluno = tab.loc[tab[\"idAluno\"]==\"5ace43c6e1b024040e6845f0\",:]\n",
        "aluno = aluno.iloc[:,44:62].values\n",
        "\n",
        "BomDesempenho = np.zeros((tamanhoXdaRede,tamanhoYdaRede))\n",
        "\n",
        "cont = 0\n",
        "\n",
        "for x in range(0,1): \n",
        "  pos = som.winner(x)    \n",
        "  BomDesempenho[pos] += 1\n",
        "print(BomDesempenho)"
      ],
      "execution_count": 0,
      "outputs": [
        {
          "output_type": "stream",
          "text": [
            "[[0. 0. 0. 0. 0. 0. 0. 0. 0. 0.]\n",
            " [0. 0. 0. 0. 0. 0. 0. 0. 0. 0.]\n",
            " [0. 0. 0. 0. 0. 0. 0. 0. 0. 0.]\n",
            " [0. 0. 0. 0. 1. 0. 0. 0. 0. 0.]\n",
            " [0. 0. 0. 0. 0. 0. 0. 0. 0. 0.]\n",
            " [0. 0. 0. 0. 0. 0. 0. 0. 0. 0.]\n",
            " [0. 0. 0. 0. 0. 0. 0. 0. 0. 0.]\n",
            " [0. 0. 0. 0. 0. 0. 0. 0. 0. 0.]\n",
            " [0. 0. 0. 0. 0. 0. 0. 0. 0. 0.]\n",
            " [0. 0. 0. 0. 0. 0. 0. 0. 0. 0.]]\n"
          ],
          "name": "stdout"
        }
      ]
    },
    {
      "cell_type": "code",
      "metadata": {
        "id": "8NdygzhuFdhc",
        "colab_type": "code",
        "outputId": "77db47ac-76c9-4f10-8d0b-9b3b034bd8b3",
        "colab": {
          "base_uri": "https://localhost:8080/",
          "height": 199
        }
      },
      "source": [
        "print(MContT)"
      ],
      "execution_count": 0,
      "outputs": [
        {
          "output_type": "stream",
          "text": [
            "[[ 158.  149.  152.  506.  134. 5418.  126.  497.  295.  226.]\n",
            " [   0.    8.  203.  127.   61.  440.   70.   91.  189.  153.]\n",
            " [  96.   76.   38.  238.  203.  177.  238.  275.  121.  235.]\n",
            " [  16.   12.  206.  126.   21.  149.  469.  300.  115.   92.]\n",
            " [ 191.   75.  109.   96.   84.  394.  135.  262.  120.  178.]\n",
            " [ 128.   24.  120.   47.  249.   46.  172.    0.  152.  106.]\n",
            " [  99.   64.   89.   84.   48.   35.   90.   40.    0.  100.]\n",
            " [  78.  177.   46.   98.  116.   47.  114.    0.  176.   87.]\n",
            " [  75.    0.  144.   54.  198.   94.   78.  212.   84.  109.]\n",
            " [ 114.   30.  184.  199.  289.  139.   41.  194.   63.  138.]]\n"
          ],
          "name": "stdout"
        }
      ]
    },
    {
      "cell_type": "code",
      "metadata": {
        "id": "8SXb98CZGoaK",
        "colab_type": "code",
        "outputId": "fecd5c91-cba4-43b8-a3fd-439a3b137c54",
        "colab": {
          "base_uri": "https://localhost:8080/",
          "height": 377
        }
      },
      "source": [
        "tab.describe()"
      ],
      "execution_count": 0,
      "outputs": [
        {
          "output_type": "execute_result",
          "data": {
            "text/html": [
              "<div>\n",
              "<style scoped>\n",
              "    .dataframe tbody tr th:only-of-type {\n",
              "        vertical-align: middle;\n",
              "    }\n",
              "\n",
              "    .dataframe tbody tr th {\n",
              "        vertical-align: top;\n",
              "    }\n",
              "\n",
              "    .dataframe thead th {\n",
              "        text-align: right;\n",
              "    }\n",
              "</style>\n",
              "<table border=\"1\" class=\"dataframe\">\n",
              "  <thead>\n",
              "    <tr style=\"text-align: right;\">\n",
              "      <th></th>\n",
              "      <th>nota</th>\n",
              "      <th>submissões diferentes e iguais a 100% semana 1</th>\n",
              "      <th>submissões diferentes e iguais a 100% semana 2</th>\n",
              "      <th>submissões diferentes e iguais a 100% semana 3</th>\n",
              "      <th>submissões diferentes e iguais a 100% semana 4</th>\n",
              "      <th>submissões diferentes e iguais a 100% semana 5</th>\n",
              "      <th>submissões diferentes e iguais a 100% semana 6</th>\n",
              "      <th>submissões diferentes e iguais a 100% semana 7</th>\n",
              "      <th>submissões diferentes e iguais a 100% semana 8</th>\n",
              "      <th>submissões diferentes e iguais a 100% semana 9</th>\n",
              "      <th>submissões diferentes e iguais a 100% semana 10</th>\n",
              "      <th>submissões diferentes e iguais a 100% semana 11</th>\n",
              "      <th>submissões diferentes e iguais a 100% semana 12</th>\n",
              "      <th>submissões diferentes e iguais a 100% semana 13</th>\n",
              "      <th>submissões diferentes e iguais a 100% semana 14</th>\n",
              "      <th>submissões diferentes e iguais a 100% semana 15</th>\n",
              "      <th>submissões diferentes e iguais a 100% semana 16</th>\n",
              "      <th>submissões diferentes e iguais a 100% semana 17</th>\n",
              "      <th>submissões diferentes e iguais a 100% semana 18</th>\n",
              "    </tr>\n",
              "  </thead>\n",
              "  <tbody>\n",
              "    <tr>\n",
              "      <th>count</th>\n",
              "      <td>18921.000000</td>\n",
              "      <td>18921.0</td>\n",
              "      <td>18921.000000</td>\n",
              "      <td>18921.000000</td>\n",
              "      <td>18921.000000</td>\n",
              "      <td>18921.000000</td>\n",
              "      <td>18921.000000</td>\n",
              "      <td>18921.000000</td>\n",
              "      <td>18921.000000</td>\n",
              "      <td>18921.000000</td>\n",
              "      <td>18921.000000</td>\n",
              "      <td>18921.000000</td>\n",
              "      <td>18921.000000</td>\n",
              "      <td>18921.000000</td>\n",
              "      <td>18921.000000</td>\n",
              "      <td>18921.000000</td>\n",
              "      <td>18921.000000</td>\n",
              "      <td>18921.000000</td>\n",
              "      <td>18921.000000</td>\n",
              "    </tr>\n",
              "    <tr>\n",
              "      <th>mean</th>\n",
              "      <td>5.847392</td>\n",
              "      <td>0.0</td>\n",
              "      <td>0.019026</td>\n",
              "      <td>0.781248</td>\n",
              "      <td>1.266212</td>\n",
              "      <td>1.899371</td>\n",
              "      <td>1.419798</td>\n",
              "      <td>1.838433</td>\n",
              "      <td>2.284869</td>\n",
              "      <td>2.668569</td>\n",
              "      <td>1.426352</td>\n",
              "      <td>0.512182</td>\n",
              "      <td>0.562338</td>\n",
              "      <td>0.596956</td>\n",
              "      <td>0.589821</td>\n",
              "      <td>0.460229</td>\n",
              "      <td>0.459807</td>\n",
              "      <td>0.162518</td>\n",
              "      <td>0.155172</td>\n",
              "    </tr>\n",
              "    <tr>\n",
              "      <th>std</th>\n",
              "      <td>3.079472</td>\n",
              "      <td>0.0</td>\n",
              "      <td>0.415932</td>\n",
              "      <td>3.038596</td>\n",
              "      <td>3.598318</td>\n",
              "      <td>3.981952</td>\n",
              "      <td>3.316071</td>\n",
              "      <td>3.937911</td>\n",
              "      <td>4.553769</td>\n",
              "      <td>5.838618</td>\n",
              "      <td>4.187351</td>\n",
              "      <td>1.978043</td>\n",
              "      <td>1.927007</td>\n",
              "      <td>2.106674</td>\n",
              "      <td>2.035644</td>\n",
              "      <td>1.920160</td>\n",
              "      <td>1.989025</td>\n",
              "      <td>1.231743</td>\n",
              "      <td>1.281855</td>\n",
              "    </tr>\n",
              "    <tr>\n",
              "      <th>min</th>\n",
              "      <td>0.000000</td>\n",
              "      <td>0.0</td>\n",
              "      <td>0.000000</td>\n",
              "      <td>0.000000</td>\n",
              "      <td>0.000000</td>\n",
              "      <td>0.000000</td>\n",
              "      <td>0.000000</td>\n",
              "      <td>0.000000</td>\n",
              "      <td>0.000000</td>\n",
              "      <td>0.000000</td>\n",
              "      <td>0.000000</td>\n",
              "      <td>0.000000</td>\n",
              "      <td>0.000000</td>\n",
              "      <td>0.000000</td>\n",
              "      <td>0.000000</td>\n",
              "      <td>0.000000</td>\n",
              "      <td>0.000000</td>\n",
              "      <td>0.000000</td>\n",
              "      <td>0.000000</td>\n",
              "    </tr>\n",
              "    <tr>\n",
              "      <th>25%</th>\n",
              "      <td>3.700000</td>\n",
              "      <td>0.0</td>\n",
              "      <td>0.000000</td>\n",
              "      <td>0.000000</td>\n",
              "      <td>0.000000</td>\n",
              "      <td>0.000000</td>\n",
              "      <td>0.000000</td>\n",
              "      <td>0.000000</td>\n",
              "      <td>0.000000</td>\n",
              "      <td>0.000000</td>\n",
              "      <td>0.000000</td>\n",
              "      <td>0.000000</td>\n",
              "      <td>0.000000</td>\n",
              "      <td>0.000000</td>\n",
              "      <td>0.000000</td>\n",
              "      <td>0.000000</td>\n",
              "      <td>0.000000</td>\n",
              "      <td>0.000000</td>\n",
              "      <td>0.000000</td>\n",
              "    </tr>\n",
              "    <tr>\n",
              "      <th>50%</th>\n",
              "      <td>6.600000</td>\n",
              "      <td>0.0</td>\n",
              "      <td>0.000000</td>\n",
              "      <td>0.000000</td>\n",
              "      <td>0.000000</td>\n",
              "      <td>0.000000</td>\n",
              "      <td>0.000000</td>\n",
              "      <td>0.000000</td>\n",
              "      <td>0.000000</td>\n",
              "      <td>0.000000</td>\n",
              "      <td>0.000000</td>\n",
              "      <td>0.000000</td>\n",
              "      <td>0.000000</td>\n",
              "      <td>0.000000</td>\n",
              "      <td>0.000000</td>\n",
              "      <td>0.000000</td>\n",
              "      <td>0.000000</td>\n",
              "      <td>0.000000</td>\n",
              "      <td>0.000000</td>\n",
              "    </tr>\n",
              "    <tr>\n",
              "      <th>75%</th>\n",
              "      <td>8.300000</td>\n",
              "      <td>0.0</td>\n",
              "      <td>0.000000</td>\n",
              "      <td>0.000000</td>\n",
              "      <td>1.000000</td>\n",
              "      <td>2.000000</td>\n",
              "      <td>1.000000</td>\n",
              "      <td>3.000000</td>\n",
              "      <td>3.000000</td>\n",
              "      <td>3.000000</td>\n",
              "      <td>0.000000</td>\n",
              "      <td>0.000000</td>\n",
              "      <td>0.000000</td>\n",
              "      <td>0.000000</td>\n",
              "      <td>0.000000</td>\n",
              "      <td>0.000000</td>\n",
              "      <td>0.000000</td>\n",
              "      <td>0.000000</td>\n",
              "      <td>0.000000</td>\n",
              "    </tr>\n",
              "    <tr>\n",
              "      <th>max</th>\n",
              "      <td>10.000000</td>\n",
              "      <td>0.0</td>\n",
              "      <td>10.000000</td>\n",
              "      <td>34.000000</td>\n",
              "      <td>62.000000</td>\n",
              "      <td>30.000000</td>\n",
              "      <td>28.000000</td>\n",
              "      <td>33.000000</td>\n",
              "      <td>31.000000</td>\n",
              "      <td>71.000000</td>\n",
              "      <td>50.000000</td>\n",
              "      <td>30.000000</td>\n",
              "      <td>23.000000</td>\n",
              "      <td>33.000000</td>\n",
              "      <td>33.000000</td>\n",
              "      <td>20.000000</td>\n",
              "      <td>31.000000</td>\n",
              "      <td>35.000000</td>\n",
              "      <td>30.000000</td>\n",
              "    </tr>\n",
              "  </tbody>\n",
              "</table>\n",
              "</div>"
            ],
            "text/plain": [
              "               nota  ...  submissões diferentes e iguais a 100% semana 18\n",
              "count  18921.000000  ...                                     18921.000000\n",
              "mean       5.847392  ...                                         0.155172\n",
              "std        3.079472  ...                                         1.281855\n",
              "min        0.000000  ...                                         0.000000\n",
              "25%        3.700000  ...                                         0.000000\n",
              "50%        6.600000  ...                                         0.000000\n",
              "75%        8.300000  ...                                         0.000000\n",
              "max       10.000000  ...                                        30.000000\n",
              "\n",
              "[8 rows x 19 columns]"
            ]
          },
          "metadata": {
            "tags": []
          },
          "execution_count": 30
        }
      ]
    },
    {
      "cell_type": "code",
      "metadata": {
        "id": "O9zQJnEAHTil",
        "colab_type": "code",
        "outputId": "3f7c3e54-f87e-463b-d7b7-aa89a575d56d",
        "colab": {
          "base_uri": "https://localhost:8080/",
          "height": 527
        }
      },
      "source": [
        "tab.loc[tab[\"submissões diferentes e iguais a 100% semana 9\"] == 71,:]"
      ],
      "execution_count": 0,
      "outputs": [
        {
          "output_type": "execute_result",
          "data": {
            "text/html": [
              "<div>\n",
              "<style scoped>\n",
              "    .dataframe tbody tr th:only-of-type {\n",
              "        vertical-align: middle;\n",
              "    }\n",
              "\n",
              "    .dataframe tbody tr th {\n",
              "        vertical-align: top;\n",
              "    }\n",
              "\n",
              "    .dataframe thead th {\n",
              "        text-align: right;\n",
              "    }\n",
              "</style>\n",
              "<table border=\"1\" class=\"dataframe\">\n",
              "  <thead>\n",
              "    <tr style=\"text-align: right;\">\n",
              "      <th></th>\n",
              "      <th>idAluno</th>\n",
              "      <th>nota</th>\n",
              "      <th>situacao</th>\n",
              "      <th>submissões diferentes e iguais a 100% semana 1</th>\n",
              "      <th>submissões diferentes e iguais a 100% semana 2</th>\n",
              "      <th>submissões diferentes e iguais a 100% semana 3</th>\n",
              "      <th>submissões diferentes e iguais a 100% semana 4</th>\n",
              "      <th>submissões diferentes e iguais a 100% semana 5</th>\n",
              "      <th>submissões diferentes e iguais a 100% semana 6</th>\n",
              "      <th>submissões diferentes e iguais a 100% semana 7</th>\n",
              "      <th>submissões diferentes e iguais a 100% semana 8</th>\n",
              "      <th>submissões diferentes e iguais a 100% semana 9</th>\n",
              "      <th>submissões diferentes e iguais a 100% semana 10</th>\n",
              "      <th>submissões diferentes e iguais a 100% semana 11</th>\n",
              "      <th>submissões diferentes e iguais a 100% semana 12</th>\n",
              "      <th>submissões diferentes e iguais a 100% semana 13</th>\n",
              "      <th>submissões diferentes e iguais a 100% semana 14</th>\n",
              "      <th>submissões diferentes e iguais a 100% semana 15</th>\n",
              "      <th>submissões diferentes e iguais a 100% semana 16</th>\n",
              "      <th>submissões diferentes e iguais a 100% semana 17</th>\n",
              "      <th>submissões diferentes e iguais a 100% semana 18</th>\n",
              "    </tr>\n",
              "  </thead>\n",
              "  <tbody>\n",
              "    <tr>\n",
              "      <th>9891</th>\n",
              "      <td>5ace43c6e1b024040e6845f0</td>\n",
              "      <td>8.5</td>\n",
              "      <td>APROVADO</td>\n",
              "      <td>0.0</td>\n",
              "      <td>0.0</td>\n",
              "      <td>0.0</td>\n",
              "      <td>0.0</td>\n",
              "      <td>0.0</td>\n",
              "      <td>0.0</td>\n",
              "      <td>0.0</td>\n",
              "      <td>14.0</td>\n",
              "      <td>71.0</td>\n",
              "      <td>0.0</td>\n",
              "      <td>0.0</td>\n",
              "      <td>0.0</td>\n",
              "      <td>0.0</td>\n",
              "      <td>0.0</td>\n",
              "      <td>0.0</td>\n",
              "      <td>0.0</td>\n",
              "      <td>0.0</td>\n",
              "      <td>0.0</td>\n",
              "    </tr>\n",
              "    <tr>\n",
              "      <th>9892</th>\n",
              "      <td>5ace43c6e1b024040e6845f0</td>\n",
              "      <td>8.5</td>\n",
              "      <td>APROVADO</td>\n",
              "      <td>0.0</td>\n",
              "      <td>0.0</td>\n",
              "      <td>0.0</td>\n",
              "      <td>0.0</td>\n",
              "      <td>0.0</td>\n",
              "      <td>0.0</td>\n",
              "      <td>0.0</td>\n",
              "      <td>14.0</td>\n",
              "      <td>71.0</td>\n",
              "      <td>0.0</td>\n",
              "      <td>0.0</td>\n",
              "      <td>0.0</td>\n",
              "      <td>0.0</td>\n",
              "      <td>0.0</td>\n",
              "      <td>0.0</td>\n",
              "      <td>0.0</td>\n",
              "      <td>0.0</td>\n",
              "      <td>0.0</td>\n",
              "    </tr>\n",
              "    <tr>\n",
              "      <th>9894</th>\n",
              "      <td>5ace43c6e1b024040e6845f0</td>\n",
              "      <td>8.5</td>\n",
              "      <td>APROVADO</td>\n",
              "      <td>0.0</td>\n",
              "      <td>0.0</td>\n",
              "      <td>0.0</td>\n",
              "      <td>0.0</td>\n",
              "      <td>0.0</td>\n",
              "      <td>0.0</td>\n",
              "      <td>0.0</td>\n",
              "      <td>14.0</td>\n",
              "      <td>71.0</td>\n",
              "      <td>0.0</td>\n",
              "      <td>0.0</td>\n",
              "      <td>0.0</td>\n",
              "      <td>0.0</td>\n",
              "      <td>0.0</td>\n",
              "      <td>0.0</td>\n",
              "      <td>0.0</td>\n",
              "      <td>0.0</td>\n",
              "      <td>0.0</td>\n",
              "    </tr>\n",
              "    <tr>\n",
              "      <th>9896</th>\n",
              "      <td>5ace43c6e1b024040e6845f0</td>\n",
              "      <td>8.5</td>\n",
              "      <td>APROVADO</td>\n",
              "      <td>0.0</td>\n",
              "      <td>0.0</td>\n",
              "      <td>0.0</td>\n",
              "      <td>0.0</td>\n",
              "      <td>0.0</td>\n",
              "      <td>0.0</td>\n",
              "      <td>0.0</td>\n",
              "      <td>14.0</td>\n",
              "      <td>71.0</td>\n",
              "      <td>0.0</td>\n",
              "      <td>0.0</td>\n",
              "      <td>0.0</td>\n",
              "      <td>0.0</td>\n",
              "      <td>0.0</td>\n",
              "      <td>0.0</td>\n",
              "      <td>0.0</td>\n",
              "      <td>0.0</td>\n",
              "      <td>0.0</td>\n",
              "    </tr>\n",
              "    <tr>\n",
              "      <th>9897</th>\n",
              "      <td>5ace43c6e1b024040e6845f0</td>\n",
              "      <td>8.5</td>\n",
              "      <td>APROVADO</td>\n",
              "      <td>0.0</td>\n",
              "      <td>0.0</td>\n",
              "      <td>0.0</td>\n",
              "      <td>0.0</td>\n",
              "      <td>0.0</td>\n",
              "      <td>0.0</td>\n",
              "      <td>0.0</td>\n",
              "      <td>14.0</td>\n",
              "      <td>71.0</td>\n",
              "      <td>0.0</td>\n",
              "      <td>0.0</td>\n",
              "      <td>0.0</td>\n",
              "      <td>0.0</td>\n",
              "      <td>0.0</td>\n",
              "      <td>0.0</td>\n",
              "      <td>0.0</td>\n",
              "      <td>0.0</td>\n",
              "      <td>0.0</td>\n",
              "    </tr>\n",
              "    <tr>\n",
              "      <th>9898</th>\n",
              "      <td>5ace43c6e1b024040e6845f0</td>\n",
              "      <td>8.5</td>\n",
              "      <td>APROVADO</td>\n",
              "      <td>0.0</td>\n",
              "      <td>0.0</td>\n",
              "      <td>0.0</td>\n",
              "      <td>0.0</td>\n",
              "      <td>0.0</td>\n",
              "      <td>0.0</td>\n",
              "      <td>0.0</td>\n",
              "      <td>14.0</td>\n",
              "      <td>71.0</td>\n",
              "      <td>0.0</td>\n",
              "      <td>0.0</td>\n",
              "      <td>0.0</td>\n",
              "      <td>0.0</td>\n",
              "      <td>0.0</td>\n",
              "      <td>0.0</td>\n",
              "      <td>0.0</td>\n",
              "      <td>0.0</td>\n",
              "      <td>0.0</td>\n",
              "    </tr>\n",
              "    <tr>\n",
              "      <th>9899</th>\n",
              "      <td>5ace43c6e1b024040e6845f0</td>\n",
              "      <td>8.5</td>\n",
              "      <td>APROVADO</td>\n",
              "      <td>0.0</td>\n",
              "      <td>0.0</td>\n",
              "      <td>0.0</td>\n",
              "      <td>0.0</td>\n",
              "      <td>0.0</td>\n",
              "      <td>0.0</td>\n",
              "      <td>0.0</td>\n",
              "      <td>14.0</td>\n",
              "      <td>71.0</td>\n",
              "      <td>0.0</td>\n",
              "      <td>0.0</td>\n",
              "      <td>0.0</td>\n",
              "      <td>0.0</td>\n",
              "      <td>0.0</td>\n",
              "      <td>0.0</td>\n",
              "      <td>0.0</td>\n",
              "      <td>0.0</td>\n",
              "      <td>0.0</td>\n",
              "    </tr>\n",
              "    <tr>\n",
              "      <th>9903</th>\n",
              "      <td>5ace43c6e1b024040e6845f0</td>\n",
              "      <td>8.5</td>\n",
              "      <td>APROVADO</td>\n",
              "      <td>0.0</td>\n",
              "      <td>0.0</td>\n",
              "      <td>0.0</td>\n",
              "      <td>0.0</td>\n",
              "      <td>0.0</td>\n",
              "      <td>0.0</td>\n",
              "      <td>0.0</td>\n",
              "      <td>14.0</td>\n",
              "      <td>71.0</td>\n",
              "      <td>0.0</td>\n",
              "      <td>0.0</td>\n",
              "      <td>0.0</td>\n",
              "      <td>0.0</td>\n",
              "      <td>0.0</td>\n",
              "      <td>0.0</td>\n",
              "      <td>0.0</td>\n",
              "      <td>0.0</td>\n",
              "      <td>0.0</td>\n",
              "    </tr>\n",
              "    <tr>\n",
              "      <th>9904</th>\n",
              "      <td>5ace43c6e1b024040e6845f0</td>\n",
              "      <td>8.5</td>\n",
              "      <td>APROVADO</td>\n",
              "      <td>0.0</td>\n",
              "      <td>0.0</td>\n",
              "      <td>0.0</td>\n",
              "      <td>0.0</td>\n",
              "      <td>0.0</td>\n",
              "      <td>0.0</td>\n",
              "      <td>0.0</td>\n",
              "      <td>14.0</td>\n",
              "      <td>71.0</td>\n",
              "      <td>0.0</td>\n",
              "      <td>0.0</td>\n",
              "      <td>0.0</td>\n",
              "      <td>0.0</td>\n",
              "      <td>0.0</td>\n",
              "      <td>0.0</td>\n",
              "      <td>0.0</td>\n",
              "      <td>0.0</td>\n",
              "      <td>0.0</td>\n",
              "    </tr>\n",
              "    <tr>\n",
              "      <th>9905</th>\n",
              "      <td>5ace43c6e1b024040e6845f0</td>\n",
              "      <td>8.5</td>\n",
              "      <td>APROVADO</td>\n",
              "      <td>0.0</td>\n",
              "      <td>0.0</td>\n",
              "      <td>0.0</td>\n",
              "      <td>0.0</td>\n",
              "      <td>0.0</td>\n",
              "      <td>0.0</td>\n",
              "      <td>0.0</td>\n",
              "      <td>14.0</td>\n",
              "      <td>71.0</td>\n",
              "      <td>0.0</td>\n",
              "      <td>0.0</td>\n",
              "      <td>0.0</td>\n",
              "      <td>0.0</td>\n",
              "      <td>0.0</td>\n",
              "      <td>0.0</td>\n",
              "      <td>0.0</td>\n",
              "      <td>0.0</td>\n",
              "      <td>0.0</td>\n",
              "    </tr>\n",
              "    <tr>\n",
              "      <th>9907</th>\n",
              "      <td>5ace43c6e1b024040e6845f0</td>\n",
              "      <td>8.5</td>\n",
              "      <td>APROVADO</td>\n",
              "      <td>0.0</td>\n",
              "      <td>0.0</td>\n",
              "      <td>0.0</td>\n",
              "      <td>0.0</td>\n",
              "      <td>0.0</td>\n",
              "      <td>0.0</td>\n",
              "      <td>0.0</td>\n",
              "      <td>14.0</td>\n",
              "      <td>71.0</td>\n",
              "      <td>0.0</td>\n",
              "      <td>0.0</td>\n",
              "      <td>0.0</td>\n",
              "      <td>0.0</td>\n",
              "      <td>0.0</td>\n",
              "      <td>0.0</td>\n",
              "      <td>0.0</td>\n",
              "      <td>0.0</td>\n",
              "      <td>0.0</td>\n",
              "    </tr>\n",
              "    <tr>\n",
              "      <th>9908</th>\n",
              "      <td>5ace43c6e1b024040e6845f0</td>\n",
              "      <td>8.5</td>\n",
              "      <td>APROVADO</td>\n",
              "      <td>0.0</td>\n",
              "      <td>0.0</td>\n",
              "      <td>0.0</td>\n",
              "      <td>0.0</td>\n",
              "      <td>0.0</td>\n",
              "      <td>0.0</td>\n",
              "      <td>0.0</td>\n",
              "      <td>14.0</td>\n",
              "      <td>71.0</td>\n",
              "      <td>0.0</td>\n",
              "      <td>0.0</td>\n",
              "      <td>0.0</td>\n",
              "      <td>0.0</td>\n",
              "      <td>0.0</td>\n",
              "      <td>0.0</td>\n",
              "      <td>0.0</td>\n",
              "      <td>0.0</td>\n",
              "      <td>0.0</td>\n",
              "    </tr>\n",
              "    <tr>\n",
              "      <th>9910</th>\n",
              "      <td>5ace43c6e1b024040e6845f0</td>\n",
              "      <td>8.5</td>\n",
              "      <td>APROVADO</td>\n",
              "      <td>0.0</td>\n",
              "      <td>0.0</td>\n",
              "      <td>0.0</td>\n",
              "      <td>0.0</td>\n",
              "      <td>0.0</td>\n",
              "      <td>0.0</td>\n",
              "      <td>0.0</td>\n",
              "      <td>14.0</td>\n",
              "      <td>71.0</td>\n",
              "      <td>0.0</td>\n",
              "      <td>0.0</td>\n",
              "      <td>0.0</td>\n",
              "      <td>0.0</td>\n",
              "      <td>0.0</td>\n",
              "      <td>0.0</td>\n",
              "      <td>0.0</td>\n",
              "      <td>0.0</td>\n",
              "      <td>0.0</td>\n",
              "    </tr>\n",
              "  </tbody>\n",
              "</table>\n",
              "</div>"
            ],
            "text/plain": [
              "                       idAluno  ...  submissões diferentes e iguais a 100% semana 18\n",
              "9891  5ace43c6e1b024040e6845f0  ...                                              0.0\n",
              "9892  5ace43c6e1b024040e6845f0  ...                                              0.0\n",
              "9894  5ace43c6e1b024040e6845f0  ...                                              0.0\n",
              "9896  5ace43c6e1b024040e6845f0  ...                                              0.0\n",
              "9897  5ace43c6e1b024040e6845f0  ...                                              0.0\n",
              "9898  5ace43c6e1b024040e6845f0  ...                                              0.0\n",
              "9899  5ace43c6e1b024040e6845f0  ...                                              0.0\n",
              "9903  5ace43c6e1b024040e6845f0  ...                                              0.0\n",
              "9904  5ace43c6e1b024040e6845f0  ...                                              0.0\n",
              "9905  5ace43c6e1b024040e6845f0  ...                                              0.0\n",
              "9907  5ace43c6e1b024040e6845f0  ...                                              0.0\n",
              "9908  5ace43c6e1b024040e6845f0  ...                                              0.0\n",
              "9910  5ace43c6e1b024040e6845f0  ...                                              0.0\n",
              "\n",
              "[13 rows x 21 columns]"
            ]
          },
          "metadata": {
            "tags": []
          },
          "execution_count": 39
        }
      ]
    },
    {
      "cell_type": "code",
      "metadata": {
        "id": "EgFXtOBFGNf-",
        "colab_type": "code",
        "outputId": "2e37bec4-efb0-4b28-b07a-b96d37a3ba25",
        "colab": {
          "base_uri": "https://localhost:8080/",
          "height": 407
        }
      },
      "source": [
        "a=tab.iloc[:,:4]\n",
        "a"
      ],
      "execution_count": 0,
      "outputs": [
        {
          "output_type": "execute_result",
          "data": {
            "text/html": [
              "<div>\n",
              "<style scoped>\n",
              "    .dataframe tbody tr th:only-of-type {\n",
              "        vertical-align: middle;\n",
              "    }\n",
              "\n",
              "    .dataframe tbody tr th {\n",
              "        vertical-align: top;\n",
              "    }\n",
              "\n",
              "    .dataframe thead th {\n",
              "        text-align: right;\n",
              "    }\n",
              "</style>\n",
              "<table border=\"1\" class=\"dataframe\">\n",
              "  <thead>\n",
              "    <tr style=\"text-align: right;\">\n",
              "      <th></th>\n",
              "      <th>idAluno</th>\n",
              "      <th>nota</th>\n",
              "      <th>situacao</th>\n",
              "      <th>submissões diferentes e iguais a 100% semana 1</th>\n",
              "    </tr>\n",
              "  </thead>\n",
              "  <tbody>\n",
              "    <tr>\n",
              "      <th>0</th>\n",
              "      <td>5991cb910be9d42f2f68b906</td>\n",
              "      <td>7.9</td>\n",
              "      <td>APROVADO</td>\n",
              "      <td>0.0</td>\n",
              "    </tr>\n",
              "    <tr>\n",
              "      <th>1</th>\n",
              "      <td>5991cb910be9d42f2f68b906</td>\n",
              "      <td>7.9</td>\n",
              "      <td>APROVADO</td>\n",
              "      <td>0.0</td>\n",
              "    </tr>\n",
              "    <tr>\n",
              "      <th>2</th>\n",
              "      <td>5991cb910be9d42f2f68b906</td>\n",
              "      <td>7.9</td>\n",
              "      <td>APROVADO</td>\n",
              "      <td>0.0</td>\n",
              "    </tr>\n",
              "    <tr>\n",
              "      <th>3</th>\n",
              "      <td>5991cb910be9d42f2f68b906</td>\n",
              "      <td>7.9</td>\n",
              "      <td>APROVADO</td>\n",
              "      <td>0.0</td>\n",
              "    </tr>\n",
              "    <tr>\n",
              "      <th>4</th>\n",
              "      <td>5991cb910be9d42f2f68b906</td>\n",
              "      <td>7.9</td>\n",
              "      <td>APROVADO</td>\n",
              "      <td>0.0</td>\n",
              "    </tr>\n",
              "    <tr>\n",
              "      <th>...</th>\n",
              "      <td>...</td>\n",
              "      <td>...</td>\n",
              "      <td>...</td>\n",
              "      <td>...</td>\n",
              "    </tr>\n",
              "    <tr>\n",
              "      <th>22507</th>\n",
              "      <td>5d4ec939c1853254c20afd44</td>\n",
              "      <td>0.0</td>\n",
              "      <td>REPROVADO POR MÉDIA E POR FALTAS</td>\n",
              "      <td>0.0</td>\n",
              "    </tr>\n",
              "    <tr>\n",
              "      <th>22508</th>\n",
              "      <td>5d4ec939c1853254c20afd44</td>\n",
              "      <td>0.0</td>\n",
              "      <td>REPROVADO POR MÉDIA E POR FALTAS</td>\n",
              "      <td>0.0</td>\n",
              "    </tr>\n",
              "    <tr>\n",
              "      <th>22509</th>\n",
              "      <td>5d4ec939c1853254c20afd44</td>\n",
              "      <td>0.0</td>\n",
              "      <td>REPROVADO POR MÉDIA E POR FALTAS</td>\n",
              "      <td>0.0</td>\n",
              "    </tr>\n",
              "    <tr>\n",
              "      <th>22510</th>\n",
              "      <td>5d4ec939c1853254c20afd44</td>\n",
              "      <td>0.0</td>\n",
              "      <td>REPROVADO POR MÉDIA E POR FALTAS</td>\n",
              "      <td>0.0</td>\n",
              "    </tr>\n",
              "    <tr>\n",
              "      <th>22511</th>\n",
              "      <td>5d4ec939c1853254c20afd44</td>\n",
              "      <td>0.0</td>\n",
              "      <td>REPROVADO POR MÉDIA E POR FALTAS</td>\n",
              "      <td>0.0</td>\n",
              "    </tr>\n",
              "  </tbody>\n",
              "</table>\n",
              "<p>18921 rows × 4 columns</p>\n",
              "</div>"
            ],
            "text/plain": [
              "                        idAluno  ...  submissões diferentes e iguais a 100% semana 1\n",
              "0      5991cb910be9d42f2f68b906  ...                                             0.0\n",
              "1      5991cb910be9d42f2f68b906  ...                                             0.0\n",
              "2      5991cb910be9d42f2f68b906  ...                                             0.0\n",
              "3      5991cb910be9d42f2f68b906  ...                                             0.0\n",
              "4      5991cb910be9d42f2f68b906  ...                                             0.0\n",
              "...                         ...  ...                                             ...\n",
              "22507  5d4ec939c1853254c20afd44  ...                                             0.0\n",
              "22508  5d4ec939c1853254c20afd44  ...                                             0.0\n",
              "22509  5d4ec939c1853254c20afd44  ...                                             0.0\n",
              "22510  5d4ec939c1853254c20afd44  ...                                             0.0\n",
              "22511  5d4ec939c1853254c20afd44  ...                                             0.0\n",
              "\n",
              "[18921 rows x 4 columns]"
            ]
          },
          "metadata": {
            "tags": []
          },
          "execution_count": 25
        }
      ]
    },
    {
      "cell_type": "code",
      "metadata": {
        "id": "4caalGrjGdk6",
        "colab_type": "code",
        "outputId": "f58d4db8-42c9-4494-ddef-ef83547f39a0",
        "colab": {
          "base_uri": "https://localhost:8080/",
          "height": 48
        }
      },
      "source": [
        "a.loc[a[\"submissões diferentes e iguais a 100% semana 1\"] > 0,:]\n"
      ],
      "execution_count": 0,
      "outputs": [
        {
          "output_type": "execute_result",
          "data": {
            "text/html": [
              "<div>\n",
              "<style scoped>\n",
              "    .dataframe tbody tr th:only-of-type {\n",
              "        vertical-align: middle;\n",
              "    }\n",
              "\n",
              "    .dataframe tbody tr th {\n",
              "        vertical-align: top;\n",
              "    }\n",
              "\n",
              "    .dataframe thead th {\n",
              "        text-align: right;\n",
              "    }\n",
              "</style>\n",
              "<table border=\"1\" class=\"dataframe\">\n",
              "  <thead>\n",
              "    <tr style=\"text-align: right;\">\n",
              "      <th></th>\n",
              "      <th>idAluno</th>\n",
              "      <th>nota</th>\n",
              "      <th>situacao</th>\n",
              "      <th>submissões diferentes e iguais a 100% semana 1</th>\n",
              "    </tr>\n",
              "  </thead>\n",
              "  <tbody>\n",
              "  </tbody>\n",
              "</table>\n",
              "</div>"
            ],
            "text/plain": [
              "Empty DataFrame\n",
              "Columns: [idAluno, nota, situacao, submissões diferentes e iguais a 100% semana 1]\n",
              "Index: []"
            ]
          },
          "metadata": {
            "tags": []
          },
          "execution_count": 27
        }
      ]
    },
    {
      "cell_type": "code",
      "metadata": {
        "id": "kBKJ2qswEUco",
        "colab_type": "code",
        "outputId": "89fdb83d-16f9-45a0-a231-e314a5c72fb6",
        "colab": {
          "base_uri": "https://localhost:8080/",
          "height": 767
        }
      },
      "source": [
        "tab.loc[tab[\"idAluno\"]==\"5991cd870be9d42f2f68b90c\",:]"
      ],
      "execution_count": 0,
      "outputs": [
        {
          "output_type": "execute_result",
          "data": {
            "text/html": [
              "<div>\n",
              "<style scoped>\n",
              "    .dataframe tbody tr th:only-of-type {\n",
              "        vertical-align: middle;\n",
              "    }\n",
              "\n",
              "    .dataframe tbody tr th {\n",
              "        vertical-align: top;\n",
              "    }\n",
              "\n",
              "    .dataframe thead th {\n",
              "        text-align: right;\n",
              "    }\n",
              "</style>\n",
              "<table border=\"1\" class=\"dataframe\">\n",
              "  <thead>\n",
              "    <tr style=\"text-align: right;\">\n",
              "      <th></th>\n",
              "      <th>idAluno</th>\n",
              "      <th>nota</th>\n",
              "      <th>situacao</th>\n",
              "      <th>submissões diferentes e iguais a 100% semana 1</th>\n",
              "      <th>submissões diferentes e iguais a 100% semana 2</th>\n",
              "      <th>submissões diferentes e iguais a 100% semana 3</th>\n",
              "      <th>submissões diferentes e iguais a 100% semana 4</th>\n",
              "      <th>submissões diferentes e iguais a 100% semana 5</th>\n",
              "      <th>submissões diferentes e iguais a 100% semana 6</th>\n",
              "      <th>submissões diferentes e iguais a 100% semana 7</th>\n",
              "      <th>submissões diferentes e iguais a 100% semana 8</th>\n",
              "      <th>submissões diferentes e iguais a 100% semana 9</th>\n",
              "      <th>submissões diferentes e iguais a 100% semana 10</th>\n",
              "      <th>submissões diferentes e iguais a 100% semana 11</th>\n",
              "      <th>submissões diferentes e iguais a 100% semana 12</th>\n",
              "      <th>submissões diferentes e iguais a 100% semana 13</th>\n",
              "      <th>submissões diferentes e iguais a 100% semana 14</th>\n",
              "      <th>submissões diferentes e iguais a 100% semana 15</th>\n",
              "      <th>submissões diferentes e iguais a 100% semana 16</th>\n",
              "      <th>submissões diferentes e iguais a 100% semana 17</th>\n",
              "      <th>submissões diferentes e iguais a 100% semana 18</th>\n",
              "    </tr>\n",
              "  </thead>\n",
              "  <tbody>\n",
              "    <tr>\n",
              "      <th>462</th>\n",
              "      <td>5991cd870be9d42f2f68b90c</td>\n",
              "      <td>10.0</td>\n",
              "      <td>APROVADO</td>\n",
              "      <td>0.0</td>\n",
              "      <td>0.0</td>\n",
              "      <td>0.0</td>\n",
              "      <td>5.0</td>\n",
              "      <td>14.0</td>\n",
              "      <td>15.0</td>\n",
              "      <td>4.0</td>\n",
              "      <td>10.0</td>\n",
              "      <td>0.0</td>\n",
              "      <td>0.0</td>\n",
              "      <td>4.0</td>\n",
              "      <td>20.0</td>\n",
              "      <td>6.0</td>\n",
              "      <td>0.0</td>\n",
              "      <td>9.0</td>\n",
              "      <td>0.0</td>\n",
              "      <td>0.0</td>\n",
              "      <td>0.0</td>\n",
              "    </tr>\n",
              "    <tr>\n",
              "      <th>463</th>\n",
              "      <td>5991cd870be9d42f2f68b90c</td>\n",
              "      <td>10.0</td>\n",
              "      <td>APROVADO</td>\n",
              "      <td>0.0</td>\n",
              "      <td>0.0</td>\n",
              "      <td>0.0</td>\n",
              "      <td>0.0</td>\n",
              "      <td>0.0</td>\n",
              "      <td>0.0</td>\n",
              "      <td>0.0</td>\n",
              "      <td>0.0</td>\n",
              "      <td>0.0</td>\n",
              "      <td>0.0</td>\n",
              "      <td>0.0</td>\n",
              "      <td>0.0</td>\n",
              "      <td>0.0</td>\n",
              "      <td>0.0</td>\n",
              "      <td>0.0</td>\n",
              "      <td>0.0</td>\n",
              "      <td>0.0</td>\n",
              "      <td>0.0</td>\n",
              "    </tr>\n",
              "    <tr>\n",
              "      <th>464</th>\n",
              "      <td>5991cd870be9d42f2f68b90c</td>\n",
              "      <td>10.0</td>\n",
              "      <td>APROVADO</td>\n",
              "      <td>0.0</td>\n",
              "      <td>0.0</td>\n",
              "      <td>0.0</td>\n",
              "      <td>5.0</td>\n",
              "      <td>14.0</td>\n",
              "      <td>15.0</td>\n",
              "      <td>4.0</td>\n",
              "      <td>10.0</td>\n",
              "      <td>0.0</td>\n",
              "      <td>0.0</td>\n",
              "      <td>0.0</td>\n",
              "      <td>0.0</td>\n",
              "      <td>0.0</td>\n",
              "      <td>0.0</td>\n",
              "      <td>0.0</td>\n",
              "      <td>0.0</td>\n",
              "      <td>0.0</td>\n",
              "      <td>0.0</td>\n",
              "    </tr>\n",
              "    <tr>\n",
              "      <th>465</th>\n",
              "      <td>5991cd870be9d42f2f68b90c</td>\n",
              "      <td>10.0</td>\n",
              "      <td>APROVADO</td>\n",
              "      <td>0.0</td>\n",
              "      <td>0.0</td>\n",
              "      <td>0.0</td>\n",
              "      <td>5.0</td>\n",
              "      <td>14.0</td>\n",
              "      <td>15.0</td>\n",
              "      <td>4.0</td>\n",
              "      <td>10.0</td>\n",
              "      <td>0.0</td>\n",
              "      <td>0.0</td>\n",
              "      <td>4.0</td>\n",
              "      <td>20.0</td>\n",
              "      <td>6.0</td>\n",
              "      <td>0.0</td>\n",
              "      <td>0.0</td>\n",
              "      <td>0.0</td>\n",
              "      <td>0.0</td>\n",
              "      <td>0.0</td>\n",
              "    </tr>\n",
              "    <tr>\n",
              "      <th>466</th>\n",
              "      <td>5991cd870be9d42f2f68b90c</td>\n",
              "      <td>10.0</td>\n",
              "      <td>APROVADO</td>\n",
              "      <td>0.0</td>\n",
              "      <td>0.0</td>\n",
              "      <td>0.0</td>\n",
              "      <td>5.0</td>\n",
              "      <td>0.0</td>\n",
              "      <td>0.0</td>\n",
              "      <td>0.0</td>\n",
              "      <td>0.0</td>\n",
              "      <td>0.0</td>\n",
              "      <td>0.0</td>\n",
              "      <td>0.0</td>\n",
              "      <td>0.0</td>\n",
              "      <td>0.0</td>\n",
              "      <td>0.0</td>\n",
              "      <td>0.0</td>\n",
              "      <td>0.0</td>\n",
              "      <td>0.0</td>\n",
              "      <td>0.0</td>\n",
              "    </tr>\n",
              "    <tr>\n",
              "      <th>467</th>\n",
              "      <td>5991cd870be9d42f2f68b90c</td>\n",
              "      <td>10.0</td>\n",
              "      <td>APROVADO</td>\n",
              "      <td>0.0</td>\n",
              "      <td>0.0</td>\n",
              "      <td>0.0</td>\n",
              "      <td>5.0</td>\n",
              "      <td>14.0</td>\n",
              "      <td>0.0</td>\n",
              "      <td>0.0</td>\n",
              "      <td>0.0</td>\n",
              "      <td>0.0</td>\n",
              "      <td>0.0</td>\n",
              "      <td>0.0</td>\n",
              "      <td>0.0</td>\n",
              "      <td>0.0</td>\n",
              "      <td>0.0</td>\n",
              "      <td>0.0</td>\n",
              "      <td>0.0</td>\n",
              "      <td>0.0</td>\n",
              "      <td>0.0</td>\n",
              "    </tr>\n",
              "    <tr>\n",
              "      <th>468</th>\n",
              "      <td>5991cd870be9d42f2f68b90c</td>\n",
              "      <td>10.0</td>\n",
              "      <td>APROVADO</td>\n",
              "      <td>0.0</td>\n",
              "      <td>0.0</td>\n",
              "      <td>0.0</td>\n",
              "      <td>5.0</td>\n",
              "      <td>14.0</td>\n",
              "      <td>15.0</td>\n",
              "      <td>4.0</td>\n",
              "      <td>10.0</td>\n",
              "      <td>0.0</td>\n",
              "      <td>0.0</td>\n",
              "      <td>4.0</td>\n",
              "      <td>20.0</td>\n",
              "      <td>0.0</td>\n",
              "      <td>0.0</td>\n",
              "      <td>0.0</td>\n",
              "      <td>0.0</td>\n",
              "      <td>0.0</td>\n",
              "      <td>0.0</td>\n",
              "    </tr>\n",
              "    <tr>\n",
              "      <th>469</th>\n",
              "      <td>5991cd870be9d42f2f68b90c</td>\n",
              "      <td>10.0</td>\n",
              "      <td>APROVADO</td>\n",
              "      <td>0.0</td>\n",
              "      <td>0.0</td>\n",
              "      <td>0.0</td>\n",
              "      <td>5.0</td>\n",
              "      <td>14.0</td>\n",
              "      <td>15.0</td>\n",
              "      <td>4.0</td>\n",
              "      <td>10.0</td>\n",
              "      <td>0.0</td>\n",
              "      <td>0.0</td>\n",
              "      <td>0.0</td>\n",
              "      <td>0.0</td>\n",
              "      <td>0.0</td>\n",
              "      <td>0.0</td>\n",
              "      <td>0.0</td>\n",
              "      <td>0.0</td>\n",
              "      <td>0.0</td>\n",
              "      <td>0.0</td>\n",
              "    </tr>\n",
              "    <tr>\n",
              "      <th>470</th>\n",
              "      <td>5991cd870be9d42f2f68b90c</td>\n",
              "      <td>10.0</td>\n",
              "      <td>APROVADO</td>\n",
              "      <td>0.0</td>\n",
              "      <td>0.0</td>\n",
              "      <td>0.0</td>\n",
              "      <td>5.0</td>\n",
              "      <td>14.0</td>\n",
              "      <td>15.0</td>\n",
              "      <td>4.0</td>\n",
              "      <td>0.0</td>\n",
              "      <td>0.0</td>\n",
              "      <td>0.0</td>\n",
              "      <td>0.0</td>\n",
              "      <td>0.0</td>\n",
              "      <td>0.0</td>\n",
              "      <td>0.0</td>\n",
              "      <td>0.0</td>\n",
              "      <td>0.0</td>\n",
              "      <td>0.0</td>\n",
              "      <td>0.0</td>\n",
              "    </tr>\n",
              "    <tr>\n",
              "      <th>471</th>\n",
              "      <td>5991cd870be9d42f2f68b90c</td>\n",
              "      <td>10.0</td>\n",
              "      <td>APROVADO</td>\n",
              "      <td>0.0</td>\n",
              "      <td>0.0</td>\n",
              "      <td>0.0</td>\n",
              "      <td>0.0</td>\n",
              "      <td>0.0</td>\n",
              "      <td>0.0</td>\n",
              "      <td>0.0</td>\n",
              "      <td>0.0</td>\n",
              "      <td>0.0</td>\n",
              "      <td>0.0</td>\n",
              "      <td>0.0</td>\n",
              "      <td>0.0</td>\n",
              "      <td>0.0</td>\n",
              "      <td>0.0</td>\n",
              "      <td>0.0</td>\n",
              "      <td>0.0</td>\n",
              "      <td>0.0</td>\n",
              "      <td>0.0</td>\n",
              "    </tr>\n",
              "    <tr>\n",
              "      <th>472</th>\n",
              "      <td>5991cd870be9d42f2f68b90c</td>\n",
              "      <td>10.0</td>\n",
              "      <td>APROVADO</td>\n",
              "      <td>0.0</td>\n",
              "      <td>0.0</td>\n",
              "      <td>0.0</td>\n",
              "      <td>5.0</td>\n",
              "      <td>14.0</td>\n",
              "      <td>15.0</td>\n",
              "      <td>4.0</td>\n",
              "      <td>10.0</td>\n",
              "      <td>0.0</td>\n",
              "      <td>0.0</td>\n",
              "      <td>4.0</td>\n",
              "      <td>0.0</td>\n",
              "      <td>0.0</td>\n",
              "      <td>0.0</td>\n",
              "      <td>0.0</td>\n",
              "      <td>0.0</td>\n",
              "      <td>0.0</td>\n",
              "      <td>0.0</td>\n",
              "    </tr>\n",
              "    <tr>\n",
              "      <th>473</th>\n",
              "      <td>5991cd870be9d42f2f68b90c</td>\n",
              "      <td>10.0</td>\n",
              "      <td>APROVADO</td>\n",
              "      <td>0.0</td>\n",
              "      <td>0.0</td>\n",
              "      <td>0.0</td>\n",
              "      <td>5.0</td>\n",
              "      <td>14.0</td>\n",
              "      <td>15.0</td>\n",
              "      <td>4.0</td>\n",
              "      <td>10.0</td>\n",
              "      <td>0.0</td>\n",
              "      <td>0.0</td>\n",
              "      <td>4.0</td>\n",
              "      <td>20.0</td>\n",
              "      <td>6.0</td>\n",
              "      <td>0.0</td>\n",
              "      <td>0.0</td>\n",
              "      <td>0.0</td>\n",
              "      <td>0.0</td>\n",
              "      <td>0.0</td>\n",
              "    </tr>\n",
              "    <tr>\n",
              "      <th>474</th>\n",
              "      <td>5991cd870be9d42f2f68b90c</td>\n",
              "      <td>10.0</td>\n",
              "      <td>APROVADO</td>\n",
              "      <td>0.0</td>\n",
              "      <td>0.0</td>\n",
              "      <td>0.0</td>\n",
              "      <td>5.0</td>\n",
              "      <td>14.0</td>\n",
              "      <td>15.0</td>\n",
              "      <td>0.0</td>\n",
              "      <td>0.0</td>\n",
              "      <td>0.0</td>\n",
              "      <td>0.0</td>\n",
              "      <td>0.0</td>\n",
              "      <td>0.0</td>\n",
              "      <td>0.0</td>\n",
              "      <td>0.0</td>\n",
              "      <td>0.0</td>\n",
              "      <td>0.0</td>\n",
              "      <td>0.0</td>\n",
              "      <td>0.0</td>\n",
              "    </tr>\n",
              "    <tr>\n",
              "      <th>475</th>\n",
              "      <td>5991cd870be9d42f2f68b90c</td>\n",
              "      <td>10.0</td>\n",
              "      <td>APROVADO</td>\n",
              "      <td>0.0</td>\n",
              "      <td>0.0</td>\n",
              "      <td>0.0</td>\n",
              "      <td>5.0</td>\n",
              "      <td>14.0</td>\n",
              "      <td>15.0</td>\n",
              "      <td>4.0</td>\n",
              "      <td>10.0</td>\n",
              "      <td>0.0</td>\n",
              "      <td>0.0</td>\n",
              "      <td>4.0</td>\n",
              "      <td>20.0</td>\n",
              "      <td>6.0</td>\n",
              "      <td>0.0</td>\n",
              "      <td>9.0</td>\n",
              "      <td>0.0</td>\n",
              "      <td>0.0</td>\n",
              "      <td>0.0</td>\n",
              "    </tr>\n",
              "    <tr>\n",
              "      <th>476</th>\n",
              "      <td>5991cd870be9d42f2f68b90c</td>\n",
              "      <td>10.0</td>\n",
              "      <td>APROVADO</td>\n",
              "      <td>0.0</td>\n",
              "      <td>0.0</td>\n",
              "      <td>0.0</td>\n",
              "      <td>5.0</td>\n",
              "      <td>14.0</td>\n",
              "      <td>15.0</td>\n",
              "      <td>4.0</td>\n",
              "      <td>10.0</td>\n",
              "      <td>0.0</td>\n",
              "      <td>0.0</td>\n",
              "      <td>4.0</td>\n",
              "      <td>20.0</td>\n",
              "      <td>6.0</td>\n",
              "      <td>0.0</td>\n",
              "      <td>9.0</td>\n",
              "      <td>0.0</td>\n",
              "      <td>0.0</td>\n",
              "      <td>0.0</td>\n",
              "    </tr>\n",
              "    <tr>\n",
              "      <th>477</th>\n",
              "      <td>5991cd870be9d42f2f68b90c</td>\n",
              "      <td>10.0</td>\n",
              "      <td>APROVADO</td>\n",
              "      <td>0.0</td>\n",
              "      <td>0.0</td>\n",
              "      <td>0.0</td>\n",
              "      <td>5.0</td>\n",
              "      <td>14.0</td>\n",
              "      <td>15.0</td>\n",
              "      <td>4.0</td>\n",
              "      <td>10.0</td>\n",
              "      <td>0.0</td>\n",
              "      <td>0.0</td>\n",
              "      <td>4.0</td>\n",
              "      <td>20.0</td>\n",
              "      <td>6.0</td>\n",
              "      <td>0.0</td>\n",
              "      <td>9.0</td>\n",
              "      <td>0.0</td>\n",
              "      <td>0.0</td>\n",
              "      <td>0.0</td>\n",
              "    </tr>\n",
              "    <tr>\n",
              "      <th>478</th>\n",
              "      <td>5991cd870be9d42f2f68b90c</td>\n",
              "      <td>10.0</td>\n",
              "      <td>APROVADO</td>\n",
              "      <td>0.0</td>\n",
              "      <td>0.0</td>\n",
              "      <td>0.0</td>\n",
              "      <td>5.0</td>\n",
              "      <td>14.0</td>\n",
              "      <td>15.0</td>\n",
              "      <td>4.0</td>\n",
              "      <td>10.0</td>\n",
              "      <td>0.0</td>\n",
              "      <td>0.0</td>\n",
              "      <td>4.0</td>\n",
              "      <td>20.0</td>\n",
              "      <td>6.0</td>\n",
              "      <td>0.0</td>\n",
              "      <td>9.0</td>\n",
              "      <td>0.0</td>\n",
              "      <td>0.0</td>\n",
              "      <td>0.0</td>\n",
              "    </tr>\n",
              "    <tr>\n",
              "      <th>479</th>\n",
              "      <td>5991cd870be9d42f2f68b90c</td>\n",
              "      <td>10.0</td>\n",
              "      <td>APROVADO</td>\n",
              "      <td>0.0</td>\n",
              "      <td>0.0</td>\n",
              "      <td>0.0</td>\n",
              "      <td>0.0</td>\n",
              "      <td>0.0</td>\n",
              "      <td>0.0</td>\n",
              "      <td>0.0</td>\n",
              "      <td>0.0</td>\n",
              "      <td>0.0</td>\n",
              "      <td>0.0</td>\n",
              "      <td>0.0</td>\n",
              "      <td>0.0</td>\n",
              "      <td>0.0</td>\n",
              "      <td>0.0</td>\n",
              "      <td>0.0</td>\n",
              "      <td>0.0</td>\n",
              "      <td>0.0</td>\n",
              "      <td>0.0</td>\n",
              "    </tr>\n",
              "    <tr>\n",
              "      <th>480</th>\n",
              "      <td>5991cd870be9d42f2f68b90c</td>\n",
              "      <td>10.0</td>\n",
              "      <td>APROVADO</td>\n",
              "      <td>0.0</td>\n",
              "      <td>0.0</td>\n",
              "      <td>0.0</td>\n",
              "      <td>5.0</td>\n",
              "      <td>14.0</td>\n",
              "      <td>15.0</td>\n",
              "      <td>4.0</td>\n",
              "      <td>10.0</td>\n",
              "      <td>0.0</td>\n",
              "      <td>0.0</td>\n",
              "      <td>4.0</td>\n",
              "      <td>20.0</td>\n",
              "      <td>6.0</td>\n",
              "      <td>0.0</td>\n",
              "      <td>9.0</td>\n",
              "      <td>0.0</td>\n",
              "      <td>0.0</td>\n",
              "      <td>0.0</td>\n",
              "    </tr>\n",
              "    <tr>\n",
              "      <th>481</th>\n",
              "      <td>5991cd870be9d42f2f68b90c</td>\n",
              "      <td>10.0</td>\n",
              "      <td>APROVADO</td>\n",
              "      <td>0.0</td>\n",
              "      <td>0.0</td>\n",
              "      <td>0.0</td>\n",
              "      <td>5.0</td>\n",
              "      <td>14.0</td>\n",
              "      <td>15.0</td>\n",
              "      <td>4.0</td>\n",
              "      <td>10.0</td>\n",
              "      <td>0.0</td>\n",
              "      <td>0.0</td>\n",
              "      <td>0.0</td>\n",
              "      <td>0.0</td>\n",
              "      <td>0.0</td>\n",
              "      <td>0.0</td>\n",
              "      <td>0.0</td>\n",
              "      <td>0.0</td>\n",
              "      <td>0.0</td>\n",
              "      <td>0.0</td>\n",
              "    </tr>\n",
              "    <tr>\n",
              "      <th>482</th>\n",
              "      <td>5991cd870be9d42f2f68b90c</td>\n",
              "      <td>10.0</td>\n",
              "      <td>APROVADO</td>\n",
              "      <td>0.0</td>\n",
              "      <td>0.0</td>\n",
              "      <td>0.0</td>\n",
              "      <td>5.0</td>\n",
              "      <td>14.0</td>\n",
              "      <td>15.0</td>\n",
              "      <td>4.0</td>\n",
              "      <td>10.0</td>\n",
              "      <td>0.0</td>\n",
              "      <td>0.0</td>\n",
              "      <td>4.0</td>\n",
              "      <td>20.0</td>\n",
              "      <td>6.0</td>\n",
              "      <td>0.0</td>\n",
              "      <td>9.0</td>\n",
              "      <td>0.0</td>\n",
              "      <td>0.0</td>\n",
              "      <td>0.0</td>\n",
              "    </tr>\n",
              "  </tbody>\n",
              "</table>\n",
              "</div>"
            ],
            "text/plain": [
              "                      idAluno  ...  submissões diferentes e iguais a 100% semana 18\n",
              "462  5991cd870be9d42f2f68b90c  ...                                              0.0\n",
              "463  5991cd870be9d42f2f68b90c  ...                                              0.0\n",
              "464  5991cd870be9d42f2f68b90c  ...                                              0.0\n",
              "465  5991cd870be9d42f2f68b90c  ...                                              0.0\n",
              "466  5991cd870be9d42f2f68b90c  ...                                              0.0\n",
              "467  5991cd870be9d42f2f68b90c  ...                                              0.0\n",
              "468  5991cd870be9d42f2f68b90c  ...                                              0.0\n",
              "469  5991cd870be9d42f2f68b90c  ...                                              0.0\n",
              "470  5991cd870be9d42f2f68b90c  ...                                              0.0\n",
              "471  5991cd870be9d42f2f68b90c  ...                                              0.0\n",
              "472  5991cd870be9d42f2f68b90c  ...                                              0.0\n",
              "473  5991cd870be9d42f2f68b90c  ...                                              0.0\n",
              "474  5991cd870be9d42f2f68b90c  ...                                              0.0\n",
              "475  5991cd870be9d42f2f68b90c  ...                                              0.0\n",
              "476  5991cd870be9d42f2f68b90c  ...                                              0.0\n",
              "477  5991cd870be9d42f2f68b90c  ...                                              0.0\n",
              "478  5991cd870be9d42f2f68b90c  ...                                              0.0\n",
              "479  5991cd870be9d42f2f68b90c  ...                                              0.0\n",
              "480  5991cd870be9d42f2f68b90c  ...                                              0.0\n",
              "481  5991cd870be9d42f2f68b90c  ...                                              0.0\n",
              "482  5991cd870be9d42f2f68b90c  ...                                              0.0\n",
              "\n",
              "[21 rows x 21 columns]"
            ]
          },
          "metadata": {
            "tags": []
          },
          "execution_count": 20
        }
      ]
    }
  ]
}