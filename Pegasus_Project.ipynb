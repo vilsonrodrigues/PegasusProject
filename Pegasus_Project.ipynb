{
  "nbformat": 4,
  "nbformat_minor": 0,
  "metadata": {
    "colab": {
      "name": "Pegasus Project.ipynb",
      "provenance": [],
      "collapsed_sections": [
        "AkX_bd1-_d9t",
        "xVGjUhwfgdyU",
        "dPJkvE0hDsB8"
      ],
      "include_colab_link": true
    },
    "kernelspec": {
      "name": "python3",
      "display_name": "Python 3"
    }
  },
  "cells": [
    {
      "cell_type": "markdown",
      "metadata": {
        "id": "view-in-github",
        "colab_type": "text"
      },
      "source": [
        "<a href=\"https://colab.research.google.com/github/vilsonrodrigues/PegasusProject/blob/master/Pegasus_Project.ipynb\" target=\"_parent\"><img src=\"https://colab.research.google.com/assets/colab-badge.svg\" alt=\"Open In Colab\"/></a>"
      ]
    },
    {
      "cell_type": "markdown",
      "metadata": {
        "id": "O3ZluJzvG0zY",
        "colab_type": "text"
      },
      "source": [
        "Importando bibliotecas"
      ]
    },
    {
      "cell_type": "markdown",
      "metadata": {
        "id": "Hfuq-oJSe_XI",
        "colab_type": "text"
      },
      "source": [
        "https://teses.usp.br/teses/disponiveis/85/85133/tde-31102011-101817/publico/2011AffonsoMapas.pdf"
      ]
    },
    {
      "cell_type": "code",
      "metadata": {
        "id": "4-0eMFP8Gsr1",
        "colab_type": "code",
        "colab": {}
      },
      "source": [
        "import pandas as pd\n",
        "import numpy as np\n",
        "import networkx as nx\n",
        "\n",
        "import matplotlib.pyplot as plt\n",
        "from matplotlib.lines import Line2D\n",
        "import plotly.graph_objects as go"
      ],
      "execution_count": 0,
      "outputs": []
    },
    {
      "cell_type": "markdown",
      "metadata": {
        "id": "SYnhaXzrEpxR",
        "colab_type": "text"
      },
      "source": [
        "Leitura do CSV"
      ]
    },
    {
      "cell_type": "code",
      "metadata": {
        "id": "sY6F7EaqG6si",
        "colab_type": "code",
        "outputId": "7ca6c65d-5a45-4fef-a306-e5a6dbf9c6a8",
        "colab": {
          "base_uri": "https://localhost:8080/",
          "height": 168
        }
      },
      "source": [
        "tab = pd.read_csv(\"https://raw.githubusercontent.com/vilsonrodrigues/PegasusProject/master/Data%20Bases/submissoesDiferetesEIguaisA100.csv\")\n",
        "tab = tab.drop(columns={\"Unnamed: 0\"})\n",
        "tab.head(1)"
      ],
      "execution_count": 4,
      "outputs": [
        {
          "output_type": "execute_result",
          "data": {
            "text/html": [
              "<div>\n",
              "<style scoped>\n",
              "    .dataframe tbody tr th:only-of-type {\n",
              "        vertical-align: middle;\n",
              "    }\n",
              "\n",
              "    .dataframe tbody tr th {\n",
              "        vertical-align: top;\n",
              "    }\n",
              "\n",
              "    .dataframe thead th {\n",
              "        text-align: right;\n",
              "    }\n",
              "</style>\n",
              "<table border=\"1\" class=\"dataframe\">\n",
              "  <thead>\n",
              "    <tr style=\"text-align: right;\">\n",
              "      <th></th>\n",
              "      <th>idAluno</th>\n",
              "      <th>nota</th>\n",
              "      <th>situacao</th>\n",
              "      <th>submissões diferentes e iguais a 100% semana 1</th>\n",
              "      <th>submissões diferentes e iguais a 100% semana 2</th>\n",
              "      <th>submissões diferentes e iguais a 100% semana 3</th>\n",
              "      <th>submissões diferentes e iguais a 100% semana 4</th>\n",
              "      <th>submissões diferentes e iguais a 100% semana 5</th>\n",
              "      <th>submissões diferentes e iguais a 100% semana 6</th>\n",
              "      <th>submissões diferentes e iguais a 100% semana 7</th>\n",
              "      <th>submissões diferentes e iguais a 100% semana 8</th>\n",
              "      <th>submissões diferentes e iguais a 100% semana 9</th>\n",
              "      <th>submissões diferentes e iguais a 100% semana 10</th>\n",
              "      <th>submissões diferentes e iguais a 100% semana 11</th>\n",
              "      <th>submissões diferentes e iguais a 100% semana 12</th>\n",
              "      <th>submissões diferentes e iguais a 100% semana 13</th>\n",
              "      <th>submissões diferentes e iguais a 100% semana 14</th>\n",
              "      <th>submissões diferentes e iguais a 100% semana 15</th>\n",
              "      <th>submissões diferentes e iguais a 100% semana 16</th>\n",
              "      <th>submissões diferentes e iguais a 100% semana 17</th>\n",
              "      <th>submissões diferentes e iguais a 100% semana 18</th>\n",
              "    </tr>\n",
              "  </thead>\n",
              "  <tbody>\n",
              "    <tr>\n",
              "      <th>0</th>\n",
              "      <td>5991cb910be9d42f2f68b906</td>\n",
              "      <td>7.9</td>\n",
              "      <td>APROVADO</td>\n",
              "      <td>0.0</td>\n",
              "      <td>0.0</td>\n",
              "      <td>0.0</td>\n",
              "      <td>0.0</td>\n",
              "      <td>0.0</td>\n",
              "      <td>0.0</td>\n",
              "      <td>0.0</td>\n",
              "      <td>0.0</td>\n",
              "      <td>0.0</td>\n",
              "      <td>0.0</td>\n",
              "      <td>0.0</td>\n",
              "      <td>0.0</td>\n",
              "      <td>0.0</td>\n",
              "      <td>0.0</td>\n",
              "      <td>0.0</td>\n",
              "      <td>0.0</td>\n",
              "      <td>0.0</td>\n",
              "      <td>0.0</td>\n",
              "    </tr>\n",
              "  </tbody>\n",
              "</table>\n",
              "</div>"
            ],
            "text/plain": [
              "                    idAluno  ... submissões diferentes e iguais a 100% semana 18\n",
              "0  5991cb910be9d42f2f68b906  ...                                             0.0\n",
              "\n",
              "[1 rows x 21 columns]"
            ]
          },
          "metadata": {
            "tags": []
          },
          "execution_count": 4
        }
      ]
    },
    {
      "cell_type": "markdown",
      "metadata": {
        "id": "XxAX3qdDG-CW",
        "colab_type": "text"
      },
      "source": [
        "Instalando a SOM"
      ]
    },
    {
      "cell_type": "code",
      "metadata": {
        "id": "fk7E7BLzebx3",
        "colab_type": "code",
        "outputId": "d12344f8-39b3-497e-8db3-61b762a3167d",
        "colab": {
          "base_uri": "https://localhost:8080/",
          "height": 170
        }
      },
      "source": [
        "!pip install minisom"
      ],
      "execution_count": 1,
      "outputs": [
        {
          "output_type": "stream",
          "text": [
            "Collecting minisom\n",
            "  Downloading https://files.pythonhosted.org/packages/75/66/a5863c1a3bc5993877781a5d58783ffbb02bcdf67c3b14094775c47711d0/MiniSom-2.2.2.tar.gz\n",
            "Building wheels for collected packages: minisom\n",
            "  Building wheel for minisom (setup.py) ... \u001b[?25l\u001b[?25hdone\n",
            "  Created wheel for minisom: filename=MiniSom-2.2.2-cp36-none-any.whl size=7263 sha256=072118d61fe2f66bc6dd5af72addc235746945b762a510f24aa6fb1efe02a06b\n",
            "  Stored in directory: /root/.cache/pip/wheels/4a/46/e1/605a71c70f6a19f16b44fc309f6557127591c69969476cf5d1\n",
            "Successfully built minisom\n",
            "Installing collected packages: minisom\n",
            "Successfully installed minisom-2.2.2\n"
          ],
          "name": "stdout"
        }
      ]
    },
    {
      "cell_type": "markdown",
      "metadata": {
        "id": "WV9vCoGNNXiT",
        "colab_type": "text"
      },
      "source": [
        "Selecionando o df com o campo nota não nulo"
      ]
    },
    {
      "cell_type": "code",
      "metadata": {
        "id": "k0sINxnFhMer",
        "colab_type": "code",
        "colab": {}
      },
      "source": [
        "tab = tab[tab[\"nota\"] != '-']"
      ],
      "execution_count": 0,
      "outputs": []
    },
    {
      "cell_type": "markdown",
      "metadata": {
        "id": "N8ld_RWSNh_j",
        "colab_type": "text"
      },
      "source": [
        "Convertendo notas para float"
      ]
    },
    {
      "cell_type": "code",
      "metadata": {
        "colab_type": "code",
        "id": "9WcDRE3UCP5k",
        "colab": {}
      },
      "source": [
        "tab[\"nota\"] = tab[\"nota\"].astype(float)"
      ],
      "execution_count": 0,
      "outputs": []
    },
    {
      "cell_type": "markdown",
      "metadata": {
        "id": "j9l1dH3NNmu2",
        "colab_type": "text"
      },
      "source": [
        "Separando o X treino"
      ]
    },
    {
      "cell_type": "code",
      "metadata": {
        "id": "It5Uq_aeqsds",
        "colab_type": "code",
        "colab": {}
      },
      "source": [
        "X_train = tab.iloc[:, 3:].values"
      ],
      "execution_count": 0,
      "outputs": []
    },
    {
      "cell_type": "markdown",
      "metadata": {
        "id": "W4HBnVvQNqqO",
        "colab_type": "text"
      },
      "source": [
        "Escolhendo o alvo, que será a nota final"
      ]
    },
    {
      "cell_type": "code",
      "metadata": {
        "id": "nILY_1JmgWxf",
        "colab_type": "code",
        "outputId": "a03c1011-b36b-4255-f10f-3ca254a50369",
        "colab": {
          "base_uri": "https://localhost:8080/",
          "height": 34
        }
      },
      "source": [
        "Y_train = tab.iloc[:,1].values\n",
        "Y_train"
      ],
      "execution_count": 8,
      "outputs": [
        {
          "output_type": "execute_result",
          "data": {
            "text/plain": [
              "array([7.9, 7.9, 7.9, ..., 0. , 0. , 0. ])"
            ]
          },
          "metadata": {
            "tags": []
          },
          "execution_count": 8
        }
      ]
    },
    {
      "cell_type": "markdown",
      "metadata": {
        "id": "uHI401tpOxeR",
        "colab_type": "text"
      },
      "source": [
        "Criando o modelo da SOM"
      ]
    },
    {
      "cell_type": "code",
      "metadata": {
        "id": "BiKfQH2ze8GC",
        "colab_type": "code",
        "colab": {}
      },
      "source": [
        "tamanhoXdaRede = 20; \n",
        "tamanhoYdaRede = 20; \n",
        "quantidadeCaracteristicas = 18\n",
        "\n",
        "from minisom import MiniSom\n",
        "som = MiniSom(x = tamanhoXdaRede, y = tamanhoYdaRede, input_len = quantidadeCaracteristicas, sigma = 1.0, learning_rate = 0.4)"
      ],
      "execution_count": 0,
      "outputs": []
    },
    {
      "cell_type": "markdown",
      "metadata": {
        "id": "VfsWZqVSO6iy",
        "colab_type": "text"
      },
      "source": [
        "Treinando a rede SOM"
      ]
    },
    {
      "cell_type": "code",
      "metadata": {
        "id": "-bDsAPJZfyd-",
        "colab_type": "code",
        "colab": {}
      },
      "source": [
        "som.train_random(data = X_train, num_iteration = 100000, verbose = False) \n",
        "#se verbose True ele imprime a cada iteração\n",
        "#como eu uso o train_random tanto faz a sequência em que os dados estão"
      ],
      "execution_count": 0,
      "outputs": []
    },
    {
      "cell_type": "markdown",
      "metadata": {
        "id": "U_NTboqY1uO3",
        "colab_type": "text"
      },
      "source": [
        "Mapa de distância dos pesos"
      ]
    },
    {
      "cell_type": "code",
      "metadata": {
        "id": "19ybtHEO1bd6",
        "colab_type": "code",
        "colab": {}
      },
      "source": [
        "som.distance_map()"
      ],
      "execution_count": 0,
      "outputs": []
    },
    {
      "cell_type": "markdown",
      "metadata": {
        "id": "g6GMLfIMPRow",
        "colab_type": "text"
      },
      "source": [
        "Obtem o vetor de pesos da rede treinada "
      ]
    },
    {
      "cell_type": "code",
      "metadata": {
        "id": "lV1ZhRxVf_77",
        "colab_type": "code",
        "colab": {}
      },
      "source": [
        "pesos = som.get_weights()"
      ],
      "execution_count": 0,
      "outputs": []
    },
    {
      "cell_type": "markdown",
      "metadata": {
        "id": "xD9QWSVCkhAS",
        "colab_type": "text"
      },
      "source": [
        "Criando uma lista com as semanas "
      ]
    },
    {
      "cell_type": "code",
      "metadata": {
        "id": "N0GwuAwJkgFm",
        "colab_type": "code",
        "outputId": "0e8e2281-b959-4ce8-8849-c3b24d327bae",
        "colab": {
          "base_uri": "https://localhost:8080/",
          "height": 54
        }
      },
      "source": [
        "colunas = []\n",
        "for i in range(1,19):\n",
        "  colunas.append(\"Semana \"+str(i))\n",
        "print(colunas)"
      ],
      "execution_count": 13,
      "outputs": [
        {
          "output_type": "stream",
          "text": [
            "['Semana 1', 'Semana 2', 'Semana 3', 'Semana 4', 'Semana 5', 'Semana 6', 'Semana 7', 'Semana 8', 'Semana 9', 'Semana 10', 'Semana 11', 'Semana 12', 'Semana 13', 'Semana 14', 'Semana 15', 'Semana 16', 'Semana 17', 'Semana 18']\n"
          ],
          "name": "stdout"
        }
      ]
    },
    {
      "cell_type": "markdown",
      "metadata": {
        "id": "gPOJSFZ8i1WG",
        "colab_type": "text"
      },
      "source": [
        "Montando matrizes para total de ocorrências, uma para aprovados e outra para reprovados"
      ]
    },
    {
      "cell_type": "code",
      "metadata": {
        "id": "AZtI2PVCgo1u",
        "colab_type": "code",
        "colab": {}
      },
      "source": [
        "# matriz de zeros para contador de reprovados \n",
        "MContRe = np.zeros((tamanhoXdaRede,tamanhoYdaRede))\n",
        "# matriz de zeros para contador de aprovados \n",
        "MContAp = np.zeros((tamanhoXdaRede,tamanhoYdaRede))\n",
        "# matriz de zeros para o número total de alunos\n",
        "MContT = np.zeros((tamanhoXdaRede,tamanhoYdaRede))\n",
        "\n",
        "cont = 0; \n",
        "\n",
        "for x in X_train: \n",
        "  pos = som.winner(x)\n",
        "  if (Y_train[cont] < 5): #Reprovado \n",
        "    MContRe[pos] += 1\n",
        "  if (Y_train[cont] >= 5): #Aprovado \n",
        "    MContAp[pos] += 1    \n",
        "  MContT[pos] += 1\n",
        "  cont= cont+1"
      ],
      "execution_count": 0,
      "outputs": []
    },
    {
      "cell_type": "markdown",
      "metadata": {
        "id": "0x1UASz0IybL",
        "colab_type": "text"
      },
      "source": [
        "Função para normalizar dados"
      ]
    },
    {
      "cell_type": "code",
      "metadata": {
        "id": "HNqEw5fmHr_M",
        "colab_type": "code",
        "colab": {}
      },
      "source": [
        "def normalizaDados(data):\n",
        "  from sklearn.preprocessing import StandardScaler\n",
        "  sc = StandardScaler()\n",
        "  dt = sc.fit_transform(data)\n",
        "  return dt"
      ],
      "execution_count": 0,
      "outputs": []
    },
    {
      "cell_type": "markdown",
      "metadata": {
        "id": "y3HNrpXkI70O",
        "colab_type": "text"
      },
      "source": [
        "Função de criação de gráfico de superfície"
      ]
    },
    {
      "cell_type": "code",
      "metadata": {
        "id": "bBey4lgAG6SZ",
        "colab_type": "code",
        "colab": {}
      },
      "source": [
        "def chamaGraficoDeSuperficie(data):\n",
        "  z_data = normalizaDados(data)\n",
        "  fig = go.Figure(data=[go.Surface(z=z_data)])\n",
        "  fig.update_layout(title=\"Gráfico de superfície - Reprovados\", autosize=False,\n",
        "                    width=750, height=600,\n",
        "                    margin=dict(l=65, r=50, b=65, t=90))\n",
        "  fig.show()  "
      ],
      "execution_count": 0,
      "outputs": []
    },
    {
      "cell_type": "markdown",
      "metadata": {
        "id": "xQYgYcySJ7wa",
        "colab_type": "text"
      },
      "source": [
        "Função para chamar gráfico de pizza "
      ]
    },
    {
      "cell_type": "code",
      "metadata": {
        "id": "1si-8eA_J6_i",
        "colab_type": "code",
        "colab": {}
      },
      "source": [
        "def chamaGraficoDePizzaDeSituacoes():\n",
        "  fig = plt.figure(figsize=(10,5))\n",
        "  cont = 1;\n",
        "  for i in range(len(MContT)):\n",
        "    for j in range(len(MContT)):\n",
        "      plt.subplot(tamanhoXdaRede,tamanhoYdaRede,cont)\n",
        "      cont=cont+1\n",
        "      sizes = [MContAp[i][j],MContT[i][j]-MContAp[i][j]]\n",
        "      plt.pie(sizes)\n",
        "  plt.set_title(\"Gráfico de % de aprovados e reprovados em cada neurônio\")\n",
        "  plt.show()"
      ],
      "execution_count": 0,
      "outputs": []
    },
    {
      "cell_type": "markdown",
      "metadata": {
        "id": "cs3Ou1gRgxwq",
        "colab_type": "text"
      },
      "source": [
        "Função para exibir atributos de um neurônio específico "
      ]
    },
    {
      "cell_type": "code",
      "metadata": {
        "id": "SDo76DQugxQB",
        "colab_type": "code",
        "colab": {}
      },
      "source": [
        "def exibeNeuronio(linha,coluna): \n",
        "  fig = plt.figure()\n",
        "  ax = fig.add_axes([0.1,0.1,1.5,1.5])\n",
        "  ax.bar(colunas, pesos[linha,coluna,:], color=\"y\")\n",
        "  plt.xticks(rotation=90)\n",
        "  ax.set_title(\"Especificação do Neurônio \" + str(linha) + \",\" + str(coluna))\n",
        "  plt.show()"
      ],
      "execution_count": 0,
      "outputs": []
    },
    {
      "cell_type": "markdown",
      "metadata": {
        "id": "P0kX5AZGhHDA",
        "colab_type": "text"
      },
      "source": [
        "Função para consultar a proporção de aprovados e reprovados e retornar uma cor "
      ]
    },
    {
      "cell_type": "code",
      "metadata": {
        "id": "qR8siugrl_xi",
        "colab_type": "code",
        "colab": {}
      },
      "source": [
        "def consultaProporcao(posAnt):\n",
        "  div = (MContRe[posAnt] / MContT[posAnt])\n",
        "  if(div > 0.20 ):\n",
        "    return \"r\"\n",
        "  elif(div < 0.10 ):\n",
        "    return \"g\"\n",
        "  else:\n",
        "    return \"#FFFF00\"\n",
        "#As proporções escolhidas foram: se existe até 10% de reprovados você está numa região segura, a cor escolhida é verde\n",
        "#se você está numa região entre 10% a 20% de reprovados, então você está amarelo, seria um alerta\n",
        "#se você está cima de 20% nesse neurônio você está vermelho"
      ],
      "execution_count": 0,
      "outputs": []
    },
    {
      "cell_type": "markdown",
      "metadata": {
        "id": "PLX-VMBuM0_M",
        "colab_type": "text"
      },
      "source": [
        "Função para inserir estados no node"
      ]
    },
    {
      "cell_type": "code",
      "metadata": {
        "id": "QTlHzbxdFgh1",
        "colab_type": "code",
        "colab": {}
      },
      "source": [
        "def insereAtributo(G, pos, cont):\n",
        "  var = []\n",
        "  semanas = []\n",
        "  try: \n",
        "    atributos = nx.get_node_attributes(G, \"semana\")\n",
        "    for i in atributos[pos]:\n",
        "        var.append(i)\n",
        "  except:\n",
        "    pass\n",
        "  for i in var:\n",
        "       semanas.append(i)\n",
        "  semanas.append(cont)   \n",
        "  G.nodes[pos][\"semana\"] = semanas\n",
        "  return G\n",
        "\n",
        "#O objetivo é fazer uma lista de atributos, sendo que irá conter as semanas que caíram naquele neurônio\n",
        "#eu faço uma try catch para verificar se está vazio o atributo desse neuronio, como não existe uma função expecifica para verificar isso\n",
        "#acabo tendo que utiliza-lo. Se não estiver vazio ele recebe a lista e depois faz a consulta desse valor\n",
        "#depois recebe o atual e insere "
      ],
      "execution_count": 0,
      "outputs": []
    },
    {
      "cell_type": "markdown",
      "metadata": {
        "id": "7kiLUVmqKGOE",
        "colab_type": "text"
      },
      "source": [
        "Função para exibir qual foi a semana que caiu no neurônio"
      ]
    },
    {
      "cell_type": "code",
      "metadata": {
        "id": "KvV1fwikKFnp",
        "colab_type": "code",
        "colab": {}
      },
      "source": [
        "def verificaSemanasNoNeuronio(G,x,y):\n",
        "  print(\"Semana(s) que caíram no neurônio \" + str(G.nodes[(x,y)][\"semana\"]))"
      ],
      "execution_count": 0,
      "outputs": []
    },
    {
      "cell_type": "markdown",
      "metadata": {
        "id": "hxhdgZZMl5wp",
        "colab_type": "text"
      },
      "source": [
        "Legendas para o grafo"
      ]
    },
    {
      "cell_type": "code",
      "metadata": {
        "id": "asF7QzpmhZLY",
        "colab_type": "code",
        "colab": {}
      },
      "source": [
        "def legendasDoGrafo():\n",
        "  legend_elements = [Line2D([0], [0], marker = \"x\", color = \"w\", label = \"% de reprovados por neurônio\", markerfacecolor = \"black\", markersize = 15),\n",
        "                     Line2D([0], [0], marker = \"o\", color = \"w\", label = \"Até 10%\", markerfacecolor = \"g\", markersize = 15),\n",
        "                     Line2D([0], [0], marker = \"o\", color = \"w\", label = \"Entre 10% e 20%\", markerfacecolor = \"#FFFF00\", markersize = 15),\n",
        "                     Line2D([0], [0], marker = \"o\", color = \"w\", label = \"Acima de 20%\", markerfacecolor = \"r\", markersize = 15),\n",
        "                     Line2D([0], [0], marker = \"x\", color = \"w\", label = \"------------------------------------------\", markerfacecolor = \"black\", markersize = 15),\n",
        "                     Line2D([0], [0], marker = \"o\", color = \"w\", label = \"Posição do neurônio inicial\", markerfacecolor = \"#00FFFF\", markersize = 15),\n",
        "                    ]                  \n",
        "  return legend_elements"
      ],
      "execution_count": 0,
      "outputs": []
    },
    {
      "cell_type": "markdown",
      "metadata": {
        "id": "qd7IGyM1oPE1",
        "colab_type": "text"
      },
      "source": [
        "Estrutura para o grafo"
      ]
    },
    {
      "cell_type": "code",
      "metadata": {
        "id": "UWhhL6voncrb",
        "colab_type": "code",
        "colab": {}
      },
      "source": [
        "def criaEstruturaDoGrafo(G, color_map):\n",
        "  fig, ax = plt.subplots(figsize = (15, 10))\n",
        "  legend_elements = legendasDoGrafo()\n",
        "  plt.title(\"Grafo da trajetória de iteração de um aluno na disciplina de LOP\")  \n",
        "  ax.legend(handles = legend_elements, loc = \"upper left\")\n",
        "  nx.draw(G, with_labels = True, node_color = color_map, node_size = 3000, font_weight = \"bold\", ax = ax)\n",
        "  plt.show()"
      ],
      "execution_count": 0,
      "outputs": []
    },
    {
      "cell_type": "markdown",
      "metadata": {
        "id": "Abt9mSh-mAGB",
        "colab_type": "text"
      },
      "source": [
        "Função para criar o grafo de um determinado aluno"
      ]
    },
    {
      "cell_type": "code",
      "metadata": {
        "id": "XN9h2y1TYDmX",
        "colab_type": "code",
        "colab": {}
      },
      "source": [
        "def criaGrafo(listIteravel, limite): #Atributo limite vai ser o número maximo de semanas\n",
        "  G = nx.DiGraph()\n",
        "  color_map = [] #Lista para cores dos Nodes\n",
        "  lista = [] #Lista para conter as posições que já saíram, isso foi feito porque pode haver reposição de Nodes, ai quando adicionasse as cores se repeteria e\n",
        "  cont = 0   #o python reclaria de estouro, já que se existem 6 nodes, não faz sentido passar 8 parâmetros\n",
        "\n",
        "  for x in listIteravel: \n",
        "    pos = som.winner(x)\n",
        "    if(cont > 0):\n",
        "      G.add_edge(posAnt, pos)\n",
        "      G = insereAtributo(G, pos, cont) #continua aqui <<<<<<<\n",
        "    if(cont == 0):\n",
        "      color_map.append(consultaProporcao(pos))    \n",
        "    elif(pos not in lista):\n",
        "      color_map.append(consultaProporcao(pos))    \n",
        "    cont += 1\n",
        "    if(cont == (limite+1)):\n",
        "      break\n",
        "    posAnt = pos\n",
        "    lista.append(pos)\n",
        "\n",
        "  G.add_node((\"> \") + str(lista[0]) + (\" <\")) #esse Node sobrando vai me informar a coordenada inicial\n",
        "  color_map.append(\"#00FFFF\") #será em cor azul\n",
        "  criaEstruturaDoGrafo(G, color_map)\n",
        "  return G"
      ],
      "execution_count": 0,
      "outputs": []
    },
    {
      "cell_type": "markdown",
      "metadata": {
        "id": "xo83Fn70uT7O",
        "colab_type": "text"
      },
      "source": [
        "Verificando a situação de um aluno através de um grafo"
      ]
    },
    {
      "cell_type": "code",
      "metadata": {
        "id": "upRa7PUXuSYn",
        "colab_type": "code",
        "outputId": "6106d93c-f61d-4577-918b-13bb71f6a2d7",
        "colab": {
          "base_uri": "https://localhost:8080/",
          "height": 591
        }
      },
      "source": [
        "Grafo = criaGrafo(X_train,18)"
      ],
      "execution_count": 0,
      "outputs": [
        {
          "output_type": "display_data",
          "data": {
            "image/png": "[encoded data removed]",
            "text/plain": [
              "<Figure size 1080x720 with 1 Axes>"
            ]
          },
          "metadata": {
            "tags": []
          }
        }
      ]
    },
    {
      "cell_type": "code",
      "metadata": {
        "id": "7WRvVuBJK8kP",
        "colab_type": "code",
        "outputId": "43d2fb8a-5512-44be-f445-cac226aad5d6",
        "colab": {
          "base_uri": "https://localhost:8080/",
          "height": 34
        }
      },
      "source": [
        "verificaSemanasNoNeuronio(Grafo,0,0)"
      ],
      "execution_count": 0,
      "outputs": [
        {
          "output_type": "stream",
          "text": [
            "Semana(s) que caíram no neurônio [5, 8, 10, 16]\n"
          ],
          "name": "stdout"
        }
      ]
    },
    {
      "cell_type": "code",
      "metadata": {
        "id": "8868MZNWxZPy",
        "colab_type": "code",
        "outputId": "e23f1c73-0753-4e68-cee3-764a04c22801",
        "colab": {
          "base_uri": "https://localhost:8080/",
          "height": 542
        }
      },
      "source": [
        "exibeNeuronio(0,0) "
      ],
      "execution_count": 0,
      "outputs": [
        {
          "output_type": "display_data",
          "data": {
            "image/png": "[encoded data removed]",
            "text/plain": [
              "<Figure size 432x288 with 1 Axes>"
            ]
          },
          "metadata": {
            "tags": []
          }
        }
      ]
    },
    {
      "cell_type": "markdown",
      "metadata": {
        "id": "MxbvwRl2KKwX",
        "colab_type": "text"
      },
      "source": [
        "Gráfico de superfície"
      ]
    },
    {
      "cell_type": "code",
      "metadata": {
        "id": "_LrCzL8gKdjP",
        "colab_type": "code",
        "colab": {
          "base_uri": "https://localhost:8080/",
          "height": 617
        },
        "outputId": "dd6c913b-c508-4128-9969-d3fe5fe19a4f"
      },
      "source": [
        "chamaGraficoDeSuperficie(MContRe)"
      ],
      "execution_count": 32,
      "outputs": [
        {
          "output_type": "display_data",
          "data": {
            "text/html": [
              "<html>\n",
              "<head><meta charset=\"utf-8\" /></head>\n",
              "<body>\n",
              "    <div>\n",
              "            <script src=\"https://cdnjs.cloudflare.com/ajax/libs/mathjax/2.7.5/MathJax.js?config=TeX-AMS-MML_SVG\"></script><script type=\"text/javascript\">if (window.MathJax) {MathJax.Hub.Config({SVG: {font: \"STIX-Web\"}});}</script>\n",
              "                <script type=\"text/javascript\">window.PlotlyConfig = {MathJaxConfig: 'local'};</script>\n",
              "        <script src=\"https://cdn.plot.ly/plotly-latest.min.js\"></script>    \n",
              "            <div id=\"8dff264d-8b12-47c0-86d0-bdd943f5129e\" class=\"plotly-graph-div\" style=\"height:600px; width:750px;\"></div>\n",
              "            <script type=\"text/javascript\">\n",
              "                \n",
              "                    window.PLOTLYENV=window.PLOTLYENV || {};\n",
              "                    \n",
              "                if (document.getElementById(\"8dff264d-8b12-47c0-86d0-bdd943f5129e\")) {\n",
              "                    Plotly.newPlot(\n",
              "                        '8dff264d-8b12-47c0-86d0-bdd943f5129e',\n",
              "                        [{\"type\": \"surface\", \"z\": [[-0.4473167946695559, -0.24470798035758026, -0.7358875496590943, -0.8310955922857285, -0.580475643509716, -0.693125513881658, -0.6918333108581499, -0.5506262878272682, -0.7781366256036003, -0.6692723562762242, -0.3544338688262886, -0.49418250254375845, -0.4521375934631906, -0.5794992706420793, -0.49948714779209363, -0.6104893928389482, -0.685207559326437, -0.6515471122877619, -0.394610898933592, -0.5738904611414065], [-0.4473167946695559, -0.24470798035758026, -0.7358875496590943, -0.8310955922857285, -0.580475643509716, -0.693125513881658, -0.6918333108581499, -0.5506262878272682, -0.7781366256036003, -0.6692723562762242, -0.3544338688262886, -0.49418250254375845, -0.4521375934631906, -0.5794992706420793, -0.49948714779209363, -0.6104893928389482, -0.685207559326437, -0.6515471122877619, -0.394610898933592, -0.5738904611414065], [-0.4473167946695559, -0.24470798035758026, -0.7358875496590943, -0.8310955922857285, -0.580475643509716, -0.693125513881658, -0.6918333108581499, -0.5506262878272682, -0.7781366256036003, -0.6692723562762242, -0.3544338688262886, -0.49418250254375845, -0.4521375934631906, 1.022368631945782, -0.49948714779209363, -0.5004913040391378, 2.954957599595259, -0.6515471122877619, -0.394610898933592, -0.5738904611414065], [-0.0964800929679434, -0.24470798035758026, -0.7358875496590943, -0.045808418472441687, -0.580475643509716, -0.693125513881658, -0.6918333108581499, -0.5506262878272682, -0.7781366256036003, -0.6692723562762242, -0.3544338688262886, -0.49418250254375845, -0.4521375934631906, 1.022368631945782, -0.49948714779209363, 0.9294838503583986, -0.4710801970369254, -0.3587169494618015, -0.394610898933592, -0.5738904611414065], [-0.4473167946695559, -0.24470798035758026, -0.7358875496590943, 0.08507277716310611, -0.580475643509716, 0.43390784202347693, -0.6918333108581499, -0.5506262878272682, 1.06828926565918, 0.2764385819401796, -0.3544338688262886, 0.4501152730175635, -0.1974121886951959, -0.5794992706420793, -0.4354503339725944, -0.6104893928389482, -0.3640165158921696, -0.3587169494618015, -0.14797908710009702, -0.5738904611414065], [-0.4473167946695559, -0.2383020122853923, -0.7358875496590943, -0.8310955922857285, -0.5092516381711005, 0.09579783525193643, -0.6918333108581499, -0.5506262878272682, -0.6462490619419732, -0.6692723562762242, 0.2619728595672568, -0.05351020728180822, -0.4521375934631906, 0.8339135845825043, 3.3427216813778573, 1.5894723831572617, 0.9207476578448995, -0.6515471122877619, -0.14797908710009702, -0.5738904611414065], [-0.4473167946695559, -0.24257265766685093, -0.7358875496590943, -0.8310955922857285, -0.580475643509716, -0.693125513881658, -0.6918333108581499, -0.5506262878272682, -0.7781366256036003, 2.022366467878156, -0.3544338688262886, -0.49418250254375845, 1.4583029422967697, -0.5794992706420793, 1.5496908944318801, -0.6104893928389482, -0.685207559326437, -0.6515471122877619, -0.394610898933592, -0.5738904611414065], [-0.05262550525524184, -0.23616668959466297, -0.07121492416055752, -0.8310955922857285, -0.580475643509716, -0.07325716813383382, -0.6918333108581499, -0.5506262878272682, -0.7781366256036003, -0.6692723562762242, -0.3544338688262886, -0.431229317506337, -0.4521375934631906, -0.5794992706420793, -0.49948714779209363, -0.6104893928389482, -0.25695283474741387, -0.6515471122877619, 0.345284536566893, -0.5738904611414065], [0.38592037187177375, -0.18278362232642995, -0.07121492416055752, 2.1791719073318707, -0.580475643509716, -0.07325716813383382, -0.6918333108581499, -0.5506262878272682, 1.06828926565918, 1.9496194726307403, -0.3544338688262886, 3.723680894963479, 3.750831585208722, 3.283829200305116, -0.49948714779209363, 0.7094876727587778, -0.4710801970369254, -0.6515471122877619, 3.3048662785688334, 2.1589212585795767], [-0.00877091754254028, -0.23616668959466297, 0.21364477248167255, -0.7656549944679546, -0.04629560347010007, -0.693125513881658, -0.6918333108581499, 0.08963683755327624, 0.4088514473510442, 2.1678604583729872, -0.3544338688262886, 1.4573662336163067, 0.6941267279927856, -0.5794992706420793, -0.49948714779209363, -0.39049321523932723, -0.5781438781816811, 2.862414841623763, -0.394610898933592, 1.6123589146353803], [-0.3157530315314512, -0.24043733497612163, -0.688410933552056, 2.113731309514097, -0.580475643509716, 0.7720178487950174, 0.6471989037060112, 0.8579525880099296, 1.9915022112905703, 0.4946795676824267, -0.3544338688262886, -0.3053229474314941, -0.3247748910791932, 1.3050512029906989, 0.78124912859789, 2.909449448754988, 0.5995566144106322, -0.6515471122877619, -0.394610898933592, -0.5738904611414065], [-0.0964800929679434, -0.23616668959466297, -0.5934577013379794, -0.8310955922857285, 0.986452473939824, 0.9974245199760444, 1.4506182324445078, 3.6110840271462705, -0.7781366256036003, -0.6692723562762242, 2.111193044747893, 0.5130684580549849, -0.1974121886951959, -0.3910442232788015, -0.49948714779209363, 1.5894723831572617, 1.0278113389896553, 1.1054338646680004, -0.394610898933592, -0.5738904611414065], [-0.4473167946695559, -0.22549007614101638, -0.7358875496590943, -0.8310955922857285, 0.4522724339002081, -0.693125513881658, 2.9681880756172236, 0.921978900547984, 0.8045141383359257, -0.6692723562762242, -0.3544338688262886, -0.49418250254375845, -0.4521375934631906, -0.5794992706420793, -0.49948714779209363, -0.6104893928389482, -0.685207559326437, 1.1054338646680004, -0.394610898933592, 1.6123589146353803], [-0.1841892683933465, -0.11658861891382095, 1.8278497201209762, 0.21595397279865391, 0.4166604312309004, 3.589601238557855, 0.379392460793179, 0.1536631500913307, 0.276963883689417, -0.6692723562762242, -0.3544338688262886, -0.49418250254375845, -0.4521375934631906, -0.5794992706420793, 1.421617266792882, 0.48949149515915674, 1.8843207881477015, -0.6515471122877619, -0.394610898933592, 1.6123589146353803], [0.8683208367114909, -0.20200152654299383, 0.02373830805351917, 0.5431569618875234, 3.764188682145827, -0.12960883592909056, 0.379392460793179, -0.4865999752892138, 0.14507632002778983, -0.6692723562762242, -0.3544338688262886, -0.49418250254375845, -0.4521375934631906, -0.5794992706420793, -0.49948714779209363, -0.6104893928389482, -0.685207559326437, -0.6515471122877619, -0.394610898933592, 1.6123589146353803], [-0.14033468068064495, -0.24257265766685093, -0.11869154026759586, 1.524765929154132, 0.13176440987643856, 0.15214950304719319, 1.4506182324445078, -0.5506262878272682, 0.14507632002778983, -0.6692723562762242, -0.3544338688262886, -0.49418250254375845, -0.4521375934631906, -0.5794992706420793, -0.49948714779209363, -0.6104893928389482, -0.685207559326437, -0.6515471122877619, 2.564970843068348, -0.5738904611414065], [4.113560327451406, -0.24470798035758026, 0.545981085230941, -0.8310955922857285, 0.9152284686012085, 0.8847211843855309, 0.5579300894017338, 1.1780841507002018, 2.519052465937079, -0.6692723562762242, -0.3544338688262886, -0.49418250254375845, -0.4521375934631906, 0.45700348985594863, -0.49948714779209363, -0.6104893928389482, -0.685207559326437, 1.1054338646680004, -0.394610898933592, -0.5738904611414065], [-0.4473167946695559, -0.24470798035758026, 3.1097183550110117, 0.019632179345332217, -0.0819076061394078, -0.693125513881658, 0.4686612750974564, -0.5506262878272682, -0.7781366256036003, 0.2764385819401796, -0.3544338688262886, -0.49418250254375845, -0.4521375934631906, -0.5794992706420793, -0.49948714779209363, -0.6104893928389482, -0.685207559326437, 1.1054338646680004, -0.394610898933592, -0.5738904611414065], [-0.4473167946695559, 4.356912418164108, 0.8783173979802094, 0.7394787553408452, -0.40241563016317733, -0.4113671749053743, -0.6918333108581499, 0.28171577516743956, -0.7781366256036003, 1.2221495201565835, -0.3544338688262886, -0.49418250254375845, 0.6941267279927856, -0.5794992706420793, -0.49948714779209363, -0.6104893928389482, -0.4710801970369254, 1.2518489460809807, -0.394610898933592, -0.5738904611414065], [-0.4473167946695559, -0.24470798035758026, 0.830840781873171, 0.870359950976393, -0.40241563016317733, -0.693125513881658, -0.6918333108581499, -0.5506262878272682, -0.7781366256036003, -0.3782843752865615, 3.6522098657317565, 0.5760216430924064, -0.4521375934631906, -0.5794992706420793, 0.33299143186139574, -0.6104893928389482, 0.706620295555388, -0.6515471122877619, -0.394610898933592, -0.5738904611414065]]}],\n",
              "                        {\"autosize\": false, \"height\": 600, \"margin\": {\"b\": 65, \"l\": 65, \"r\": 50, \"t\": 90}, \"template\": {\"data\": {\"bar\": [{\"error_x\": {\"color\": \"#2a3f5f\"}, \"error_y\": {\"color\": \"#2a3f5f\"}, \"marker\": {\"line\": {\"color\": \"#E5ECF6\", \"width\": 0.5}}, \"type\": \"bar\"}], \"barpolar\": [{\"marker\": {\"line\": {\"color\": \"#E5ECF6\", \"width\": 0.5}}, \"type\": \"barpolar\"}], \"carpet\": [{\"aaxis\": {\"endlinecolor\": \"#2a3f5f\", \"gridcolor\": \"white\", \"linecolor\": \"white\", \"minorgridcolor\": \"white\", \"startlinecolor\": \"#2a3f5f\"}, \"baxis\": {\"endlinecolor\": \"#2a3f5f\", \"gridcolor\": \"white\", \"linecolor\": \"white\", \"minorgridcolor\": \"white\", \"startlinecolor\": \"#2a3f5f\"}, \"type\": \"carpet\"}], \"choropleth\": [{\"colorbar\": {\"outlinewidth\": 0, \"ticks\": \"\"}, \"type\": \"choropleth\"}], \"contour\": [{\"colorbar\": {\"outlinewidth\": 0, \"ticks\": \"\"}, \"colorscale\": [[0.0, \"#0d0887\"], [0.1111111111111111, \"#46039f\"], [0.2222222222222222, \"#7201a8\"], [0.3333333333333333, \"#9c179e\"], [0.4444444444444444, \"#bd3786\"], [0.5555555555555556, \"#d8576b\"], [0.6666666666666666, \"#ed7953\"], [0.7777777777777778, \"#fb9f3a\"], [0.8888888888888888, \"#fdca26\"], [1.0, \"#f0f921\"]], \"type\": \"contour\"}], \"contourcarpet\": [{\"colorbar\": {\"outlinewidth\": 0, \"ticks\": \"\"}, \"type\": \"contourcarpet\"}], \"heatmap\": [{\"colorbar\": {\"outlinewidth\": 0, \"ticks\": \"\"}, \"colorscale\": [[0.0, \"#0d0887\"], [0.1111111111111111, \"#46039f\"], [0.2222222222222222, \"#7201a8\"], [0.3333333333333333, \"#9c179e\"], [0.4444444444444444, \"#bd3786\"], [0.5555555555555556, \"#d8576b\"], [0.6666666666666666, \"#ed7953\"], [0.7777777777777778, \"#fb9f3a\"], [0.8888888888888888, \"#fdca26\"], [1.0, \"#f0f921\"]], \"type\": \"heatmap\"}], \"heatmapgl\": [{\"colorbar\": {\"outlinewidth\": 0, \"ticks\": \"\"}, \"colorscale\": [[0.0, \"#0d0887\"], [0.1111111111111111, \"#46039f\"], [0.2222222222222222, \"#7201a8\"], [0.3333333333333333, \"#9c179e\"], [0.4444444444444444, \"#bd3786\"], [0.5555555555555556, \"#d8576b\"], [0.6666666666666666, \"#ed7953\"], [0.7777777777777778, \"#fb9f3a\"], [0.8888888888888888, \"#fdca26\"], [1.0, \"#f0f921\"]], \"type\": \"heatmapgl\"}], \"histogram\": [{\"marker\": {\"colorbar\": {\"outlinewidth\": 0, \"ticks\": \"\"}}, \"type\": \"histogram\"}], \"histogram2d\": [{\"colorbar\": {\"outlinewidth\": 0, \"ticks\": \"\"}, \"colorscale\": [[0.0, \"#0d0887\"], [0.1111111111111111, \"#46039f\"], [0.2222222222222222, \"#7201a8\"], [0.3333333333333333, \"#9c179e\"], [0.4444444444444444, \"#bd3786\"], [0.5555555555555556, \"#d8576b\"], [0.6666666666666666, \"#ed7953\"], [0.7777777777777778, \"#fb9f3a\"], [0.8888888888888888, \"#fdca26\"], [1.0, \"#f0f921\"]], \"type\": \"histogram2d\"}], \"histogram2dcontour\": [{\"colorbar\": {\"outlinewidth\": 0, \"ticks\": \"\"}, \"colorscale\": [[0.0, \"#0d0887\"], [0.1111111111111111, \"#46039f\"], [0.2222222222222222, \"#7201a8\"], [0.3333333333333333, \"#9c179e\"], [0.4444444444444444, \"#bd3786\"], [0.5555555555555556, \"#d8576b\"], [0.6666666666666666, \"#ed7953\"], [0.7777777777777778, \"#fb9f3a\"], [0.8888888888888888, \"#fdca26\"], [1.0, \"#f0f921\"]], \"type\": \"histogram2dcontour\"}], \"mesh3d\": [{\"colorbar\": {\"outlinewidth\": 0, \"ticks\": \"\"}, \"type\": \"mesh3d\"}], \"parcoords\": [{\"line\": {\"colorbar\": {\"outlinewidth\": 0, \"ticks\": \"\"}}, \"type\": \"parcoords\"}], \"scatter\": [{\"marker\": {\"colorbar\": {\"outlinewidth\": 0, \"ticks\": \"\"}}, \"type\": \"scatter\"}], \"scatter3d\": [{\"line\": {\"colorbar\": {\"outlinewidth\": 0, \"ticks\": \"\"}}, \"marker\": {\"colorbar\": {\"outlinewidth\": 0, \"ticks\": \"\"}}, \"type\": \"scatter3d\"}], \"scattercarpet\": [{\"marker\": {\"colorbar\": {\"outlinewidth\": 0, \"ticks\": \"\"}}, \"type\": \"scattercarpet\"}], \"scattergeo\": [{\"marker\": {\"colorbar\": {\"outlinewidth\": 0, \"ticks\": \"\"}}, \"type\": \"scattergeo\"}], \"scattergl\": [{\"marker\": {\"colorbar\": {\"outlinewidth\": 0, \"ticks\": \"\"}}, \"type\": \"scattergl\"}], \"scattermapbox\": [{\"marker\": {\"colorbar\": {\"outlinewidth\": 0, \"ticks\": \"\"}}, \"type\": \"scattermapbox\"}], \"scatterpolar\": [{\"marker\": {\"colorbar\": {\"outlinewidth\": 0, \"ticks\": \"\"}}, \"type\": \"scatterpolar\"}], \"scatterpolargl\": [{\"marker\": {\"colorbar\": {\"outlinewidth\": 0, \"ticks\": \"\"}}, \"type\": \"scatterpolargl\"}], \"scatterternary\": [{\"marker\": {\"colorbar\": {\"outlinewidth\": 0, \"ticks\": \"\"}}, \"type\": \"scatterternary\"}], \"surface\": [{\"colorbar\": {\"outlinewidth\": 0, \"ticks\": \"\"}, \"colorscale\": [[0.0, \"#0d0887\"], [0.1111111111111111, \"#46039f\"], [0.2222222222222222, \"#7201a8\"], [0.3333333333333333, \"#9c179e\"], [0.4444444444444444, \"#bd3786\"], [0.5555555555555556, \"#d8576b\"], [0.6666666666666666, \"#ed7953\"], [0.7777777777777778, \"#fb9f3a\"], [0.8888888888888888, \"#fdca26\"], [1.0, \"#f0f921\"]], \"type\": \"surface\"}], \"table\": [{\"cells\": {\"fill\": {\"color\": \"#EBF0F8\"}, \"line\": {\"color\": \"white\"}}, \"header\": {\"fill\": {\"color\": \"#C8D4E3\"}, \"line\": {\"color\": \"white\"}}, \"type\": \"table\"}]}, \"layout\": {\"annotationdefaults\": {\"arrowcolor\": \"#2a3f5f\", \"arrowhead\": 0, \"arrowwidth\": 1}, \"colorscale\": {\"diverging\": [[0, \"#8e0152\"], [0.1, \"#c51b7d\"], [0.2, \"#de77ae\"], [0.3, \"#f1b6da\"], [0.4, \"#fde0ef\"], [0.5, \"#f7f7f7\"], [0.6, \"#e6f5d0\"], [0.7, \"#b8e186\"], [0.8, \"#7fbc41\"], [0.9, \"#4d9221\"], [1, \"#276419\"]], \"sequential\": [[0.0, \"#0d0887\"], [0.1111111111111111, \"#46039f\"], [0.2222222222222222, \"#7201a8\"], [0.3333333333333333, \"#9c179e\"], [0.4444444444444444, \"#bd3786\"], [0.5555555555555556, \"#d8576b\"], [0.6666666666666666, \"#ed7953\"], [0.7777777777777778, \"#fb9f3a\"], [0.8888888888888888, \"#fdca26\"], [1.0, \"#f0f921\"]], \"sequentialminus\": [[0.0, \"#0d0887\"], [0.1111111111111111, \"#46039f\"], [0.2222222222222222, \"#7201a8\"], [0.3333333333333333, \"#9c179e\"], [0.4444444444444444, \"#bd3786\"], [0.5555555555555556, \"#d8576b\"], [0.6666666666666666, \"#ed7953\"], [0.7777777777777778, \"#fb9f3a\"], [0.8888888888888888, \"#fdca26\"], [1.0, \"#f0f921\"]]}, \"colorway\": [\"#636efa\", \"#EF553B\", \"#00cc96\", \"#ab63fa\", \"#FFA15A\", \"#19d3f3\", \"#FF6692\", \"#B6E880\", \"#FF97FF\", \"#FECB52\"], \"font\": {\"color\": \"#2a3f5f\"}, \"geo\": {\"bgcolor\": \"white\", \"lakecolor\": \"white\", \"landcolor\": \"#E5ECF6\", \"showlakes\": true, \"showland\": true, \"subunitcolor\": \"white\"}, \"hoverlabel\": {\"align\": \"left\"}, \"hovermode\": \"closest\", \"mapbox\": {\"style\": \"light\"}, \"paper_bgcolor\": \"white\", \"plot_bgcolor\": \"#E5ECF6\", \"polar\": {\"angularaxis\": {\"gridcolor\": \"white\", \"linecolor\": \"white\", \"ticks\": \"\"}, \"bgcolor\": \"#E5ECF6\", \"radialaxis\": {\"gridcolor\": \"white\", \"linecolor\": \"white\", \"ticks\": \"\"}}, \"scene\": {\"xaxis\": {\"backgroundcolor\": \"#E5ECF6\", \"gridcolor\": \"white\", \"gridwidth\": 2, \"linecolor\": \"white\", \"showbackground\": true, \"ticks\": \"\", \"zerolinecolor\": \"white\"}, \"yaxis\": {\"backgroundcolor\": \"#E5ECF6\", \"gridcolor\": \"white\", \"gridwidth\": 2, \"linecolor\": \"white\", \"showbackground\": true, \"ticks\": \"\", \"zerolinecolor\": \"white\"}, \"zaxis\": {\"backgroundcolor\": \"#E5ECF6\", \"gridcolor\": \"white\", \"gridwidth\": 2, \"linecolor\": \"white\", \"showbackground\": true, \"ticks\": \"\", \"zerolinecolor\": \"white\"}}, \"shapedefaults\": {\"line\": {\"color\": \"#2a3f5f\"}}, \"ternary\": {\"aaxis\": {\"gridcolor\": \"white\", \"linecolor\": \"white\", \"ticks\": \"\"}, \"baxis\": {\"gridcolor\": \"white\", \"linecolor\": \"white\", \"ticks\": \"\"}, \"bgcolor\": \"#E5ECF6\", \"caxis\": {\"gridcolor\": \"white\", \"linecolor\": \"white\", \"ticks\": \"\"}}, \"title\": {\"x\": 0.05}, \"xaxis\": {\"automargin\": true, \"gridcolor\": \"white\", \"linecolor\": \"white\", \"ticks\": \"\", \"zerolinecolor\": \"white\", \"zerolinewidth\": 2}, \"yaxis\": {\"automargin\": true, \"gridcolor\": \"white\", \"linecolor\": \"white\", \"ticks\": \"\", \"zerolinecolor\": \"white\", \"zerolinewidth\": 2}}}, \"title\": {\"text\": \"Gr\\u00e1fico de superf\\u00edcie - Reprovados\"}, \"width\": 750},\n",
              "                        {\"responsive\": true}\n",
              "                    ).then(function(){\n",
              "                            \n",
              "var gd = document.getElementById('8dff264d-8b12-47c0-86d0-bdd943f5129e');\n",
              "var x = new MutationObserver(function (mutations, observer) {{\n",
              "        var display = window.getComputedStyle(gd).display;\n",
              "        if (!display || display === 'none') {{\n",
              "            console.log([gd, 'removed!']);\n",
              "            Plotly.purge(gd);\n",
              "            observer.disconnect();\n",
              "        }}\n",
              "}});\n",
              "\n",
              "// Listen for the removal of the full notebook cells\n",
              "var notebookContainer = gd.closest('#notebook-container');\n",
              "if (notebookContainer) {{\n",
              "    x.observe(notebookContainer, {childList: true});\n",
              "}}\n",
              "\n",
              "// Listen for the clearing of the current output cell\n",
              "var outputEl = gd.closest('.output');\n",
              "if (outputEl) {{\n",
              "    x.observe(outputEl, {childList: true});\n",
              "}}\n",
              "\n",
              "                        })\n",
              "                };\n",
              "                \n",
              "            </script>\n",
              "        </div>\n",
              "</body>\n",
              "</html>"
            ]
          },
          "metadata": {
            "tags": []
          }
        }
      ]
    },
    {
      "cell_type": "markdown",
      "metadata": {
        "id": "-fZeJe7nKlxP",
        "colab_type": "text"
      },
      "source": [
        "Gráfico de Pizza das situações "
      ]
    },
    {
      "cell_type": "code",
      "metadata": {
        "id": "aeVA6MoAJlTR",
        "colab_type": "code",
        "colab": {
          "base_uri": "https://localhost:8080/",
          "height": 303
        },
        "outputId": "9670091c-5ffa-490d-db39-87f5e8ce83c7"
      },
      "source": [
        "chamaGraficoDePizzaDeSituacoes()"
      ],
      "execution_count": 45,
      "outputs": [
        {
          "output_type": "display_data",
          "data": {
            "image/png": "[encoded data removed]",
            "text/plain": [
              "<Figure size 720x360 with 400 Axes>"
            ]
          },
          "metadata": {
            "tags": []
          }
        }
      ]
    },
    {
      "cell_type": "markdown",
      "metadata": {
        "id": "AkX_bd1-_d9t",
        "colab_type": "text"
      },
      "source": [
        "#resto"
      ]
    },
    {
      "cell_type": "markdown",
      "metadata": {
        "id": "fIMMlv80C7RD",
        "colab_type": "text"
      },
      "source": [
        "Função pra gerar o campo dos vencedores"
      ]
    },
    {
      "cell_type": "code",
      "metadata": {
        "id": "4MYvAQ3IC6Uh",
        "colab_type": "code",
        "colab": {}
      },
      "source": [
        "def criaColunaVencedores(table1,table2):\n",
        "  for i in range(1,19):\n",
        "    table1[\"Vencedor semana \"+str(i)] = 0\n",
        "    table2[\"Vencedor semana \"+str(i)] = 0\n",
        "  table1[\"user\"]=0\n",
        "  table2[\"user\"]=0\n",
        "  return (table1,table2)"
      ],
      "execution_count": 0,
      "outputs": []
    },
    {
      "cell_type": "markdown",
      "metadata": {
        "id": "sGn-D2RbPmR-",
        "colab_type": "text"
      },
      "source": [
        "Escolhendo um caso específico para verificar o desempenho"
      ]
    },
    {
      "cell_type": "code",
      "metadata": {
        "id": "g0KcIb-QxwIz",
        "colab_type": "code",
        "outputId": "9ddb7204-4107-4bc4-e6b9-c8079aacb58e",
        "colab": {
          "base_uri": "https://localhost:8080/",
          "height": 745
        }
      },
      "source": [
        "aluno = tab.loc[tab[\"idAluno\"]==\"5991cd870be9d42f2f68b90c\",:]\n",
        "aluno = aluno.iloc[:,44:62].values\n",
        "\n",
        "BomDesempenho = np.zeros((tamanhoXdaRede,tamanhoYdaRede))\n",
        "\n",
        "cont = 0\n",
        "\n",
        "for x in range(tamanhoXdaRede): \n",
        "  pos = som.winner(x)    \n",
        "  BomDesempenho[pos] += 1\n",
        "print(BomDesempenho)"
      ],
      "execution_count": 0,
      "outputs": [
        {
          "output_type": "stream",
          "text": [
            "[[ 0.  0.  0.  0.  0.  0.  0.  0.  0.  0.  0.  0.  0.  0.  0.  0.  0.  0.\n",
            "   0.  0.]\n",
            " [ 0.  0.  0.  0.  0.  0.  0.  0.  0.  0.  0.  0.  0.  0.  0.  0.  0.  0.\n",
            "   0.  0.]\n",
            " [ 0.  0.  0.  0.  0.  0.  0.  1.  2.  0.  0.  0.  0.  0.  0.  0.  0.  0.\n",
            "   0.  0.]\n",
            " [ 0.  0.  0.  0.  1.  0.  0.  0.  0.  0.  0.  0.  0.  0.  0.  0.  0.  0.\n",
            "   0.  0.]\n",
            " [ 0.  0.  0.  0.  0.  0.  0.  0.  0.  0.  0.  0.  0.  0.  0.  0.  0.  0.\n",
            "   0.  0.]\n",
            " [ 0.  0.  0.  0.  0.  0.  0.  0.  0.  0.  0.  0.  0.  0.  0.  0.  0.  0.\n",
            "   0.  0.]\n",
            " [ 0.  0.  0.  0.  0.  0.  0.  0.  0.  0.  0.  0.  0.  0.  0.  0.  0.  0.\n",
            "   0.  0.]\n",
            " [ 0.  0.  0.  0.  0.  0.  0.  0.  0.  0.  0.  0.  0.  0.  0.  0.  0.  0.\n",
            "   0.  0.]\n",
            " [ 0. 15.  0.  0.  0.  0.  0.  0.  0.  0.  0.  0.  0.  0.  0.  0.  0.  0.\n",
            "   0.  0.]\n",
            " [ 0.  0.  0.  0.  0.  0.  0.  0.  0.  0.  0.  0.  0.  0.  0.  0.  0.  0.\n",
            "   0.  0.]\n",
            " [ 0.  0.  0.  0.  0.  0.  0.  0.  0.  0.  0.  0.  0.  0.  0.  0.  0.  0.\n",
            "   0.  0.]\n",
            " [ 0.  0.  0.  0.  0.  0.  0.  0.  0.  0.  0.  0.  0.  0.  0.  0.  0.  0.\n",
            "   0.  0.]\n",
            " [ 0.  0.  0.  0.  0.  1.  0.  0.  0.  0.  0.  0.  0.  0.  0.  0.  0.  0.\n",
            "   0.  0.]\n",
            " [ 0.  0.  0.  0.  0.  0.  0.  0.  0.  0.  0.  0.  0.  0.  0.  0.  0.  0.\n",
            "   0.  0.]\n",
            " [ 0.  0.  0.  0.  0.  0.  0.  0.  0.  0.  0.  0.  0.  0.  0.  0.  0.  0.\n",
            "   0.  0.]\n",
            " [ 0.  0.  0.  0.  0.  0.  0.  0.  0.  0.  0.  0.  0.  0.  0.  0.  0.  0.\n",
            "   0.  0.]\n",
            " [ 0.  0.  0.  0.  0.  0.  0.  0.  0.  0.  0.  0.  0.  0.  0.  0.  0.  0.\n",
            "   0.  0.]\n",
            " [ 0.  0.  0.  0.  0.  0.  0.  0.  0.  0.  0.  0.  0.  0.  0.  0.  0.  0.\n",
            "   0.  0.]\n",
            " [ 0.  0.  0.  0.  0.  0.  0.  0.  0.  0.  0.  0.  0.  0.  0.  0.  0.  0.\n",
            "   0.  0.]\n",
            " [ 0.  0.  0.  0.  0.  0.  0.  0.  0.  0.  0.  0.  0.  0.  0.  0.  0.  0.\n",
            "   0.  0.]]\n"
          ],
          "name": "stdout"
        }
      ]
    },
    {
      "cell_type": "markdown",
      "metadata": {
        "id": "xVGjUhwfgdyU",
        "colab_type": "text"
      },
      "source": [
        "#resto 2"
      ]
    },
    {
      "cell_type": "code",
      "metadata": {
        "id": "M2rqoy7mI8AM",
        "colab_type": "code",
        "colab": {}
      },
      "source": [
        "x_train = tab.iloc[:, 3:7].values"
      ],
      "execution_count": 0,
      "outputs": []
    },
    {
      "cell_type": "code",
      "metadata": {
        "id": "OjPEBRzw90Fi",
        "colab_type": "code",
        "outputId": "d10c782a-2521-4744-b7c9-c094d20f1802",
        "colab": {
          "base_uri": "https://localhost:8080/",
          "height": 51
        }
      },
      "source": [
        "cont = 1;\n",
        "#MContRe = np.zeros((tamanhoXdaRede,tamanhoYdaRede))\n",
        "matriz = np.zeros((tamanhoXdaRede,tamanhoXdaRede))\n",
        "for i in range(len(MContRe)):\n",
        "  for j in range(len(MContRe)):\n",
        "    matriz[i][j] = MContRe[i][j]/MContT[i][j]"
      ],
      "execution_count": 0,
      "outputs": [
        {
          "output_type": "stream",
          "text": [
            "/usr/local/lib/python3.6/dist-packages/ipykernel_launcher.py:6: RuntimeWarning: invalid value encountered in double_scalars\n",
            "  \n"
          ],
          "name": "stderr"
        }
      ]
    },
    {
      "cell_type": "code",
      "metadata": {
        "id": "LK2hPJ_W-hjq",
        "colab_type": "code",
        "outputId": "83337a31-39bb-4054-cf38-cde648bee66b",
        "colab": {
          "base_uri": "https://localhost:8080/",
          "height": 303
        }
      },
      "source": [
        "import matplotlib.cm as cm\n",
        "import matplotlib.mlab as mlab\n",
        "import matplotlib.pyplot as plt\n",
        "\n",
        "delta = 0.025\n",
        "#x = y = np.arange(-3.0, 3.0, delta)\n",
        "#X, Y = np.meshgrid(x, y)\n",
        "#Z1 = mlab.bivariate_normal(X, Y, 1.0, 1.0, 0.0, 0.0)\n",
        "#Z2 = mlab.bivariate_normal(X, Y, 1.5, 0.5, 1, 1)\n",
        "#Z = Z2 - Z1  # difference of Gaussians\n",
        "\n",
        "im = plt.imshow(matriz, interpolation='bilinear', cmap=cm.RdYlGn,\n",
        "                origin='lower', extent=[0, 18, 0, 18],\n",
        "                vmax=abs(matriz).max(), vmin=-abs(matriz).max())\n",
        "\n",
        "plt.show()"
      ],
      "execution_count": 0,
      "outputs": [
        {
          "output_type": "stream",
          "text": [
            "/usr/local/lib/python3.6/dist-packages/matplotlib/colors.py:527: RuntimeWarning: invalid value encountered in less\n",
            "  xa[xa < 0] = -1\n"
          ],
          "name": "stderr"
        },
        {
          "output_type": "display_data",
          "data": {
            "image/png": "[encoded data removed]",
            "text/plain": [
              "<Figure size 432x288 with 1 Axes>"
            ]
          },
          "metadata": {
            "tags": []
          }
        }
      ]
    },
    {
      "cell_type": "markdown",
      "metadata": {
        "id": "76hEA9kPAoT5",
        "colab_type": "text"
      },
      "source": [
        "Função para exibir um neurônio específico"
      ]
    },
    {
      "cell_type": "code",
      "metadata": {
        "id": "QFxfyRU-_1Yp",
        "colab_type": "code",
        "colab": {}
      },
      "source": [
        "def exibeNeuronio(linha,coluna): \n",
        "  x = tab.columns()\n",
        "  plt.plot([-1,18])\n",
        "  #plt.axis([-1, 18, 0, 35])\n",
        "  plt.bar(x, pesos[linha,coluna,:])\n",
        "  plt.show()"
      ],
      "execution_count": 0,
      "outputs": []
    },
    {
      "cell_type": "markdown",
      "metadata": {
        "id": "dPJkvE0hDsB8",
        "colab_type": "text"
      },
      "source": [
        "#Parte2"
      ]
    },
    {
      "cell_type": "markdown",
      "metadata": {
        "id": "88nMFA3SBxmx",
        "colab_type": "text"
      },
      "source": [
        "Função para deixar em uma linha "
      ]
    },
    {
      "cell_type": "code",
      "metadata": {
        "id": "NEPAArY-BQ3H",
        "colab_type": "code",
        "colab": {}
      },
      "source": [
        "def limpaConcatenaLinhas(table1,table2):\n",
        "  table1.replace(np.nan, 0, inplace=True)   \n",
        "  table1 = table1.groupby([\"user\"]).sum()\n",
        "  table2.replace(np.nan, 0, inplace=True)   \n",
        "  table2 = table2.groupby([\"user\"]).sum()\n",
        "  return (table1,table2)"
      ],
      "execution_count": 0,
      "outputs": []
    },
    {
      "cell_type": "markdown",
      "metadata": {
        "id": "-ei8haby_2p_",
        "colab_type": "text"
      },
      "source": [
        "Função para separar em um dfx e um dfy os vencedores da SOM"
      ]
    },
    {
      "cell_type": "code",
      "metadata": {
        "id": "ikUD66mhwBhv",
        "colab_type": "code",
        "colab": {}
      },
      "source": [
        "def separaXeYdosVencedores():\n",
        "  cont = 1\n",
        "  user = 1\n",
        "\n",
        "  dfx = pd.DataFrame()\n",
        "  dfy = pd.DataFrame()\n",
        "  (dfx,dfy) = criaColunaVencedores(dfx,dfy)\n",
        "\n",
        "  for i in X_train:\n",
        "    pos = som.winner(i)\n",
        "    arraybi = np.asarray(pos)\n",
        "    if(cont == 19):\n",
        "        cont = 1\n",
        "        user = user + 1\n",
        "    dfx = dfx.append({dfx.columns[cont-1]:arraybi[0],\"user\":user}, ignore_index=True)\n",
        "    dfy = dfy.append({dfy.columns[cont-1]:arraybi[1],\"user\":user}, ignore_index=True)  \n",
        "    cont = cont + 1\n",
        "  (dfx,dfy) = limpaConcatenaLinhas(dfx,dfy)  \n",
        "  return(dfx,dfy)"
      ],
      "execution_count": 0,
      "outputs": []
    },
    {
      "cell_type": "markdown",
      "metadata": {
        "id": "NWbnmLE5ByWV",
        "colab_type": "text"
      },
      "source": [
        "Chamada das função de separar o X e o Y dos vencedores por semana em dataframes"
      ]
    },
    {
      "cell_type": "code",
      "metadata": {
        "id": "KXlGkfNX_gRs",
        "colab_type": "code",
        "colab": {}
      },
      "source": [
        "(vencedorX,vencedorY) = separaXeYdosVencedores()"
      ],
      "execution_count": 0,
      "outputs": []
    },
    {
      "cell_type": "code",
      "metadata": {
        "id": "F6koqUtvHWQ2",
        "colab_type": "code",
        "outputId": "7fccf187-06ae-480f-a427-19a6e7726588",
        "colab": {
          "base_uri": "https://localhost:8080/",
          "height": 190
        }
      },
      "source": [
        "vencedorX.head(2)"
      ],
      "execution_count": 0,
      "outputs": [
        {
          "output_type": "execute_result",
          "data": {
            "text/html": [
              "<div>\n",
              "<style scoped>\n",
              "    .dataframe tbody tr th:only-of-type {\n",
              "        vertical-align: middle;\n",
              "    }\n",
              "\n",
              "    .dataframe tbody tr th {\n",
              "        vertical-align: top;\n",
              "    }\n",
              "\n",
              "    .dataframe thead th {\n",
              "        text-align: right;\n",
              "    }\n",
              "</style>\n",
              "<table border=\"1\" class=\"dataframe\">\n",
              "  <thead>\n",
              "    <tr style=\"text-align: right;\">\n",
              "      <th></th>\n",
              "      <th>Vencedor semana 1</th>\n",
              "      <th>Vencedor semana 2</th>\n",
              "      <th>Vencedor semana 3</th>\n",
              "      <th>Vencedor semana 4</th>\n",
              "      <th>Vencedor semana 5</th>\n",
              "      <th>Vencedor semana 6</th>\n",
              "      <th>Vencedor semana 7</th>\n",
              "      <th>Vencedor semana 8</th>\n",
              "      <th>Vencedor semana 9</th>\n",
              "      <th>Vencedor semana 10</th>\n",
              "      <th>Vencedor semana 11</th>\n",
              "      <th>Vencedor semana 12</th>\n",
              "      <th>Vencedor semana 13</th>\n",
              "      <th>Vencedor semana 14</th>\n",
              "      <th>Vencedor semana 15</th>\n",
              "      <th>Vencedor semana 16</th>\n",
              "      <th>Vencedor semana 17</th>\n",
              "      <th>Vencedor semana 18</th>\n",
              "    </tr>\n",
              "    <tr>\n",
              "      <th>user</th>\n",
              "      <th></th>\n",
              "      <th></th>\n",
              "      <th></th>\n",
              "      <th></th>\n",
              "      <th></th>\n",
              "      <th></th>\n",
              "      <th></th>\n",
              "      <th></th>\n",
              "      <th></th>\n",
              "      <th></th>\n",
              "      <th></th>\n",
              "      <th></th>\n",
              "      <th></th>\n",
              "      <th></th>\n",
              "      <th></th>\n",
              "      <th></th>\n",
              "      <th></th>\n",
              "      <th></th>\n",
              "    </tr>\n",
              "  </thead>\n",
              "  <tbody>\n",
              "    <tr>\n",
              "      <th>1.0</th>\n",
              "      <td>0.0</td>\n",
              "      <td>2.0</td>\n",
              "      <td>3.0</td>\n",
              "      <td>2.0</td>\n",
              "      <td>2.0</td>\n",
              "      <td>0.0</td>\n",
              "      <td>2.0</td>\n",
              "      <td>2.0</td>\n",
              "      <td>0.0</td>\n",
              "      <td>0.0</td>\n",
              "      <td>0.0</td>\n",
              "      <td>0.0</td>\n",
              "      <td>2.0</td>\n",
              "      <td>4.0</td>\n",
              "      <td>2.0</td>\n",
              "      <td>2.0</td>\n",
              "      <td>0.0</td>\n",
              "      <td>2.0</td>\n",
              "    </tr>\n",
              "    <tr>\n",
              "      <th>2.0</th>\n",
              "      <td>2.0</td>\n",
              "      <td>0.0</td>\n",
              "      <td>0.0</td>\n",
              "      <td>4.0</td>\n",
              "      <td>7.0</td>\n",
              "      <td>5.0</td>\n",
              "      <td>7.0</td>\n",
              "      <td>7.0</td>\n",
              "      <td>0.0</td>\n",
              "      <td>7.0</td>\n",
              "      <td>7.0</td>\n",
              "      <td>7.0</td>\n",
              "      <td>7.0</td>\n",
              "      <td>4.0</td>\n",
              "      <td>7.0</td>\n",
              "      <td>0.0</td>\n",
              "      <td>5.0</td>\n",
              "      <td>7.0</td>\n",
              "    </tr>\n",
              "  </tbody>\n",
              "</table>\n",
              "</div>"
            ],
            "text/plain": [
              "      Vencedor semana 1  ...  Vencedor semana 18\n",
              "user                     ...                    \n",
              "1.0                 0.0  ...                 2.0\n",
              "2.0                 2.0  ...                 7.0\n",
              "\n",
              "[2 rows x 18 columns]"
            ]
          },
          "metadata": {
            "tags": []
          },
          "execution_count": 128
        }
      ]
    },
    {
      "cell_type": "code",
      "metadata": {
        "id": "ynVs4j5VBviK",
        "colab_type": "code",
        "outputId": "ba4a780e-47b2-445f-a077-751e5ce0ab43",
        "colab": {
          "base_uri": "https://localhost:8080/",
          "height": 190
        }
      },
      "source": [
        "vencedorY.head(2)"
      ],
      "execution_count": 0,
      "outputs": [
        {
          "output_type": "execute_result",
          "data": {
            "text/html": [
              "<div>\n",
              "<style scoped>\n",
              "    .dataframe tbody tr th:only-of-type {\n",
              "        vertical-align: middle;\n",
              "    }\n",
              "\n",
              "    .dataframe tbody tr th {\n",
              "        vertical-align: top;\n",
              "    }\n",
              "\n",
              "    .dataframe thead th {\n",
              "        text-align: right;\n",
              "    }\n",
              "</style>\n",
              "<table border=\"1\" class=\"dataframe\">\n",
              "  <thead>\n",
              "    <tr style=\"text-align: right;\">\n",
              "      <th></th>\n",
              "      <th>Vencedor semana 1</th>\n",
              "      <th>Vencedor semana 2</th>\n",
              "      <th>Vencedor semana 3</th>\n",
              "      <th>Vencedor semana 4</th>\n",
              "      <th>Vencedor semana 5</th>\n",
              "      <th>Vencedor semana 6</th>\n",
              "      <th>Vencedor semana 7</th>\n",
              "      <th>Vencedor semana 8</th>\n",
              "      <th>Vencedor semana 9</th>\n",
              "      <th>Vencedor semana 10</th>\n",
              "      <th>Vencedor semana 11</th>\n",
              "      <th>Vencedor semana 12</th>\n",
              "      <th>Vencedor semana 13</th>\n",
              "      <th>Vencedor semana 14</th>\n",
              "      <th>Vencedor semana 15</th>\n",
              "      <th>Vencedor semana 16</th>\n",
              "      <th>Vencedor semana 17</th>\n",
              "      <th>Vencedor semana 18</th>\n",
              "    </tr>\n",
              "    <tr>\n",
              "      <th>user</th>\n",
              "      <th></th>\n",
              "      <th></th>\n",
              "      <th></th>\n",
              "      <th></th>\n",
              "      <th></th>\n",
              "      <th></th>\n",
              "      <th></th>\n",
              "      <th></th>\n",
              "      <th></th>\n",
              "      <th></th>\n",
              "      <th></th>\n",
              "      <th></th>\n",
              "      <th></th>\n",
              "      <th></th>\n",
              "      <th></th>\n",
              "      <th></th>\n",
              "      <th></th>\n",
              "      <th></th>\n",
              "    </tr>\n",
              "  </thead>\n",
              "  <tbody>\n",
              "    <tr>\n",
              "      <th>1.0</th>\n",
              "      <td>9.0</td>\n",
              "      <td>1.0</td>\n",
              "      <td>3.0</td>\n",
              "      <td>2.0</td>\n",
              "      <td>1.0</td>\n",
              "      <td>3.0</td>\n",
              "      <td>1.0</td>\n",
              "      <td>1.0</td>\n",
              "      <td>3.0</td>\n",
              "      <td>9.0</td>\n",
              "      <td>3.0</td>\n",
              "      <td>9.0</td>\n",
              "      <td>1.0</td>\n",
              "      <td>8.0</td>\n",
              "      <td>2.0</td>\n",
              "      <td>1.0</td>\n",
              "      <td>3.0</td>\n",
              "      <td>1.0</td>\n",
              "    </tr>\n",
              "    <tr>\n",
              "      <th>2.0</th>\n",
              "      <td>1.0</td>\n",
              "      <td>3.0</td>\n",
              "      <td>3.0</td>\n",
              "      <td>8.0</td>\n",
              "      <td>6.0</td>\n",
              "      <td>7.0</td>\n",
              "      <td>6.0</td>\n",
              "      <td>6.0</td>\n",
              "      <td>9.0</td>\n",
              "      <td>6.0</td>\n",
              "      <td>6.0</td>\n",
              "      <td>6.0</td>\n",
              "      <td>6.0</td>\n",
              "      <td>8.0</td>\n",
              "      <td>6.0</td>\n",
              "      <td>9.0</td>\n",
              "      <td>7.0</td>\n",
              "      <td>6.0</td>\n",
              "    </tr>\n",
              "  </tbody>\n",
              "</table>\n",
              "</div>"
            ],
            "text/plain": [
              "      Vencedor semana 1  ...  Vencedor semana 18\n",
              "user                     ...                    \n",
              "1.0                 9.0  ...                 1.0\n",
              "2.0                 1.0  ...                 6.0\n",
              "\n",
              "[2 rows x 18 columns]"
            ]
          },
          "metadata": {
            "tags": []
          },
          "execution_count": 129
        }
      ]
    },
    {
      "cell_type": "code",
      "metadata": {
        "id": "dCJ2gFzS_gyr",
        "colab_type": "code",
        "colab": {}
      },
      "source": [
        "vency = vencedorY.iloc[1000,1:].values\n",
        "vencx = vencedorX.iloc[1000,1:].values"
      ],
      "execution_count": 0,
      "outputs": []
    },
    {
      "cell_type": "code",
      "metadata": {
        "id": "dBVPLGVF_-vT",
        "colab_type": "code",
        "outputId": "5cec1c08-1ea2-41cf-9477-52bd594e5caa",
        "colab": {
          "base_uri": "https://localhost:8080/",
          "height": 52
        }
      },
      "source": [
        "print(vencx)\n",
        "print(vency)"
      ],
      "execution_count": 0,
      "outputs": [
        {
          "output_type": "stream",
          "text": [
            "[9. 2. 9. 2. 2. 9. 2. 2. 6. 9. 2. 2. 5. 2. 9. 2. 2.]\n",
            "[9. 4. 9. 4. 4. 9. 4. 4. 4. 9. 4. 4. 5. 3. 9. 3. 4.]\n"
          ],
          "name": "stdout"
        }
      ]
    },
    {
      "cell_type": "code",
      "metadata": {
        "id": "d7gq2QU9_0-z",
        "colab_type": "code",
        "outputId": "b17a6a93-24e7-409b-a782-5956d123f7c6",
        "colab": {
          "base_uri": "https://localhost:8080/",
          "height": 274
        }
      },
      "source": [
        "plt.plot(vency,vencx)\n",
        "plt.scatter(vency,vencx)\n",
        "plt.scatter(1,17,marker=\"x\")\n",
        "plt.axis([-1,20,-1,20])\n",
        "plt.show()"
      ],
      "execution_count": 0,
      "outputs": [
        {
          "output_type": "display_data",
          "data": {
            "image/png": "[encoded data removed]",
            "text/plain": [
              "<Figure size 432x288 with 1 Axes>"
            ]
          },
          "metadata": {
            "tags": []
          }
        }
      ]
    },
    {
      "cell_type": "markdown",
      "metadata": {
        "id": "EDsvJjWV3-_K",
        "colab_type": "text"
      },
      "source": [
        "Gera CSV'S"
      ]
    },
    {
      "cell_type": "code",
      "metadata": {
        "id": "TTNQbMyjRjHO",
        "colab_type": "code",
        "colab": {}
      },
      "source": [
        "vencedorX.to_csv(\"vencedorX.csv\")\n",
        "vencedorY.to_csv(\"vencedorY.csv\")"
      ],
      "execution_count": 0,
      "outputs": []
    },
    {
      "cell_type": "code",
      "metadata": {
        "id": "dlTweHxk4wP5",
        "colab_type": "code",
        "outputId": "9ac3714f-6abd-4236-bb75-647f6b0cdfdb",
        "colab": {
          "base_uri": "https://localhost:8080/",
          "height": 34
        }
      },
      "source": [
        "X_train[3][2]"
      ],
      "execution_count": 0,
      "outputs": [
        {
          "output_type": "execute_result",
          "data": {
            "text/plain": [
              "0.0"
            ]
          },
          "metadata": {
            "tags": []
          },
          "execution_count": 21
        }
      ]
    },
    {
      "cell_type": "code",
      "metadata": {
        "id": "Rq3gWO1B6Era",
        "colab_type": "code",
        "colab": {}
      },
      "source": [
        "X_test = X_train[50]"
      ],
      "execution_count": 0,
      "outputs": []
    },
    {
      "cell_type": "code",
      "metadata": {
        "id": "mZbq8RRs6y7V",
        "colab_type": "code",
        "outputId": "22d15613-d418-44ca-ade9-15b4ae8f68a6",
        "colab": {
          "base_uri": "https://localhost:8080/",
          "height": 52
        }
      },
      "source": [
        "X_test"
      ],
      "execution_count": 0,
      "outputs": [
        {
          "output_type": "execute_result",
          "data": {
            "text/plain": [
              "array([ 0.,  0.,  0.,  5.,  0.,  5.,  0., 14.,  2.,  0.,  0.,  4.,  0.,\n",
              "        5.,  0.,  0.,  0.,  0.])"
            ]
          },
          "metadata": {
            "tags": []
          },
          "execution_count": 30
        }
      ]
    },
    {
      "cell_type": "code",
      "metadata": {
        "id": "9tV5QQpHDpZe",
        "colab_type": "code",
        "outputId": "71e8b944-1656-4c65-a088-137a56a95ee7",
        "colab": {
          "base_uri": "https://localhost:8080/",
          "height": 187
        }
      },
      "source": [
        "print(MContT.astype(int))"
      ],
      "execution_count": 0,
      "outputs": [
        {
          "output_type": "stream",
          "text": [
            "[[ 276  442    0 5468   95  208  284   48   36  132]\n",
            " [ 127  430  516  406  117  206   99  185   75    4]\n",
            " [ 223  218  132  216  328  196  151  105   60   81]\n",
            " [ 296  497   97   98  205  165   43  187  112    0]\n",
            " [ 201  174  369  141   61  133  177   63   10   40]\n",
            " [  84  164   20  182   51  146    5   50   30    0]\n",
            " [  79  117   60   77    2  322   50   85   15  128]\n",
            " [ 267   60   42  105   14  179   44   20  275  136]\n",
            " [  93   44  121   53   67   59   93  212   29   80]\n",
            " [ 148  101  233  154   73   54  104  183  183   95]]\n"
          ],
          "name": "stdout"
        }
      ]
    },
    {
      "cell_type": "code",
      "metadata": {
        "id": "y2uzWXvBMgf-",
        "colab_type": "code",
        "colab": {}
      },
      "source": [
        "aluno = tab.loc[tab[\"idAluno\"]==\"5ace43c6e1b024040e6845f0\",:]\n",
        "aluno = aluno.iloc[:,44:62]\n",
        "aluno"
      ],
      "execution_count": 0,
      "outputs": []
    },
    {
      "cell_type": "code",
      "metadata": {
        "id": "AvoZvNL5Lta2",
        "colab_type": "code",
        "outputId": "e3356000-dd83-4d16-8e34-948f45b97f7e",
        "colab": {
          "base_uri": "https://localhost:8080/",
          "height": 199
        }
      },
      "source": [
        "aluno = tab.loc[tab[\"idAluno\"]==\"5ace43c6e1b024040e6845f0\",:]\n",
        "aluno = aluno.iloc[:,44:62].values\n",
        "\n",
        "BomDesempenho = np.zeros((tamanhoXdaRede,tamanhoYdaRede))\n",
        "\n",
        "cont = 0\n",
        "\n",
        "for x in range(0,1): \n",
        "  pos = som.winner(x)    \n",
        "  BomDesempenho[pos] += 1\n",
        "print(BomDesempenho)"
      ],
      "execution_count": 0,
      "outputs": [
        {
          "output_type": "stream",
          "text": [
            "[[0. 0. 0. 0. 0. 0. 0. 0. 0. 0.]\n",
            " [0. 0. 0. 0. 0. 0. 0. 0. 0. 0.]\n",
            " [0. 0. 0. 0. 0. 0. 0. 0. 0. 0.]\n",
            " [0. 0. 0. 0. 1. 0. 0. 0. 0. 0.]\n",
            " [0. 0. 0. 0. 0. 0. 0. 0. 0. 0.]\n",
            " [0. 0. 0. 0. 0. 0. 0. 0. 0. 0.]\n",
            " [0. 0. 0. 0. 0. 0. 0. 0. 0. 0.]\n",
            " [0. 0. 0. 0. 0. 0. 0. 0. 0. 0.]\n",
            " [0. 0. 0. 0. 0. 0. 0. 0. 0. 0.]\n",
            " [0. 0. 0. 0. 0. 0. 0. 0. 0. 0.]]\n"
          ],
          "name": "stdout"
        }
      ]
    },
    {
      "cell_type": "code",
      "metadata": {
        "id": "8NdygzhuFdhc",
        "colab_type": "code",
        "outputId": "77db47ac-76c9-4f10-8d0b-9b3b034bd8b3",
        "colab": {
          "base_uri": "https://localhost:8080/",
          "height": 199
        }
      },
      "source": [
        "print(MContT)"
      ],
      "execution_count": 0,
      "outputs": [
        {
          "output_type": "stream",
          "text": [
            "[[ 158.  149.  152.  506.  134. 5418.  126.  497.  295.  226.]\n",
            " [   0.    8.  203.  127.   61.  440.   70.   91.  189.  153.]\n",
            " [  96.   76.   38.  238.  203.  177.  238.  275.  121.  235.]\n",
            " [  16.   12.  206.  126.   21.  149.  469.  300.  115.   92.]\n",
            " [ 191.   75.  109.   96.   84.  394.  135.  262.  120.  178.]\n",
            " [ 128.   24.  120.   47.  249.   46.  172.    0.  152.  106.]\n",
            " [  99.   64.   89.   84.   48.   35.   90.   40.    0.  100.]\n",
            " [  78.  177.   46.   98.  116.   47.  114.    0.  176.   87.]\n",
            " [  75.    0.  144.   54.  198.   94.   78.  212.   84.  109.]\n",
            " [ 114.   30.  184.  199.  289.  139.   41.  194.   63.  138.]]\n"
          ],
          "name": "stdout"
        }
      ]
    },
    {
      "cell_type": "code",
      "metadata": {
        "id": "8SXb98CZGoaK",
        "colab_type": "code",
        "outputId": "fecd5c91-cba4-43b8-a3fd-439a3b137c54",
        "colab": {
          "base_uri": "https://localhost:8080/",
          "height": 377
        }
      },
      "source": [
        "tab.describe()"
      ],
      "execution_count": 0,
      "outputs": [
        {
          "output_type": "execute_result",
          "data": {
            "text/html": [
              "<div>\n",
              "<style scoped>\n",
              "    .dataframe tbody tr th:only-of-type {\n",
              "        vertical-align: middle;\n",
              "    }\n",
              "\n",
              "    .dataframe tbody tr th {\n",
              "        vertical-align: top;\n",
              "    }\n",
              "\n",
              "    .dataframe thead th {\n",
              "        text-align: right;\n",
              "    }\n",
              "</style>\n",
              "<table border=\"1\" class=\"dataframe\">\n",
              "  <thead>\n",
              "    <tr style=\"text-align: right;\">\n",
              "      <th></th>\n",
              "      <th>nota</th>\n",
              "      <th>submissões diferentes e iguais a 100% semana 1</th>\n",
              "      <th>submissões diferentes e iguais a 100% semana 2</th>\n",
              "      <th>submissões diferentes e iguais a 100% semana 3</th>\n",
              "      <th>submissões diferentes e iguais a 100% semana 4</th>\n",
              "      <th>submissões diferentes e iguais a 100% semana 5</th>\n",
              "      <th>submissões diferentes e iguais a 100% semana 6</th>\n",
              "      <th>submissões diferentes e iguais a 100% semana 7</th>\n",
              "      <th>submissões diferentes e iguais a 100% semana 8</th>\n",
              "      <th>submissões diferentes e iguais a 100% semana 9</th>\n",
              "      <th>submissões diferentes e iguais a 100% semana 10</th>\n",
              "      <th>submissões diferentes e iguais a 100% semana 11</th>\n",
              "      <th>submissões diferentes e iguais a 100% semana 12</th>\n",
              "      <th>submissões diferentes e iguais a 100% semana 13</th>\n",
              "      <th>submissões diferentes e iguais a 100% semana 14</th>\n",
              "      <th>submissões diferentes e iguais a 100% semana 15</th>\n",
              "      <th>submissões diferentes e iguais a 100% semana 16</th>\n",
              "      <th>submissões diferentes e iguais a 100% semana 17</th>\n",
              "      <th>submissões diferentes e iguais a 100% semana 18</th>\n",
              "    </tr>\n",
              "  </thead>\n",
              "  <tbody>\n",
              "    <tr>\n",
              "      <th>count</th>\n",
              "      <td>18921.000000</td>\n",
              "      <td>18921.0</td>\n",
              "      <td>18921.000000</td>\n",
              "      <td>18921.000000</td>\n",
              "      <td>18921.000000</td>\n",
              "      <td>18921.000000</td>\n",
              "      <td>18921.000000</td>\n",
              "      <td>18921.000000</td>\n",
              "      <td>18921.000000</td>\n",
              "      <td>18921.000000</td>\n",
              "      <td>18921.000000</td>\n",
              "      <td>18921.000000</td>\n",
              "      <td>18921.000000</td>\n",
              "      <td>18921.000000</td>\n",
              "      <td>18921.000000</td>\n",
              "      <td>18921.000000</td>\n",
              "      <td>18921.000000</td>\n",
              "      <td>18921.000000</td>\n",
              "      <td>18921.000000</td>\n",
              "    </tr>\n",
              "    <tr>\n",
              "      <th>mean</th>\n",
              "      <td>5.847392</td>\n",
              "      <td>0.0</td>\n",
              "      <td>0.019026</td>\n",
              "      <td>0.781248</td>\n",
              "      <td>1.266212</td>\n",
              "      <td>1.899371</td>\n",
              "      <td>1.419798</td>\n",
              "      <td>1.838433</td>\n",
              "      <td>2.284869</td>\n",
              "      <td>2.668569</td>\n",
              "      <td>1.426352</td>\n",
              "      <td>0.512182</td>\n",
              "      <td>0.562338</td>\n",
              "      <td>0.596956</td>\n",
              "      <td>0.589821</td>\n",
              "      <td>0.460229</td>\n",
              "      <td>0.459807</td>\n",
              "      <td>0.162518</td>\n",
              "      <td>0.155172</td>\n",
              "    </tr>\n",
              "    <tr>\n",
              "      <th>std</th>\n",
              "      <td>3.079472</td>\n",
              "      <td>0.0</td>\n",
              "      <td>0.415932</td>\n",
              "      <td>3.038596</td>\n",
              "      <td>3.598318</td>\n",
              "      <td>3.981952</td>\n",
              "      <td>3.316071</td>\n",
              "      <td>3.937911</td>\n",
              "      <td>4.553769</td>\n",
              "      <td>5.838618</td>\n",
              "      <td>4.187351</td>\n",
              "      <td>1.978043</td>\n",
              "      <td>1.927007</td>\n",
              "      <td>2.106674</td>\n",
              "      <td>2.035644</td>\n",
              "      <td>1.920160</td>\n",
              "      <td>1.989025</td>\n",
              "      <td>1.231743</td>\n",
              "      <td>1.281855</td>\n",
              "    </tr>\n",
              "    <tr>\n",
              "      <th>min</th>\n",
              "      <td>0.000000</td>\n",
              "      <td>0.0</td>\n",
              "      <td>0.000000</td>\n",
              "      <td>0.000000</td>\n",
              "      <td>0.000000</td>\n",
              "      <td>0.000000</td>\n",
              "      <td>0.000000</td>\n",
              "      <td>0.000000</td>\n",
              "      <td>0.000000</td>\n",
              "      <td>0.000000</td>\n",
              "      <td>0.000000</td>\n",
              "      <td>0.000000</td>\n",
              "      <td>0.000000</td>\n",
              "      <td>0.000000</td>\n",
              "      <td>0.000000</td>\n",
              "      <td>0.000000</td>\n",
              "      <td>0.000000</td>\n",
              "      <td>0.000000</td>\n",
              "      <td>0.000000</td>\n",
              "    </tr>\n",
              "    <tr>\n",
              "      <th>25%</th>\n",
              "      <td>3.700000</td>\n",
              "      <td>0.0</td>\n",
              "      <td>0.000000</td>\n",
              "      <td>0.000000</td>\n",
              "      <td>0.000000</td>\n",
              "      <td>0.000000</td>\n",
              "      <td>0.000000</td>\n",
              "      <td>0.000000</td>\n",
              "      <td>0.000000</td>\n",
              "      <td>0.000000</td>\n",
              "      <td>0.000000</td>\n",
              "      <td>0.000000</td>\n",
              "      <td>0.000000</td>\n",
              "      <td>0.000000</td>\n",
              "      <td>0.000000</td>\n",
              "      <td>0.000000</td>\n",
              "      <td>0.000000</td>\n",
              "      <td>0.000000</td>\n",
              "      <td>0.000000</td>\n",
              "    </tr>\n",
              "    <tr>\n",
              "      <th>50%</th>\n",
              "      <td>6.600000</td>\n",
              "      <td>0.0</td>\n",
              "      <td>0.000000</td>\n",
              "      <td>0.000000</td>\n",
              "      <td>0.000000</td>\n",
              "      <td>0.000000</td>\n",
              "      <td>0.000000</td>\n",
              "      <td>0.000000</td>\n",
              "      <td>0.000000</td>\n",
              "      <td>0.000000</td>\n",
              "      <td>0.000000</td>\n",
              "      <td>0.000000</td>\n",
              "      <td>0.000000</td>\n",
              "      <td>0.000000</td>\n",
              "      <td>0.000000</td>\n",
              "      <td>0.000000</td>\n",
              "      <td>0.000000</td>\n",
              "      <td>0.000000</td>\n",
              "      <td>0.000000</td>\n",
              "    </tr>\n",
              "    <tr>\n",
              "      <th>75%</th>\n",
              "      <td>8.300000</td>\n",
              "      <td>0.0</td>\n",
              "      <td>0.000000</td>\n",
              "      <td>0.000000</td>\n",
              "      <td>1.000000</td>\n",
              "      <td>2.000000</td>\n",
              "      <td>1.000000</td>\n",
              "      <td>3.000000</td>\n",
              "      <td>3.000000</td>\n",
              "      <td>3.000000</td>\n",
              "      <td>0.000000</td>\n",
              "      <td>0.000000</td>\n",
              "      <td>0.000000</td>\n",
              "      <td>0.000000</td>\n",
              "      <td>0.000000</td>\n",
              "      <td>0.000000</td>\n",
              "      <td>0.000000</td>\n",
              "      <td>0.000000</td>\n",
              "      <td>0.000000</td>\n",
              "    </tr>\n",
              "    <tr>\n",
              "      <th>max</th>\n",
              "      <td>10.000000</td>\n",
              "      <td>0.0</td>\n",
              "      <td>10.000000</td>\n",
              "      <td>34.000000</td>\n",
              "      <td>62.000000</td>\n",
              "      <td>30.000000</td>\n",
              "      <td>28.000000</td>\n",
              "      <td>33.000000</td>\n",
              "      <td>31.000000</td>\n",
              "      <td>71.000000</td>\n",
              "      <td>50.000000</td>\n",
              "      <td>30.000000</td>\n",
              "      <td>23.000000</td>\n",
              "      <td>33.000000</td>\n",
              "      <td>33.000000</td>\n",
              "      <td>20.000000</td>\n",
              "      <td>31.000000</td>\n",
              "      <td>35.000000</td>\n",
              "      <td>30.000000</td>\n",
              "    </tr>\n",
              "  </tbody>\n",
              "</table>\n",
              "</div>"
            ],
            "text/plain": [
              "               nota  ...  submissões diferentes e iguais a 100% semana 18\n",
              "count  18921.000000  ...                                     18921.000000\n",
              "mean       5.847392  ...                                         0.155172\n",
              "std        3.079472  ...                                         1.281855\n",
              "min        0.000000  ...                                         0.000000\n",
              "25%        3.700000  ...                                         0.000000\n",
              "50%        6.600000  ...                                         0.000000\n",
              "75%        8.300000  ...                                         0.000000\n",
              "max       10.000000  ...                                        30.000000\n",
              "\n",
              "[8 rows x 19 columns]"
            ]
          },
          "metadata": {
            "tags": []
          },
          "execution_count": 30
        }
      ]
    },
    {
      "cell_type": "code",
      "metadata": {
        "id": "O9zQJnEAHTil",
        "colab_type": "code",
        "outputId": "3f7c3e54-f87e-463b-d7b7-aa89a575d56d",
        "colab": {
          "base_uri": "https://localhost:8080/",
          "height": 527
        }
      },
      "source": [
        "tab.loc[tab[\"submissões diferentes e iguais a 100% semana 9\"] == 71,:]"
      ],
      "execution_count": 0,
      "outputs": [
        {
          "output_type": "execute_result",
          "data": {
            "text/html": [
              "<div>\n",
              "<style scoped>\n",
              "    .dataframe tbody tr th:only-of-type {\n",
              "        vertical-align: middle;\n",
              "    }\n",
              "\n",
              "    .dataframe tbody tr th {\n",
              "        vertical-align: top;\n",
              "    }\n",
              "\n",
              "    .dataframe thead th {\n",
              "        text-align: right;\n",
              "    }\n",
              "</style>\n",
              "<table border=\"1\" class=\"dataframe\">\n",
              "  <thead>\n",
              "    <tr style=\"text-align: right;\">\n",
              "      <th></th>\n",
              "      <th>idAluno</th>\n",
              "      <th>nota</th>\n",
              "      <th>situacao</th>\n",
              "      <th>submissões diferentes e iguais a 100% semana 1</th>\n",
              "      <th>submissões diferentes e iguais a 100% semana 2</th>\n",
              "      <th>submissões diferentes e iguais a 100% semana 3</th>\n",
              "      <th>submissões diferentes e iguais a 100% semana 4</th>\n",
              "      <th>submissões diferentes e iguais a 100% semana 5</th>\n",
              "      <th>submissões diferentes e iguais a 100% semana 6</th>\n",
              "      <th>submissões diferentes e iguais a 100% semana 7</th>\n",
              "      <th>submissões diferentes e iguais a 100% semana 8</th>\n",
              "      <th>submissões diferentes e iguais a 100% semana 9</th>\n",
              "      <th>submissões diferentes e iguais a 100% semana 10</th>\n",
              "      <th>submissões diferentes e iguais a 100% semana 11</th>\n",
              "      <th>submissões diferentes e iguais a 100% semana 12</th>\n",
              "      <th>submissões diferentes e iguais a 100% semana 13</th>\n",
              "      <th>submissões diferentes e iguais a 100% semana 14</th>\n",
              "      <th>submissões diferentes e iguais a 100% semana 15</th>\n",
              "      <th>submissões diferentes e iguais a 100% semana 16</th>\n",
              "      <th>submissões diferentes e iguais a 100% semana 17</th>\n",
              "      <th>submissões diferentes e iguais a 100% semana 18</th>\n",
              "    </tr>\n",
              "  </thead>\n",
              "  <tbody>\n",
              "    <tr>\n",
              "      <th>9891</th>\n",
              "      <td>5ace43c6e1b024040e6845f0</td>\n",
              "      <td>8.5</td>\n",
              "      <td>APROVADO</td>\n",
              "      <td>0.0</td>\n",
              "      <td>0.0</td>\n",
              "      <td>0.0</td>\n",
              "      <td>0.0</td>\n",
              "      <td>0.0</td>\n",
              "      <td>0.0</td>\n",
              "      <td>0.0</td>\n",
              "      <td>14.0</td>\n",
              "      <td>71.0</td>\n",
              "      <td>0.0</td>\n",
              "      <td>0.0</td>\n",
              "      <td>0.0</td>\n",
              "      <td>0.0</td>\n",
              "      <td>0.0</td>\n",
              "      <td>0.0</td>\n",
              "      <td>0.0</td>\n",
              "      <td>0.0</td>\n",
              "      <td>0.0</td>\n",
              "    </tr>\n",
              "    <tr>\n",
              "      <th>9892</th>\n",
              "      <td>5ace43c6e1b024040e6845f0</td>\n",
              "      <td>8.5</td>\n",
              "      <td>APROVADO</td>\n",
              "      <td>0.0</td>\n",
              "      <td>0.0</td>\n",
              "      <td>0.0</td>\n",
              "      <td>0.0</td>\n",
              "      <td>0.0</td>\n",
              "      <td>0.0</td>\n",
              "      <td>0.0</td>\n",
              "      <td>14.0</td>\n",
              "      <td>71.0</td>\n",
              "      <td>0.0</td>\n",
              "      <td>0.0</td>\n",
              "      <td>0.0</td>\n",
              "      <td>0.0</td>\n",
              "      <td>0.0</td>\n",
              "      <td>0.0</td>\n",
              "      <td>0.0</td>\n",
              "      <td>0.0</td>\n",
              "      <td>0.0</td>\n",
              "    </tr>\n",
              "    <tr>\n",
              "      <th>9894</th>\n",
              "      <td>5ace43c6e1b024040e6845f0</td>\n",
              "      <td>8.5</td>\n",
              "      <td>APROVADO</td>\n",
              "      <td>0.0</td>\n",
              "      <td>0.0</td>\n",
              "      <td>0.0</td>\n",
              "      <td>0.0</td>\n",
              "      <td>0.0</td>\n",
              "      <td>0.0</td>\n",
              "      <td>0.0</td>\n",
              "      <td>14.0</td>\n",
              "      <td>71.0</td>\n",
              "      <td>0.0</td>\n",
              "      <td>0.0</td>\n",
              "      <td>0.0</td>\n",
              "      <td>0.0</td>\n",
              "      <td>0.0</td>\n",
              "      <td>0.0</td>\n",
              "      <td>0.0</td>\n",
              "      <td>0.0</td>\n",
              "      <td>0.0</td>\n",
              "    </tr>\n",
              "    <tr>\n",
              "      <th>9896</th>\n",
              "      <td>5ace43c6e1b024040e6845f0</td>\n",
              "      <td>8.5</td>\n",
              "      <td>APROVADO</td>\n",
              "      <td>0.0</td>\n",
              "      <td>0.0</td>\n",
              "      <td>0.0</td>\n",
              "      <td>0.0</td>\n",
              "      <td>0.0</td>\n",
              "      <td>0.0</td>\n",
              "      <td>0.0</td>\n",
              "      <td>14.0</td>\n",
              "      <td>71.0</td>\n",
              "      <td>0.0</td>\n",
              "      <td>0.0</td>\n",
              "      <td>0.0</td>\n",
              "      <td>0.0</td>\n",
              "      <td>0.0</td>\n",
              "      <td>0.0</td>\n",
              "      <td>0.0</td>\n",
              "      <td>0.0</td>\n",
              "      <td>0.0</td>\n",
              "    </tr>\n",
              "    <tr>\n",
              "      <th>9897</th>\n",
              "      <td>5ace43c6e1b024040e6845f0</td>\n",
              "      <td>8.5</td>\n",
              "      <td>APROVADO</td>\n",
              "      <td>0.0</td>\n",
              "      <td>0.0</td>\n",
              "      <td>0.0</td>\n",
              "      <td>0.0</td>\n",
              "      <td>0.0</td>\n",
              "      <td>0.0</td>\n",
              "      <td>0.0</td>\n",
              "      <td>14.0</td>\n",
              "      <td>71.0</td>\n",
              "      <td>0.0</td>\n",
              "      <td>0.0</td>\n",
              "      <td>0.0</td>\n",
              "      <td>0.0</td>\n",
              "      <td>0.0</td>\n",
              "      <td>0.0</td>\n",
              "      <td>0.0</td>\n",
              "      <td>0.0</td>\n",
              "      <td>0.0</td>\n",
              "    </tr>\n",
              "    <tr>\n",
              "      <th>9898</th>\n",
              "      <td>5ace43c6e1b024040e6845f0</td>\n",
              "      <td>8.5</td>\n",
              "      <td>APROVADO</td>\n",
              "      <td>0.0</td>\n",
              "      <td>0.0</td>\n",
              "      <td>0.0</td>\n",
              "      <td>0.0</td>\n",
              "      <td>0.0</td>\n",
              "      <td>0.0</td>\n",
              "      <td>0.0</td>\n",
              "      <td>14.0</td>\n",
              "      <td>71.0</td>\n",
              "      <td>0.0</td>\n",
              "      <td>0.0</td>\n",
              "      <td>0.0</td>\n",
              "      <td>0.0</td>\n",
              "      <td>0.0</td>\n",
              "      <td>0.0</td>\n",
              "      <td>0.0</td>\n",
              "      <td>0.0</td>\n",
              "      <td>0.0</td>\n",
              "    </tr>\n",
              "    <tr>\n",
              "      <th>9899</th>\n",
              "      <td>5ace43c6e1b024040e6845f0</td>\n",
              "      <td>8.5</td>\n",
              "      <td>APROVADO</td>\n",
              "      <td>0.0</td>\n",
              "      <td>0.0</td>\n",
              "      <td>0.0</td>\n",
              "      <td>0.0</td>\n",
              "      <td>0.0</td>\n",
              "      <td>0.0</td>\n",
              "      <td>0.0</td>\n",
              "      <td>14.0</td>\n",
              "      <td>71.0</td>\n",
              "      <td>0.0</td>\n",
              "      <td>0.0</td>\n",
              "      <td>0.0</td>\n",
              "      <td>0.0</td>\n",
              "      <td>0.0</td>\n",
              "      <td>0.0</td>\n",
              "      <td>0.0</td>\n",
              "      <td>0.0</td>\n",
              "      <td>0.0</td>\n",
              "    </tr>\n",
              "    <tr>\n",
              "      <th>9903</th>\n",
              "      <td>5ace43c6e1b024040e6845f0</td>\n",
              "      <td>8.5</td>\n",
              "      <td>APROVADO</td>\n",
              "      <td>0.0</td>\n",
              "      <td>0.0</td>\n",
              "      <td>0.0</td>\n",
              "      <td>0.0</td>\n",
              "      <td>0.0</td>\n",
              "      <td>0.0</td>\n",
              "      <td>0.0</td>\n",
              "      <td>14.0</td>\n",
              "      <td>71.0</td>\n",
              "      <td>0.0</td>\n",
              "      <td>0.0</td>\n",
              "      <td>0.0</td>\n",
              "      <td>0.0</td>\n",
              "      <td>0.0</td>\n",
              "      <td>0.0</td>\n",
              "      <td>0.0</td>\n",
              "      <td>0.0</td>\n",
              "      <td>0.0</td>\n",
              "    </tr>\n",
              "    <tr>\n",
              "      <th>9904</th>\n",
              "      <td>5ace43c6e1b024040e6845f0</td>\n",
              "      <td>8.5</td>\n",
              "      <td>APROVADO</td>\n",
              "      <td>0.0</td>\n",
              "      <td>0.0</td>\n",
              "      <td>0.0</td>\n",
              "      <td>0.0</td>\n",
              "      <td>0.0</td>\n",
              "      <td>0.0</td>\n",
              "      <td>0.0</td>\n",
              "      <td>14.0</td>\n",
              "      <td>71.0</td>\n",
              "      <td>0.0</td>\n",
              "      <td>0.0</td>\n",
              "      <td>0.0</td>\n",
              "      <td>0.0</td>\n",
              "      <td>0.0</td>\n",
              "      <td>0.0</td>\n",
              "      <td>0.0</td>\n",
              "      <td>0.0</td>\n",
              "      <td>0.0</td>\n",
              "    </tr>\n",
              "    <tr>\n",
              "      <th>9905</th>\n",
              "      <td>5ace43c6e1b024040e6845f0</td>\n",
              "      <td>8.5</td>\n",
              "      <td>APROVADO</td>\n",
              "      <td>0.0</td>\n",
              "      <td>0.0</td>\n",
              "      <td>0.0</td>\n",
              "      <td>0.0</td>\n",
              "      <td>0.0</td>\n",
              "      <td>0.0</td>\n",
              "      <td>0.0</td>\n",
              "      <td>14.0</td>\n",
              "      <td>71.0</td>\n",
              "      <td>0.0</td>\n",
              "      <td>0.0</td>\n",
              "      <td>0.0</td>\n",
              "      <td>0.0</td>\n",
              "      <td>0.0</td>\n",
              "      <td>0.0</td>\n",
              "      <td>0.0</td>\n",
              "      <td>0.0</td>\n",
              "      <td>0.0</td>\n",
              "    </tr>\n",
              "    <tr>\n",
              "      <th>9907</th>\n",
              "      <td>5ace43c6e1b024040e6845f0</td>\n",
              "      <td>8.5</td>\n",
              "      <td>APROVADO</td>\n",
              "      <td>0.0</td>\n",
              "      <td>0.0</td>\n",
              "      <td>0.0</td>\n",
              "      <td>0.0</td>\n",
              "      <td>0.0</td>\n",
              "      <td>0.0</td>\n",
              "      <td>0.0</td>\n",
              "      <td>14.0</td>\n",
              "      <td>71.0</td>\n",
              "      <td>0.0</td>\n",
              "      <td>0.0</td>\n",
              "      <td>0.0</td>\n",
              "      <td>0.0</td>\n",
              "      <td>0.0</td>\n",
              "      <td>0.0</td>\n",
              "      <td>0.0</td>\n",
              "      <td>0.0</td>\n",
              "      <td>0.0</td>\n",
              "    </tr>\n",
              "    <tr>\n",
              "      <th>9908</th>\n",
              "      <td>5ace43c6e1b024040e6845f0</td>\n",
              "      <td>8.5</td>\n",
              "      <td>APROVADO</td>\n",
              "      <td>0.0</td>\n",
              "      <td>0.0</td>\n",
              "      <td>0.0</td>\n",
              "      <td>0.0</td>\n",
              "      <td>0.0</td>\n",
              "      <td>0.0</td>\n",
              "      <td>0.0</td>\n",
              "      <td>14.0</td>\n",
              "      <td>71.0</td>\n",
              "      <td>0.0</td>\n",
              "      <td>0.0</td>\n",
              "      <td>0.0</td>\n",
              "      <td>0.0</td>\n",
              "      <td>0.0</td>\n",
              "      <td>0.0</td>\n",
              "      <td>0.0</td>\n",
              "      <td>0.0</td>\n",
              "      <td>0.0</td>\n",
              "    </tr>\n",
              "    <tr>\n",
              "      <th>9910</th>\n",
              "      <td>5ace43c6e1b024040e6845f0</td>\n",
              "      <td>8.5</td>\n",
              "      <td>APROVADO</td>\n",
              "      <td>0.0</td>\n",
              "      <td>0.0</td>\n",
              "      <td>0.0</td>\n",
              "      <td>0.0</td>\n",
              "      <td>0.0</td>\n",
              "      <td>0.0</td>\n",
              "      <td>0.0</td>\n",
              "      <td>14.0</td>\n",
              "      <td>71.0</td>\n",
              "      <td>0.0</td>\n",
              "      <td>0.0</td>\n",
              "      <td>0.0</td>\n",
              "      <td>0.0</td>\n",
              "      <td>0.0</td>\n",
              "      <td>0.0</td>\n",
              "      <td>0.0</td>\n",
              "      <td>0.0</td>\n",
              "      <td>0.0</td>\n",
              "    </tr>\n",
              "  </tbody>\n",
              "</table>\n",
              "</div>"
            ],
            "text/plain": [
              "                       idAluno  ...  submissões diferentes e iguais a 100% semana 18\n",
              "9891  5ace43c6e1b024040e6845f0  ...                                              0.0\n",
              "9892  5ace43c6e1b024040e6845f0  ...                                              0.0\n",
              "9894  5ace43c6e1b024040e6845f0  ...                                              0.0\n",
              "9896  5ace43c6e1b024040e6845f0  ...                                              0.0\n",
              "9897  5ace43c6e1b024040e6845f0  ...                                              0.0\n",
              "9898  5ace43c6e1b024040e6845f0  ...                                              0.0\n",
              "9899  5ace43c6e1b024040e6845f0  ...                                              0.0\n",
              "9903  5ace43c6e1b024040e6845f0  ...                                              0.0\n",
              "9904  5ace43c6e1b024040e6845f0  ...                                              0.0\n",
              "9905  5ace43c6e1b024040e6845f0  ...                                              0.0\n",
              "9907  5ace43c6e1b024040e6845f0  ...                                              0.0\n",
              "9908  5ace43c6e1b024040e6845f0  ...                                              0.0\n",
              "9910  5ace43c6e1b024040e6845f0  ...                                              0.0\n",
              "\n",
              "[13 rows x 21 columns]"
            ]
          },
          "metadata": {
            "tags": []
          },
          "execution_count": 39
        }
      ]
    },
    {
      "cell_type": "code",
      "metadata": {
        "id": "EgFXtOBFGNf-",
        "colab_type": "code",
        "outputId": "2e37bec4-efb0-4b28-b07a-b96d37a3ba25",
        "colab": {
          "base_uri": "https://localhost:8080/",
          "height": 407
        }
      },
      "source": [
        "a=tab.iloc[:,:4]\n",
        "a"
      ],
      "execution_count": 0,
      "outputs": [
        {
          "output_type": "execute_result",
          "data": {
            "text/html": [
              "<div>\n",
              "<style scoped>\n",
              "    .dataframe tbody tr th:only-of-type {\n",
              "        vertical-align: middle;\n",
              "    }\n",
              "\n",
              "    .dataframe tbody tr th {\n",
              "        vertical-align: top;\n",
              "    }\n",
              "\n",
              "    .dataframe thead th {\n",
              "        text-align: right;\n",
              "    }\n",
              "</style>\n",
              "<table border=\"1\" class=\"dataframe\">\n",
              "  <thead>\n",
              "    <tr style=\"text-align: right;\">\n",
              "      <th></th>\n",
              "      <th>idAluno</th>\n",
              "      <th>nota</th>\n",
              "      <th>situacao</th>\n",
              "      <th>submissões diferentes e iguais a 100% semana 1</th>\n",
              "    </tr>\n",
              "  </thead>\n",
              "  <tbody>\n",
              "    <tr>\n",
              "      <th>0</th>\n",
              "      <td>5991cb910be9d42f2f68b906</td>\n",
              "      <td>7.9</td>\n",
              "      <td>APROVADO</td>\n",
              "      <td>0.0</td>\n",
              "    </tr>\n",
              "    <tr>\n",
              "      <th>1</th>\n",
              "      <td>5991cb910be9d42f2f68b906</td>\n",
              "      <td>7.9</td>\n",
              "      <td>APROVADO</td>\n",
              "      <td>0.0</td>\n",
              "    </tr>\n",
              "    <tr>\n",
              "      <th>2</th>\n",
              "      <td>5991cb910be9d42f2f68b906</td>\n",
              "      <td>7.9</td>\n",
              "      <td>APROVADO</td>\n",
              "      <td>0.0</td>\n",
              "    </tr>\n",
              "    <tr>\n",
              "      <th>3</th>\n",
              "      <td>5991cb910be9d42f2f68b906</td>\n",
              "      <td>7.9</td>\n",
              "      <td>APROVADO</td>\n",
              "      <td>0.0</td>\n",
              "    </tr>\n",
              "    <tr>\n",
              "      <th>4</th>\n",
              "      <td>5991cb910be9d42f2f68b906</td>\n",
              "      <td>7.9</td>\n",
              "      <td>APROVADO</td>\n",
              "      <td>0.0</td>\n",
              "    </tr>\n",
              "    <tr>\n",
              "      <th>...</th>\n",
              "      <td>...</td>\n",
              "      <td>...</td>\n",
              "      <td>...</td>\n",
              "      <td>...</td>\n",
              "    </tr>\n",
              "    <tr>\n",
              "      <th>22507</th>\n",
              "      <td>5d4ec939c1853254c20afd44</td>\n",
              "      <td>0.0</td>\n",
              "      <td>REPROVADO POR MÉDIA E POR FALTAS</td>\n",
              "      <td>0.0</td>\n",
              "    </tr>\n",
              "    <tr>\n",
              "      <th>22508</th>\n",
              "      <td>5d4ec939c1853254c20afd44</td>\n",
              "      <td>0.0</td>\n",
              "      <td>REPROVADO POR MÉDIA E POR FALTAS</td>\n",
              "      <td>0.0</td>\n",
              "    </tr>\n",
              "    <tr>\n",
              "      <th>22509</th>\n",
              "      <td>5d4ec939c1853254c20afd44</td>\n",
              "      <td>0.0</td>\n",
              "      <td>REPROVADO POR MÉDIA E POR FALTAS</td>\n",
              "      <td>0.0</td>\n",
              "    </tr>\n",
              "    <tr>\n",
              "      <th>22510</th>\n",
              "      <td>5d4ec939c1853254c20afd44</td>\n",
              "      <td>0.0</td>\n",
              "      <td>REPROVADO POR MÉDIA E POR FALTAS</td>\n",
              "      <td>0.0</td>\n",
              "    </tr>\n",
              "    <tr>\n",
              "      <th>22511</th>\n",
              "      <td>5d4ec939c1853254c20afd44</td>\n",
              "      <td>0.0</td>\n",
              "      <td>REPROVADO POR MÉDIA E POR FALTAS</td>\n",
              "      <td>0.0</td>\n",
              "    </tr>\n",
              "  </tbody>\n",
              "</table>\n",
              "<p>18921 rows × 4 columns</p>\n",
              "</div>"
            ],
            "text/plain": [
              "                        idAluno  ...  submissões diferentes e iguais a 100% semana 1\n",
              "0      5991cb910be9d42f2f68b906  ...                                             0.0\n",
              "1      5991cb910be9d42f2f68b906  ...                                             0.0\n",
              "2      5991cb910be9d42f2f68b906  ...                                             0.0\n",
              "3      5991cb910be9d42f2f68b906  ...                                             0.0\n",
              "4      5991cb910be9d42f2f68b906  ...                                             0.0\n",
              "...                         ...  ...                                             ...\n",
              "22507  5d4ec939c1853254c20afd44  ...                                             0.0\n",
              "22508  5d4ec939c1853254c20afd44  ...                                             0.0\n",
              "22509  5d4ec939c1853254c20afd44  ...                                             0.0\n",
              "22510  5d4ec939c1853254c20afd44  ...                                             0.0\n",
              "22511  5d4ec939c1853254c20afd44  ...                                             0.0\n",
              "\n",
              "[18921 rows x 4 columns]"
            ]
          },
          "metadata": {
            "tags": []
          },
          "execution_count": 25
        }
      ]
    },
    {
      "cell_type": "code",
      "metadata": {
        "id": "4caalGrjGdk6",
        "colab_type": "code",
        "outputId": "f58d4db8-42c9-4494-ddef-ef83547f39a0",
        "colab": {
          "base_uri": "https://localhost:8080/",
          "height": 48
        }
      },
      "source": [
        "a.loc[a[\"submissões diferentes e iguais a 100% semana 1\"] > 0,:]\n"
      ],
      "execution_count": 0,
      "outputs": [
        {
          "output_type": "execute_result",
          "data": {
            "text/html": [
              "<div>\n",
              "<style scoped>\n",
              "    .dataframe tbody tr th:only-of-type {\n",
              "        vertical-align: middle;\n",
              "    }\n",
              "\n",
              "    .dataframe tbody tr th {\n",
              "        vertical-align: top;\n",
              "    }\n",
              "\n",
              "    .dataframe thead th {\n",
              "        text-align: right;\n",
              "    }\n",
              "</style>\n",
              "<table border=\"1\" class=\"dataframe\">\n",
              "  <thead>\n",
              "    <tr style=\"text-align: right;\">\n",
              "      <th></th>\n",
              "      <th>idAluno</th>\n",
              "      <th>nota</th>\n",
              "      <th>situacao</th>\n",
              "      <th>submissões diferentes e iguais a 100% semana 1</th>\n",
              "    </tr>\n",
              "  </thead>\n",
              "  <tbody>\n",
              "  </tbody>\n",
              "</table>\n",
              "</div>"
            ],
            "text/plain": [
              "Empty DataFrame\n",
              "Columns: [idAluno, nota, situacao, submissões diferentes e iguais a 100% semana 1]\n",
              "Index: []"
            ]
          },
          "metadata": {
            "tags": []
          },
          "execution_count": 27
        }
      ]
    },
    {
      "cell_type": "code",
      "metadata": {
        "id": "kBKJ2qswEUco",
        "colab_type": "code",
        "outputId": "89fdb83d-16f9-45a0-a231-e314a5c72fb6",
        "colab": {
          "base_uri": "https://localhost:8080/",
          "height": 767
        }
      },
      "source": [
        "tab.loc[tab[\"idAluno\"]==\"5991cd870be9d42f2f68b90c\",:]"
      ],
      "execution_count": 0,
      "outputs": [
        {
          "output_type": "execute_result",
          "data": {
            "text/html": [
              "<div>\n",
              "<style scoped>\n",
              "    .dataframe tbody tr th:only-of-type {\n",
              "        vertical-align: middle;\n",
              "    }\n",
              "\n",
              "    .dataframe tbody tr th {\n",
              "        vertical-align: top;\n",
              "    }\n",
              "\n",
              "    .dataframe thead th {\n",
              "        text-align: right;\n",
              "    }\n",
              "</style>\n",
              "<table border=\"1\" class=\"dataframe\">\n",
              "  <thead>\n",
              "    <tr style=\"text-align: right;\">\n",
              "      <th></th>\n",
              "      <th>idAluno</th>\n",
              "      <th>nota</th>\n",
              "      <th>situacao</th>\n",
              "      <th>submissões diferentes e iguais a 100% semana 1</th>\n",
              "      <th>submissões diferentes e iguais a 100% semana 2</th>\n",
              "      <th>submissões diferentes e iguais a 100% semana 3</th>\n",
              "      <th>submissões diferentes e iguais a 100% semana 4</th>\n",
              "      <th>submissões diferentes e iguais a 100% semana 5</th>\n",
              "      <th>submissões diferentes e iguais a 100% semana 6</th>\n",
              "      <th>submissões diferentes e iguais a 100% semana 7</th>\n",
              "      <th>submissões diferentes e iguais a 100% semana 8</th>\n",
              "      <th>submissões diferentes e iguais a 100% semana 9</th>\n",
              "      <th>submissões diferentes e iguais a 100% semana 10</th>\n",
              "      <th>submissões diferentes e iguais a 100% semana 11</th>\n",
              "      <th>submissões diferentes e iguais a 100% semana 12</th>\n",
              "      <th>submissões diferentes e iguais a 100% semana 13</th>\n",
              "      <th>submissões diferentes e iguais a 100% semana 14</th>\n",
              "      <th>submissões diferentes e iguais a 100% semana 15</th>\n",
              "      <th>submissões diferentes e iguais a 100% semana 16</th>\n",
              "      <th>submissões diferentes e iguais a 100% semana 17</th>\n",
              "      <th>submissões diferentes e iguais a 100% semana 18</th>\n",
              "    </tr>\n",
              "  </thead>\n",
              "  <tbody>\n",
              "    <tr>\n",
              "      <th>462</th>\n",
              "      <td>5991cd870be9d42f2f68b90c</td>\n",
              "      <td>10.0</td>\n",
              "      <td>APROVADO</td>\n",
              "      <td>0.0</td>\n",
              "      <td>0.0</td>\n",
              "      <td>0.0</td>\n",
              "      <td>5.0</td>\n",
              "      <td>14.0</td>\n",
              "      <td>15.0</td>\n",
              "      <td>4.0</td>\n",
              "      <td>10.0</td>\n",
              "      <td>0.0</td>\n",
              "      <td>0.0</td>\n",
              "      <td>4.0</td>\n",
              "      <td>20.0</td>\n",
              "      <td>6.0</td>\n",
              "      <td>0.0</td>\n",
              "      <td>9.0</td>\n",
              "      <td>0.0</td>\n",
              "      <td>0.0</td>\n",
              "      <td>0.0</td>\n",
              "    </tr>\n",
              "    <tr>\n",
              "      <th>463</th>\n",
              "      <td>5991cd870be9d42f2f68b90c</td>\n",
              "      <td>10.0</td>\n",
              "      <td>APROVADO</td>\n",
              "      <td>0.0</td>\n",
              "      <td>0.0</td>\n",
              "      <td>0.0</td>\n",
              "      <td>0.0</td>\n",
              "      <td>0.0</td>\n",
              "      <td>0.0</td>\n",
              "      <td>0.0</td>\n",
              "      <td>0.0</td>\n",
              "      <td>0.0</td>\n",
              "      <td>0.0</td>\n",
              "      <td>0.0</td>\n",
              "      <td>0.0</td>\n",
              "      <td>0.0</td>\n",
              "      <td>0.0</td>\n",
              "      <td>0.0</td>\n",
              "      <td>0.0</td>\n",
              "      <td>0.0</td>\n",
              "      <td>0.0</td>\n",
              "    </tr>\n",
              "    <tr>\n",
              "      <th>464</th>\n",
              "      <td>5991cd870be9d42f2f68b90c</td>\n",
              "      <td>10.0</td>\n",
              "      <td>APROVADO</td>\n",
              "      <td>0.0</td>\n",
              "      <td>0.0</td>\n",
              "      <td>0.0</td>\n",
              "      <td>5.0</td>\n",
              "      <td>14.0</td>\n",
              "      <td>15.0</td>\n",
              "      <td>4.0</td>\n",
              "      <td>10.0</td>\n",
              "      <td>0.0</td>\n",
              "      <td>0.0</td>\n",
              "      <td>0.0</td>\n",
              "      <td>0.0</td>\n",
              "      <td>0.0</td>\n",
              "      <td>0.0</td>\n",
              "      <td>0.0</td>\n",
              "      <td>0.0</td>\n",
              "      <td>0.0</td>\n",
              "      <td>0.0</td>\n",
              "    </tr>\n",
              "    <tr>\n",
              "      <th>465</th>\n",
              "      <td>5991cd870be9d42f2f68b90c</td>\n",
              "      <td>10.0</td>\n",
              "      <td>APROVADO</td>\n",
              "      <td>0.0</td>\n",
              "      <td>0.0</td>\n",
              "      <td>0.0</td>\n",
              "      <td>5.0</td>\n",
              "      <td>14.0</td>\n",
              "      <td>15.0</td>\n",
              "      <td>4.0</td>\n",
              "      <td>10.0</td>\n",
              "      <td>0.0</td>\n",
              "      <td>0.0</td>\n",
              "      <td>4.0</td>\n",
              "      <td>20.0</td>\n",
              "      <td>6.0</td>\n",
              "      <td>0.0</td>\n",
              "      <td>0.0</td>\n",
              "      <td>0.0</td>\n",
              "      <td>0.0</td>\n",
              "      <td>0.0</td>\n",
              "    </tr>\n",
              "    <tr>\n",
              "      <th>466</th>\n",
              "      <td>5991cd870be9d42f2f68b90c</td>\n",
              "      <td>10.0</td>\n",
              "      <td>APROVADO</td>\n",
              "      <td>0.0</td>\n",
              "      <td>0.0</td>\n",
              "      <td>0.0</td>\n",
              "      <td>5.0</td>\n",
              "      <td>0.0</td>\n",
              "      <td>0.0</td>\n",
              "      <td>0.0</td>\n",
              "      <td>0.0</td>\n",
              "      <td>0.0</td>\n",
              "      <td>0.0</td>\n",
              "      <td>0.0</td>\n",
              "      <td>0.0</td>\n",
              "      <td>0.0</td>\n",
              "      <td>0.0</td>\n",
              "      <td>0.0</td>\n",
              "      <td>0.0</td>\n",
              "      <td>0.0</td>\n",
              "      <td>0.0</td>\n",
              "    </tr>\n",
              "    <tr>\n",
              "      <th>467</th>\n",
              "      <td>5991cd870be9d42f2f68b90c</td>\n",
              "      <td>10.0</td>\n",
              "      <td>APROVADO</td>\n",
              "      <td>0.0</td>\n",
              "      <td>0.0</td>\n",
              "      <td>0.0</td>\n",
              "      <td>5.0</td>\n",
              "      <td>14.0</td>\n",
              "      <td>0.0</td>\n",
              "      <td>0.0</td>\n",
              "      <td>0.0</td>\n",
              "      <td>0.0</td>\n",
              "      <td>0.0</td>\n",
              "      <td>0.0</td>\n",
              "      <td>0.0</td>\n",
              "      <td>0.0</td>\n",
              "      <td>0.0</td>\n",
              "      <td>0.0</td>\n",
              "      <td>0.0</td>\n",
              "      <td>0.0</td>\n",
              "      <td>0.0</td>\n",
              "    </tr>\n",
              "    <tr>\n",
              "      <th>468</th>\n",
              "      <td>5991cd870be9d42f2f68b90c</td>\n",
              "      <td>10.0</td>\n",
              "      <td>APROVADO</td>\n",
              "      <td>0.0</td>\n",
              "      <td>0.0</td>\n",
              "      <td>0.0</td>\n",
              "      <td>5.0</td>\n",
              "      <td>14.0</td>\n",
              "      <td>15.0</td>\n",
              "      <td>4.0</td>\n",
              "      <td>10.0</td>\n",
              "      <td>0.0</td>\n",
              "      <td>0.0</td>\n",
              "      <td>4.0</td>\n",
              "      <td>20.0</td>\n",
              "      <td>0.0</td>\n",
              "      <td>0.0</td>\n",
              "      <td>0.0</td>\n",
              "      <td>0.0</td>\n",
              "      <td>0.0</td>\n",
              "      <td>0.0</td>\n",
              "    </tr>\n",
              "    <tr>\n",
              "      <th>469</th>\n",
              "      <td>5991cd870be9d42f2f68b90c</td>\n",
              "      <td>10.0</td>\n",
              "      <td>APROVADO</td>\n",
              "      <td>0.0</td>\n",
              "      <td>0.0</td>\n",
              "      <td>0.0</td>\n",
              "      <td>5.0</td>\n",
              "      <td>14.0</td>\n",
              "      <td>15.0</td>\n",
              "      <td>4.0</td>\n",
              "      <td>10.0</td>\n",
              "      <td>0.0</td>\n",
              "      <td>0.0</td>\n",
              "      <td>0.0</td>\n",
              "      <td>0.0</td>\n",
              "      <td>0.0</td>\n",
              "      <td>0.0</td>\n",
              "      <td>0.0</td>\n",
              "      <td>0.0</td>\n",
              "      <td>0.0</td>\n",
              "      <td>0.0</td>\n",
              "    </tr>\n",
              "    <tr>\n",
              "      <th>470</th>\n",
              "      <td>5991cd870be9d42f2f68b90c</td>\n",
              "      <td>10.0</td>\n",
              "      <td>APROVADO</td>\n",
              "      <td>0.0</td>\n",
              "      <td>0.0</td>\n",
              "      <td>0.0</td>\n",
              "      <td>5.0</td>\n",
              "      <td>14.0</td>\n",
              "      <td>15.0</td>\n",
              "      <td>4.0</td>\n",
              "      <td>0.0</td>\n",
              "      <td>0.0</td>\n",
              "      <td>0.0</td>\n",
              "      <td>0.0</td>\n",
              "      <td>0.0</td>\n",
              "      <td>0.0</td>\n",
              "      <td>0.0</td>\n",
              "      <td>0.0</td>\n",
              "      <td>0.0</td>\n",
              "      <td>0.0</td>\n",
              "      <td>0.0</td>\n",
              "    </tr>\n",
              "    <tr>\n",
              "      <th>471</th>\n",
              "      <td>5991cd870be9d42f2f68b90c</td>\n",
              "      <td>10.0</td>\n",
              "      <td>APROVADO</td>\n",
              "      <td>0.0</td>\n",
              "      <td>0.0</td>\n",
              "      <td>0.0</td>\n",
              "      <td>0.0</td>\n",
              "      <td>0.0</td>\n",
              "      <td>0.0</td>\n",
              "      <td>0.0</td>\n",
              "      <td>0.0</td>\n",
              "      <td>0.0</td>\n",
              "      <td>0.0</td>\n",
              "      <td>0.0</td>\n",
              "      <td>0.0</td>\n",
              "      <td>0.0</td>\n",
              "      <td>0.0</td>\n",
              "      <td>0.0</td>\n",
              "      <td>0.0</td>\n",
              "      <td>0.0</td>\n",
              "      <td>0.0</td>\n",
              "    </tr>\n",
              "    <tr>\n",
              "      <th>472</th>\n",
              "      <td>5991cd870be9d42f2f68b90c</td>\n",
              "      <td>10.0</td>\n",
              "      <td>APROVADO</td>\n",
              "      <td>0.0</td>\n",
              "      <td>0.0</td>\n",
              "      <td>0.0</td>\n",
              "      <td>5.0</td>\n",
              "      <td>14.0</td>\n",
              "      <td>15.0</td>\n",
              "      <td>4.0</td>\n",
              "      <td>10.0</td>\n",
              "      <td>0.0</td>\n",
              "      <td>0.0</td>\n",
              "      <td>4.0</td>\n",
              "      <td>0.0</td>\n",
              "      <td>0.0</td>\n",
              "      <td>0.0</td>\n",
              "      <td>0.0</td>\n",
              "      <td>0.0</td>\n",
              "      <td>0.0</td>\n",
              "      <td>0.0</td>\n",
              "    </tr>\n",
              "    <tr>\n",
              "      <th>473</th>\n",
              "      <td>5991cd870be9d42f2f68b90c</td>\n",
              "      <td>10.0</td>\n",
              "      <td>APROVADO</td>\n",
              "      <td>0.0</td>\n",
              "      <td>0.0</td>\n",
              "      <td>0.0</td>\n",
              "      <td>5.0</td>\n",
              "      <td>14.0</td>\n",
              "      <td>15.0</td>\n",
              "      <td>4.0</td>\n",
              "      <td>10.0</td>\n",
              "      <td>0.0</td>\n",
              "      <td>0.0</td>\n",
              "      <td>4.0</td>\n",
              "      <td>20.0</td>\n",
              "      <td>6.0</td>\n",
              "      <td>0.0</td>\n",
              "      <td>0.0</td>\n",
              "      <td>0.0</td>\n",
              "      <td>0.0</td>\n",
              "      <td>0.0</td>\n",
              "    </tr>\n",
              "    <tr>\n",
              "      <th>474</th>\n",
              "      <td>5991cd870be9d42f2f68b90c</td>\n",
              "      <td>10.0</td>\n",
              "      <td>APROVADO</td>\n",
              "      <td>0.0</td>\n",
              "      <td>0.0</td>\n",
              "      <td>0.0</td>\n",
              "      <td>5.0</td>\n",
              "      <td>14.0</td>\n",
              "      <td>15.0</td>\n",
              "      <td>0.0</td>\n",
              "      <td>0.0</td>\n",
              "      <td>0.0</td>\n",
              "      <td>0.0</td>\n",
              "      <td>0.0</td>\n",
              "      <td>0.0</td>\n",
              "      <td>0.0</td>\n",
              "      <td>0.0</td>\n",
              "      <td>0.0</td>\n",
              "      <td>0.0</td>\n",
              "      <td>0.0</td>\n",
              "      <td>0.0</td>\n",
              "    </tr>\n",
              "    <tr>\n",
              "      <th>475</th>\n",
              "      <td>5991cd870be9d42f2f68b90c</td>\n",
              "      <td>10.0</td>\n",
              "      <td>APROVADO</td>\n",
              "      <td>0.0</td>\n",
              "      <td>0.0</td>\n",
              "      <td>0.0</td>\n",
              "      <td>5.0</td>\n",
              "      <td>14.0</td>\n",
              "      <td>15.0</td>\n",
              "      <td>4.0</td>\n",
              "      <td>10.0</td>\n",
              "      <td>0.0</td>\n",
              "      <td>0.0</td>\n",
              "      <td>4.0</td>\n",
              "      <td>20.0</td>\n",
              "      <td>6.0</td>\n",
              "      <td>0.0</td>\n",
              "      <td>9.0</td>\n",
              "      <td>0.0</td>\n",
              "      <td>0.0</td>\n",
              "      <td>0.0</td>\n",
              "    </tr>\n",
              "    <tr>\n",
              "      <th>476</th>\n",
              "      <td>5991cd870be9d42f2f68b90c</td>\n",
              "      <td>10.0</td>\n",
              "      <td>APROVADO</td>\n",
              "      <td>0.0</td>\n",
              "      <td>0.0</td>\n",
              "      <td>0.0</td>\n",
              "      <td>5.0</td>\n",
              "      <td>14.0</td>\n",
              "      <td>15.0</td>\n",
              "      <td>4.0</td>\n",
              "      <td>10.0</td>\n",
              "      <td>0.0</td>\n",
              "      <td>0.0</td>\n",
              "      <td>4.0</td>\n",
              "      <td>20.0</td>\n",
              "      <td>6.0</td>\n",
              "      <td>0.0</td>\n",
              "      <td>9.0</td>\n",
              "      <td>0.0</td>\n",
              "      <td>0.0</td>\n",
              "      <td>0.0</td>\n",
              "    </tr>\n",
              "    <tr>\n",
              "      <th>477</th>\n",
              "      <td>5991cd870be9d42f2f68b90c</td>\n",
              "      <td>10.0</td>\n",
              "      <td>APROVADO</td>\n",
              "      <td>0.0</td>\n",
              "      <td>0.0</td>\n",
              "      <td>0.0</td>\n",
              "      <td>5.0</td>\n",
              "      <td>14.0</td>\n",
              "      <td>15.0</td>\n",
              "      <td>4.0</td>\n",
              "      <td>10.0</td>\n",
              "      <td>0.0</td>\n",
              "      <td>0.0</td>\n",
              "      <td>4.0</td>\n",
              "      <td>20.0</td>\n",
              "      <td>6.0</td>\n",
              "      <td>0.0</td>\n",
              "      <td>9.0</td>\n",
              "      <td>0.0</td>\n",
              "      <td>0.0</td>\n",
              "      <td>0.0</td>\n",
              "    </tr>\n",
              "    <tr>\n",
              "      <th>478</th>\n",
              "      <td>5991cd870be9d42f2f68b90c</td>\n",
              "      <td>10.0</td>\n",
              "      <td>APROVADO</td>\n",
              "      <td>0.0</td>\n",
              "      <td>0.0</td>\n",
              "      <td>0.0</td>\n",
              "      <td>5.0</td>\n",
              "      <td>14.0</td>\n",
              "      <td>15.0</td>\n",
              "      <td>4.0</td>\n",
              "      <td>10.0</td>\n",
              "      <td>0.0</td>\n",
              "      <td>0.0</td>\n",
              "      <td>4.0</td>\n",
              "      <td>20.0</td>\n",
              "      <td>6.0</td>\n",
              "      <td>0.0</td>\n",
              "      <td>9.0</td>\n",
              "      <td>0.0</td>\n",
              "      <td>0.0</td>\n",
              "      <td>0.0</td>\n",
              "    </tr>\n",
              "    <tr>\n",
              "      <th>479</th>\n",
              "      <td>5991cd870be9d42f2f68b90c</td>\n",
              "      <td>10.0</td>\n",
              "      <td>APROVADO</td>\n",
              "      <td>0.0</td>\n",
              "      <td>0.0</td>\n",
              "      <td>0.0</td>\n",
              "      <td>0.0</td>\n",
              "      <td>0.0</td>\n",
              "      <td>0.0</td>\n",
              "      <td>0.0</td>\n",
              "      <td>0.0</td>\n",
              "      <td>0.0</td>\n",
              "      <td>0.0</td>\n",
              "      <td>0.0</td>\n",
              "      <td>0.0</td>\n",
              "      <td>0.0</td>\n",
              "      <td>0.0</td>\n",
              "      <td>0.0</td>\n",
              "      <td>0.0</td>\n",
              "      <td>0.0</td>\n",
              "      <td>0.0</td>\n",
              "    </tr>\n",
              "    <tr>\n",
              "      <th>480</th>\n",
              "      <td>5991cd870be9d42f2f68b90c</td>\n",
              "      <td>10.0</td>\n",
              "      <td>APROVADO</td>\n",
              "      <td>0.0</td>\n",
              "      <td>0.0</td>\n",
              "      <td>0.0</td>\n",
              "      <td>5.0</td>\n",
              "      <td>14.0</td>\n",
              "      <td>15.0</td>\n",
              "      <td>4.0</td>\n",
              "      <td>10.0</td>\n",
              "      <td>0.0</td>\n",
              "      <td>0.0</td>\n",
              "      <td>4.0</td>\n",
              "      <td>20.0</td>\n",
              "      <td>6.0</td>\n",
              "      <td>0.0</td>\n",
              "      <td>9.0</td>\n",
              "      <td>0.0</td>\n",
              "      <td>0.0</td>\n",
              "      <td>0.0</td>\n",
              "    </tr>\n",
              "    <tr>\n",
              "      <th>481</th>\n",
              "      <td>5991cd870be9d42f2f68b90c</td>\n",
              "      <td>10.0</td>\n",
              "      <td>APROVADO</td>\n",
              "      <td>0.0</td>\n",
              "      <td>0.0</td>\n",
              "      <td>0.0</td>\n",
              "      <td>5.0</td>\n",
              "      <td>14.0</td>\n",
              "      <td>15.0</td>\n",
              "      <td>4.0</td>\n",
              "      <td>10.0</td>\n",
              "      <td>0.0</td>\n",
              "      <td>0.0</td>\n",
              "      <td>0.0</td>\n",
              "      <td>0.0</td>\n",
              "      <td>0.0</td>\n",
              "      <td>0.0</td>\n",
              "      <td>0.0</td>\n",
              "      <td>0.0</td>\n",
              "      <td>0.0</td>\n",
              "      <td>0.0</td>\n",
              "    </tr>\n",
              "    <tr>\n",
              "      <th>482</th>\n",
              "      <td>5991cd870be9d42f2f68b90c</td>\n",
              "      <td>10.0</td>\n",
              "      <td>APROVADO</td>\n",
              "      <td>0.0</td>\n",
              "      <td>0.0</td>\n",
              "      <td>0.0</td>\n",
              "      <td>5.0</td>\n",
              "      <td>14.0</td>\n",
              "      <td>15.0</td>\n",
              "      <td>4.0</td>\n",
              "      <td>10.0</td>\n",
              "      <td>0.0</td>\n",
              "      <td>0.0</td>\n",
              "      <td>4.0</td>\n",
              "      <td>20.0</td>\n",
              "      <td>6.0</td>\n",
              "      <td>0.0</td>\n",
              "      <td>9.0</td>\n",
              "      <td>0.0</td>\n",
              "      <td>0.0</td>\n",
              "      <td>0.0</td>\n",
              "    </tr>\n",
              "  </tbody>\n",
              "</table>\n",
              "</div>"
            ],
            "text/plain": [
              "                      idAluno  ...  submissões diferentes e iguais a 100% semana 18\n",
              "462  5991cd870be9d42f2f68b90c  ...                                              0.0\n",
              "463  5991cd870be9d42f2f68b90c  ...                                              0.0\n",
              "464  5991cd870be9d42f2f68b90c  ...                                              0.0\n",
              "465  5991cd870be9d42f2f68b90c  ...                                              0.0\n",
              "466  5991cd870be9d42f2f68b90c  ...                                              0.0\n",
              "467  5991cd870be9d42f2f68b90c  ...                                              0.0\n",
              "468  5991cd870be9d42f2f68b90c  ...                                              0.0\n",
              "469  5991cd870be9d42f2f68b90c  ...                                              0.0\n",
              "470  5991cd870be9d42f2f68b90c  ...                                              0.0\n",
              "471  5991cd870be9d42f2f68b90c  ...                                              0.0\n",
              "472  5991cd870be9d42f2f68b90c  ...                                              0.0\n",
              "473  5991cd870be9d42f2f68b90c  ...                                              0.0\n",
              "474  5991cd870be9d42f2f68b90c  ...                                              0.0\n",
              "475  5991cd870be9d42f2f68b90c  ...                                              0.0\n",
              "476  5991cd870be9d42f2f68b90c  ...                                              0.0\n",
              "477  5991cd870be9d42f2f68b90c  ...                                              0.0\n",
              "478  5991cd870be9d42f2f68b90c  ...                                              0.0\n",
              "479  5991cd870be9d42f2f68b90c  ...                                              0.0\n",
              "480  5991cd870be9d42f2f68b90c  ...                                              0.0\n",
              "481  5991cd870be9d42f2f68b90c  ...                                              0.0\n",
              "482  5991cd870be9d42f2f68b90c  ...                                              0.0\n",
              "\n",
              "[21 rows x 21 columns]"
            ]
          },
          "metadata": {
            "tags": []
          },
          "execution_count": 20
        }
      ]
    }
  ]
}