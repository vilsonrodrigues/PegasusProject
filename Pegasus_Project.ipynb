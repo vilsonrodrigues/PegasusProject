{
  "nbformat": 4,
  "nbformat_minor": 0,
  "metadata": {
    "colab": {
      "name": "Pegasus Project.ipynb",
      "provenance": [],
      "collapsed_sections": [],
      "include_colab_link": true
    },
    "kernelspec": {
      "name": "python3",
      "display_name": "Python 3"
    }
  },
  "cells": [
    {
      "cell_type": "markdown",
      "metadata": {
        "id": "view-in-github",
        "colab_type": "text"
      },
      "source": [
        "<a href=\"https://colab.research.google.com/github/vilsonrodrigues/PegasusProject/blob/master/Pegasus_Project.ipynb\" target=\"_parent\"><img src=\"https://colab.research.google.com/assets/colab-badge.svg\" alt=\"Open In Colab\"/></a>"
      ]
    },
    {
      "cell_type": "markdown",
      "metadata": {
        "id": "O3ZluJzvG0zY",
        "colab_type": "text"
      },
      "source": [
        "Importando bibliotecas"
      ]
    },
    {
      "cell_type": "code",
      "metadata": {
        "id": "4-0eMFP8Gsr1",
        "colab_type": "code",
        "colab": {}
      },
      "source": [
        "import pandas as pd\n",
        "import numpy as np"
      ],
      "execution_count": 0,
      "outputs": []
    },
    {
      "cell_type": "code",
      "metadata": {
        "id": "sY6F7EaqG6si",
        "colab_type": "code",
        "colab": {
          "base_uri": "https://localhost:8080/",
          "height": 168
        },
        "outputId": "e8b084cf-bc37-4323-ac8f-a39d6fc11496"
      },
      "source": [
        "tab = pd.read_csv(\"https://raw.githubusercontent.com/vilsonrodrigues/PegasusProject/master/Data%20Bases/submissoesDiferetesEIguaisA100.csv\")\n",
        "tab = tab.drop(columns={\"Unnamed: 0\"})\n",
        "tab.head(1)"
      ],
      "execution_count": 5,
      "outputs": [
        {
          "output_type": "execute_result",
          "data": {
            "text/html": [
              "<div>\n",
              "<style scoped>\n",
              "    .dataframe tbody tr th:only-of-type {\n",
              "        vertical-align: middle;\n",
              "    }\n",
              "\n",
              "    .dataframe tbody tr th {\n",
              "        vertical-align: top;\n",
              "    }\n",
              "\n",
              "    .dataframe thead th {\n",
              "        text-align: right;\n",
              "    }\n",
              "</style>\n",
              "<table border=\"1\" class=\"dataframe\">\n",
              "  <thead>\n",
              "    <tr style=\"text-align: right;\">\n",
              "      <th></th>\n",
              "      <th>idAluno</th>\n",
              "      <th>nota</th>\n",
              "      <th>situacao</th>\n",
              "      <th>submissões diferentes e iguais a 100% semana 1</th>\n",
              "      <th>submissões diferentes e iguais a 100% semana 2</th>\n",
              "      <th>submissões diferentes e iguais a 100% semana 3</th>\n",
              "      <th>submissões diferentes e iguais a 100% semana 4</th>\n",
              "      <th>submissões diferentes e iguais a 100% semana 5</th>\n",
              "      <th>submissões diferentes e iguais a 100% semana 6</th>\n",
              "      <th>submissões diferentes e iguais a 100% semana 7</th>\n",
              "      <th>submissões diferentes e iguais a 100% semana 8</th>\n",
              "      <th>submissões diferentes e iguais a 100% semana 9</th>\n",
              "      <th>submissões diferentes e iguais a 100% semana 10</th>\n",
              "      <th>submissões diferentes e iguais a 100% semana 11</th>\n",
              "      <th>submissões diferentes e iguais a 100% semana 12</th>\n",
              "      <th>submissões diferentes e iguais a 100% semana 13</th>\n",
              "      <th>submissões diferentes e iguais a 100% semana 14</th>\n",
              "      <th>submissões diferentes e iguais a 100% semana 15</th>\n",
              "      <th>submissões diferentes e iguais a 100% semana 16</th>\n",
              "      <th>submissões diferentes e iguais a 100% semana 17</th>\n",
              "      <th>submissões diferentes e iguais a 100% semana 18</th>\n",
              "    </tr>\n",
              "  </thead>\n",
              "  <tbody>\n",
              "    <tr>\n",
              "      <th>0</th>\n",
              "      <td>5991cb910be9d42f2f68b906</td>\n",
              "      <td>7.9</td>\n",
              "      <td>APROVADO</td>\n",
              "      <td>0.0</td>\n",
              "      <td>0.0</td>\n",
              "      <td>0.0</td>\n",
              "      <td>0.0</td>\n",
              "      <td>0.0</td>\n",
              "      <td>0.0</td>\n",
              "      <td>0.0</td>\n",
              "      <td>0.0</td>\n",
              "      <td>0.0</td>\n",
              "      <td>0.0</td>\n",
              "      <td>0.0</td>\n",
              "      <td>0.0</td>\n",
              "      <td>0.0</td>\n",
              "      <td>0.0</td>\n",
              "      <td>0.0</td>\n",
              "      <td>0.0</td>\n",
              "      <td>0.0</td>\n",
              "      <td>0.0</td>\n",
              "    </tr>\n",
              "  </tbody>\n",
              "</table>\n",
              "</div>"
            ],
            "text/plain": [
              "                    idAluno  ... submissões diferentes e iguais a 100% semana 18\n",
              "0  5991cb910be9d42f2f68b906  ...                                             0.0\n",
              "\n",
              "[1 rows x 21 columns]"
            ]
          },
          "metadata": {
            "tags": []
          },
          "execution_count": 5
        }
      ]
    },
    {
      "cell_type": "markdown",
      "metadata": {
        "id": "fIMMlv80C7RD",
        "colab_type": "text"
      },
      "source": [
        "Função pra gerar o campo dos vencedores"
      ]
    },
    {
      "cell_type": "code",
      "metadata": {
        "id": "4MYvAQ3IC6Uh",
        "colab_type": "code",
        "colab": {}
      },
      "source": [
        "def criaColunaVencedores(table):\n",
        "  for i in range(1,19):\n",
        "    table[\"Vencedor semana \"+str(i)] = 0\n",
        "  return table"
      ],
      "execution_count": 0,
      "outputs": []
    },
    {
      "cell_type": "code",
      "metadata": {
        "id": "qzTB1CN5GdsC",
        "colab_type": "code",
        "colab": {}
      },
      "source": [
        "vencedorX = pd.DataFrame()\n",
        "vencedorY = pd.DataFrame()"
      ],
      "execution_count": 0,
      "outputs": []
    },
    {
      "cell_type": "markdown",
      "metadata": {
        "id": "6g9_a9HgG0hU",
        "colab_type": "text"
      },
      "source": [
        "Chamada da função de criação de coluna dos vencedores"
      ]
    },
    {
      "cell_type": "code",
      "metadata": {
        "id": "_VgMA37ZG0K_",
        "colab_type": "code",
        "outputId": "a7e59d5a-ee81-4087-a7fa-7e03ff35050f",
        "colab": {
          "base_uri": "https://localhost:8080/",
          "height": 103
        }
      },
      "source": [
        "vencedorX = criaColunaVencedores(vencedorX)\n",
        "vencedorY = criaColunaVencedores(vencedorY)\n",
        "vencedorX.head(0)"
      ],
      "execution_count": 8,
      "outputs": [
        {
          "output_type": "execute_result",
          "data": {
            "text/html": [
              "<div>\n",
              "<style scoped>\n",
              "    .dataframe tbody tr th:only-of-type {\n",
              "        vertical-align: middle;\n",
              "    }\n",
              "\n",
              "    .dataframe tbody tr th {\n",
              "        vertical-align: top;\n",
              "    }\n",
              "\n",
              "    .dataframe thead th {\n",
              "        text-align: right;\n",
              "    }\n",
              "</style>\n",
              "<table border=\"1\" class=\"dataframe\">\n",
              "  <thead>\n",
              "    <tr style=\"text-align: right;\">\n",
              "      <th></th>\n",
              "      <th>Vencedor semana 1</th>\n",
              "      <th>Vencedor semana 2</th>\n",
              "      <th>Vencedor semana 3</th>\n",
              "      <th>Vencedor semana 4</th>\n",
              "      <th>Vencedor semana 5</th>\n",
              "      <th>Vencedor semana 6</th>\n",
              "      <th>Vencedor semana 7</th>\n",
              "      <th>Vencedor semana 8</th>\n",
              "      <th>Vencedor semana 9</th>\n",
              "      <th>Vencedor semana 10</th>\n",
              "      <th>Vencedor semana 11</th>\n",
              "      <th>Vencedor semana 12</th>\n",
              "      <th>Vencedor semana 13</th>\n",
              "      <th>Vencedor semana 14</th>\n",
              "      <th>Vencedor semana 15</th>\n",
              "      <th>Vencedor semana 16</th>\n",
              "      <th>Vencedor semana 17</th>\n",
              "      <th>Vencedor semana 18</th>\n",
              "    </tr>\n",
              "  </thead>\n",
              "  <tbody>\n",
              "  </tbody>\n",
              "</table>\n",
              "</div>"
            ],
            "text/plain": [
              "Empty DataFrame\n",
              "Columns: [Vencedor semana 1, Vencedor semana 2, Vencedor semana 3, Vencedor semana 4, Vencedor semana 5, Vencedor semana 6, Vencedor semana 7, Vencedor semana 8, Vencedor semana 9, Vencedor semana 10, Vencedor semana 11, Vencedor semana 12, Vencedor semana 13, Vencedor semana 14, Vencedor semana 15, Vencedor semana 16, Vencedor semana 17, Vencedor semana 18]\n",
              "Index: []"
            ]
          },
          "metadata": {
            "tags": []
          },
          "execution_count": 8
        }
      ]
    },
    {
      "cell_type": "markdown",
      "metadata": {
        "id": "XxAX3qdDG-CW",
        "colab_type": "text"
      },
      "source": [
        "Instalando a SOM"
      ]
    },
    {
      "cell_type": "code",
      "metadata": {
        "id": "fk7E7BLzebx3",
        "colab_type": "code",
        "colab": {}
      },
      "source": [
        "!pip install minisom"
      ],
      "execution_count": 0,
      "outputs": []
    },
    {
      "cell_type": "markdown",
      "metadata": {
        "id": "WV9vCoGNNXiT",
        "colab_type": "text"
      },
      "source": [
        "Selecionando o df com o campo nota não nulo"
      ]
    },
    {
      "cell_type": "code",
      "metadata": {
        "id": "k0sINxnFhMer",
        "colab_type": "code",
        "colab": {}
      },
      "source": [
        "tab = tab[tab[\"nota\"] != '-']"
      ],
      "execution_count": 0,
      "outputs": []
    },
    {
      "cell_type": "markdown",
      "metadata": {
        "id": "N8ld_RWSNh_j",
        "colab_type": "text"
      },
      "source": [
        "Convertendo notas para float"
      ]
    },
    {
      "cell_type": "code",
      "metadata": {
        "colab_type": "code",
        "id": "9WcDRE3UCP5k",
        "colab": {}
      },
      "source": [
        "tab[\"nota\"] = tab[\"nota\"].astype(float)"
      ],
      "execution_count": 0,
      "outputs": []
    },
    {
      "cell_type": "markdown",
      "metadata": {
        "id": "j9l1dH3NNmu2",
        "colab_type": "text"
      },
      "source": [
        "Separando o X treino"
      ]
    },
    {
      "cell_type": "code",
      "metadata": {
        "id": "It5Uq_aeqsds",
        "colab_type": "code",
        "colab": {}
      },
      "source": [
        "X_train = tab.iloc[:, 3:].values"
      ],
      "execution_count": 0,
      "outputs": []
    },
    {
      "cell_type": "markdown",
      "metadata": {
        "id": "W4HBnVvQNqqO",
        "colab_type": "text"
      },
      "source": [
        "Escolhendo o alvo, que será a nota final"
      ]
    },
    {
      "cell_type": "code",
      "metadata": {
        "id": "nILY_1JmgWxf",
        "colab_type": "code",
        "outputId": "b0db38a5-79d1-4e7d-a51f-52540f5975d5",
        "colab": {
          "base_uri": "https://localhost:8080/",
          "height": 34
        }
      },
      "source": [
        "nota = tab.iloc[:,1].values\n",
        "nota"
      ],
      "execution_count": 13,
      "outputs": [
        {
          "output_type": "execute_result",
          "data": {
            "text/plain": [
              "array([7.9, 7.9, 7.9, ..., 0. , 0. , 0. ])"
            ]
          },
          "metadata": {
            "tags": []
          },
          "execution_count": 13
        }
      ]
    },
    {
      "cell_type": "markdown",
      "metadata": {
        "id": "uHI401tpOxeR",
        "colab_type": "text"
      },
      "source": [
        "Criando o modelo da SOM"
      ]
    },
    {
      "cell_type": "code",
      "metadata": {
        "id": "BiKfQH2ze8GC",
        "colab_type": "code",
        "colab": {}
      },
      "source": [
        "tamanhoXdaRede = 14; \n",
        "tamanhoYdaRede = 14; \n",
        "quantidadeCaracteristicas = 18\n",
        "\n",
        "from minisom import MiniSom\n",
        "som = MiniSom(x = tamanhoXdaRede, y = tamanhoYdaRede, input_len = quantidadeCaracteristicas, sigma = 1.0, learning_rate = 0.4)"
      ],
      "execution_count": 0,
      "outputs": []
    },
    {
      "cell_type": "markdown",
      "metadata": {
        "id": "VfsWZqVSO6iy",
        "colab_type": "text"
      },
      "source": [
        "Treinando a rede SOM"
      ]
    },
    {
      "cell_type": "code",
      "metadata": {
        "id": "-bDsAPJZfyd-",
        "colab_type": "code",
        "colab": {}
      },
      "source": [
        "som.train_random(data = X_train, num_iteration = 100000)"
      ],
      "execution_count": 0,
      "outputs": []
    },
    {
      "cell_type": "markdown",
      "metadata": {
        "id": "g6GMLfIMPRow",
        "colab_type": "text"
      },
      "source": [
        "Obtem o vetor de pesos da rede treinada "
      ]
    },
    {
      "cell_type": "code",
      "metadata": {
        "id": "lV1ZhRxVf_77",
        "colab_type": "code",
        "colab": {}
      },
      "source": [
        "pesos = som.get_weights()"
      ],
      "execution_count": 0,
      "outputs": []
    },
    {
      "cell_type": "markdown",
      "metadata": {
        "id": "lxZ-EWbrPXul",
        "colab_type": "text"
      },
      "source": [
        "Obtendo os valores das repostas "
      ]
    },
    {
      "cell_type": "code",
      "metadata": {
        "id": "40T523vsgh9M",
        "colab_type": "code",
        "outputId": "bac7b64d-858d-486b-c949-e5e860652fdd",
        "colab": {
          "base_uri": "https://localhost:8080/",
          "height": 34
        }
      },
      "source": [
        "Y_train = nota\n",
        "Y_train[1]"
      ],
      "execution_count": 17,
      "outputs": [
        {
          "output_type": "execute_result",
          "data": {
            "text/plain": [
              "7.9"
            ]
          },
          "metadata": {
            "tags": []
          },
          "execution_count": 17
        }
      ]
    },
    {
      "cell_type": "code",
      "metadata": {
        "id": "M2rqoy7mI8AM",
        "colab_type": "code",
        "colab": {
          "base_uri": "https://localhost:8080/",
          "height": 51
        },
        "outputId": "c730ac40-788a-4223-9a70-bbc70806b92e"
      },
      "source": [
        "X_train[1,:]"
      ],
      "execution_count": 19,
      "outputs": [
        {
          "output_type": "execute_result",
          "data": {
            "text/plain": [
              "array([ 0.,  0.,  0.,  5., 13.,  5.,  0., 15.,  9.,  0.,  0.,  0.,  0.,\n",
              "        0.,  0.,  0.,  0.,  0.])"
            ]
          },
          "metadata": {
            "tags": []
          },
          "execution_count": 19
        }
      ]
    },
    {
      "cell_type": "markdown",
      "metadata": {
        "id": "e-Wo3cEFPfko",
        "colab_type": "text"
      },
      "source": [
        "Criando 3 matrizes para adicionar os vencedores "
      ]
    },
    {
      "cell_type": "code",
      "metadata": {
        "id": "AZtI2PVCgo1u",
        "colab_type": "code",
        "colab": {}
      },
      "source": [
        "# encontra o vencedor \n",
        "x = X_train[1,:]\n",
        "pos = som.winner(x)\n",
        "\n",
        "# matriz de zeros para contador de reprovados \n",
        "MContRe = np.zeros((tamanhoXdaRede,tamanhoYdaRede))\n",
        "# matriz de zeros para contador de aprovados \n",
        "MContAp = np.zeros((tamanhoXdaRede,tamanhoYdaRede))\n",
        "# matriz de zeros para o número total de alunos\n",
        "MContT = np.zeros((tamanhoXdaRede,tamanhoYdaRede))\n",
        "\n",
        "cont = 0; \n",
        "\n",
        "for x in X_train: \n",
        "  pos = som.winner(x)\n",
        "  if (Y_train[cont] < 5): #Reprovado \n",
        "    MContRe[pos] += 1\n",
        "  if (Y_train[cont] >= 5): #Aprovado \n",
        "    MContAp[pos] += 1    \n",
        "  MContT[pos] += 1\n",
        "  cont= cont+1"
      ],
      "execution_count": 0,
      "outputs": []
    },
    {
      "cell_type": "code",
      "metadata": {
        "id": "Dpytrf7QIxK0",
        "colab_type": "code",
        "colab": {}
      },
      "source": [
        "X_train_selec = table...\n",
        "\n",
        "cont = 0\n",
        "vencedorX = pd.DataFrame()\n",
        "vencedorY = pd.DataFrame()\n",
        "\n",
        "for i in X_train_selec:\n",
        "  novoX = pd.DataFrame()\n",
        "  novoY = pd.DataFrame()\n",
        "  pos = som.winner(i)\n",
        "  arraybi = np.asarray(pos)\n",
        "  coordX = arraybi[:,0]\n",
        "  coordY = arraybi[:,1]\n",
        "  novoX[\"Vencedor semana \"+str(i)] = coordX\n",
        "  novoY[\"Vencedor semana \"+str(i)] = coordY\n",
        "  vencedorX.concat(novoX)\n",
        "  vencedorY.concat(novoY)"
      ],
      "execution_count": 0,
      "outputs": []
    },
    {
      "cell_type": "markdown",
      "metadata": {
        "id": "sGn-D2RbPmR-",
        "colab_type": "text"
      },
      "source": [
        "Escolhendo um caso específico para verificar o desempenho"
      ]
    },
    {
      "cell_type": "code",
      "metadata": {
        "id": "g0KcIb-QxwIz",
        "colab_type": "code",
        "colab": {}
      },
      "source": [
        "aluno = tabfinal.loc[tabfinal[\"idAluno\"]==\"5991cd870be9d42f2f68b90c\",:]\n",
        "aluno = aluno.iloc[:,44:62].values\n",
        "\n",
        "BomDesempenho = np.zeros((tamanhoXdaRede,tamanhoYdaRede))\n",
        "\n",
        "cont = 0\n",
        "\n",
        "for x in range(tamanhoXdaRede): \n",
        "  pos = som.winner(x)    \n",
        "  BomDesempenho[pos] += 1"
      ],
      "execution_count": 0,
      "outputs": []
    },
    {
      "cell_type": "markdown",
      "metadata": {
        "id": "4OL0evXa3oUO",
        "colab_type": "text"
      },
      "source": [
        "Neste trecho este código cria uma tupla com as posições do vencedores e depois adiciona a um ndarray, que vai separar o trecho em vencedores de x e y"
      ]
    },
    {
      "cell_type": "code",
      "metadata": {
        "id": "MB8o7HSx1g8-",
        "colab_type": "code",
        "colab": {}
      },
      "source": [
        "t = ()\n",
        "for x in range(tamanhoXdaRede): \n",
        "  pos = som.winner(x)    \n",
        "  t = t + (pos,)\n",
        "\n",
        "arraybi = np.asarray(t)\n",
        "vencedoresX = arraybi[:,0]\n",
        "vencedoresY = arraybi[:,1]"
      ],
      "execution_count": 0,
      "outputs": []
    },
    {
      "cell_type": "code",
      "metadata": {
        "id": "B-EwpaGxC-Nb",
        "colab_type": "code",
        "colab": {}
      },
      "source": [
        ""
      ],
      "execution_count": 0,
      "outputs": []
    },
    {
      "cell_type": "code",
      "metadata": {
        "id": "ds_0h5L_T15D",
        "colab_type": "code",
        "colab": {}
      },
      "source": [
        "def selecionaVencedorEInsereEmSemanas(vencedorX,vencedorY):\n",
        "  t = ()\n",
        "  for x in range(tamanhoXdaRede):\n",
        "    pos = som.winner(x)\n",
        "    MContT[pos] += 1"
      ],
      "execution_count": 0,
      "outputs": []
    }
  ]
}